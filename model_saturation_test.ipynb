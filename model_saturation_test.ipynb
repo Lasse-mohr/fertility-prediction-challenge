{
 "cells": [
  {
   "cell_type": "code",
   "execution_count": 1,
   "id": "c9914262-7a3e-4e3a-9e07-043d40efd79b",
   "metadata": {},
   "outputs": [],
   "source": [
    "# Data packages\n",
    "import pandas as pd \n",
    "import matplotlib.pyplot as plt\n",
    "\n",
    "from tqdm import tqdm\n",
    "import numpy as np\n",
    "\n",
    "import torch\n",
    "import torch.nn as nn\n",
    "import torch.nn.functional as F\n",
    "import torch.optim as optim\n",
    "from torch.utils.data import DataLoader\n",
    "\n",
    "from sklearn.model_selection import train_test_split\n",
    "from sklearn.metrics import precision_recall_fscore_support, average_precision_score\n",
    "\n",
    "from model.utils import get_device, generate_predictions\n",
    "\n",
    "from data_processing.pipeline import encoding_pipeline, get_generic_name\n",
    "\n",
    "from model.rnn import GRUDecoder\n",
    "from model.autoencoder import SimpleAutoEncoder\n",
    "from model.autoencoder import TabularEncoder\n",
    "\n",
    "from model.dataset import PretrainingDataset"
   ]
  },
  {
   "cell_type": "code",
   "execution_count": 2,
   "id": "18aee1dd-7884-40e7-be05-db070f1a452c",
   "metadata": {},
   "outputs": [
    {
     "name": "stdout",
     "output_type": "stream",
     "text": [
      "Using MPS (Metal Performance Shaders) device\n"
     ]
    }
   ],
   "source": [
    "device = get_device()\n",
    "# read in data and prepare transformations\n",
    "data = pd.read_csv(\"data/training_data/PreFer_train_data.csv\", low_memory=False)\n",
    "targets = pd.read_csv('data/training_data/PreFer_train_outcome.csv')\n",
    "codebook = pd.read_csv('data/codebooks/PreFer_codebook.csv')\n",
    "importance = pd.read_csv('data/feature_importance/features_importance_xgboost.csv')"
   ]
  },
  {
   "cell_type": "markdown",
   "id": "816a65b0",
   "metadata": {},
   "source": [
    "# What is the effect of increasing the number of questions?\n",
    "\n",
    "## Pretraining\n",
    "I pretrain on all the data. Currently, I only use the Attn-based autoencoder as it seems to train the fastest.\n",
    "\n",
    "## Finetuning\n",
    "We perform 5-fold cross validation for the FT."
   ]
  },
  {
   "cell_type": "markdown",
   "id": "ddf25b90",
   "metadata": {},
   "source": [
    "### Pretraining"
   ]
  },
  {
   "cell_type": "code",
   "execution_count": 3,
   "id": "9ce5674d",
   "metadata": {},
   "outputs": [],
   "source": [
    "# set parameters for the PT\n",
    "PT_BATCH_SIZE = 64\n",
    "PT_HIDDEN_SIZE = 64\n",
    "PT_ENCODING_SIZE = 64\n",
    "PT_NUM_HEADS = 3\n",
    "PT_NUM_LAYERS = 2\n",
    "\n",
    "PT_num_epochs = 1\n",
    "PT_learning_rate = 1e-4\n",
    "\n",
    "n_questions = [50]#, 100, 500, 1000, 5000, 10000]#, 1000, 2000, 4000, 8000, 16000, 27000]\n",
    "#n_questions = [10000, 5000, 1000, 500, 50]#, 1000, 2000, 4000, 8000, 16000, 27000]\n",
    "PT_base_model_path = model_name = f\"saturation_test_PT_nquestions\""
   ]
  },
  {
   "cell_type": "code",
   "execution_count": 4,
   "id": "310ee27e",
   "metadata": {},
   "outputs": [
    {
     "name": "stdout",
     "output_type": "stream",
     "text": [
      "Number of questions: 50, question pr. year 43\n"
     ]
    },
    {
     "name": "stderr",
     "output_type": "stream",
     "text": [
      "/Users/lmmi/fertility-prediction-challenge/data_processing/pipeline.py:32: SettingWithCopyWarning: \n",
      "A value is trying to be set on a copy of a slice from a DataFrame.\n",
      "Try using .loc[row_indexer,col_indexer] = value instead\n",
      "\n",
      "See the caveats in the documentation: https://pandas.pydata.org/pandas-docs/stable/user_guide/indexing.html#returning-a-view-versus-a-copy\n",
      "  codebook[\"pairs\"] = codebook['var_name'].apply(get_generic_name)\n"
     ]
    },
    {
     "name": "stdout",
     "output_type": "stream",
     "text": [
      "Embedding Layer with Question Embdeddings\n"
     ]
    },
    {
     "name": "stderr",
     "output_type": "stream",
     "text": [
      "Epochs 0: 0it [00:00, ?it/s]\n"
     ]
    },
    {
     "ename": "RuntimeError",
     "evalue": "shape '[64, 42, 3, 21]' is invalid for input of size 172032",
     "output_type": "error",
     "traceback": [
      "\u001b[0;31m---------------------------------------------------------------------------\u001b[0m",
      "\u001b[0;31mRuntimeError\u001b[0m                              Traceback (most recent call last)",
      "Cell \u001b[0;32mIn[4], line 37\u001b[0m\n\u001b[1;32m     34\u001b[0m input_seq \u001b[38;5;241m=\u001b[39m seq\u001b[38;5;241m.\u001b[39mto(device)\n\u001b[1;32m     36\u001b[0m seq, targs \u001b[38;5;241m=\u001b[39m generate_predictions(input_seq, vocab_size \u001b[38;5;241m=\u001b[39m VOCAB_SIZE, p \u001b[38;5;241m=\u001b[39m \u001b[38;5;241m0.3\u001b[39m, missing_token_id\u001b[38;5;241m=\u001b[39m\u001b[38;5;241m101\u001b[39m)\n\u001b[0;32m---> 37\u001b[0m x \u001b[38;5;241m=\u001b[39m \u001b[43mencoder\u001b[49m\u001b[38;5;241;43m.\u001b[39;49m\u001b[43mforward\u001b[49m\u001b[43m(\u001b[49m\u001b[43myear\u001b[49m\u001b[43m \u001b[49m\u001b[38;5;241;43m=\u001b[39;49m\u001b[43m \u001b[49m\u001b[43myear\u001b[49m\u001b[43m,\u001b[49m\u001b[43m \u001b[49m\u001b[43mseq\u001b[49m\u001b[38;5;241;43m=\u001b[39;49m\u001b[43mseq\u001b[49m\u001b[43m)\u001b[49m\n\u001b[1;32m     39\u001b[0m loss \u001b[38;5;241m=\u001b[39m loss_cls(x\u001b[38;5;241m.\u001b[39mpermute(\u001b[38;5;241m0\u001b[39m,\u001b[38;5;241m2\u001b[39m,\u001b[38;5;241m1\u001b[39m), targs\u001b[38;5;241m.\u001b[39mlong())\n\u001b[1;32m     41\u001b[0m \u001b[38;5;66;03m# store loss for plotting\u001b[39;00m\n",
      "File \u001b[0;32m~/fertility-prediction-challenge/model/autoencoder.py:153\u001b[0m, in \u001b[0;36mTabularEncoder.forward\u001b[0;34m(self, year, seq)\u001b[0m\n\u001b[1;32m    151\u001b[0m x \u001b[38;5;241m=\u001b[39m \u001b[38;5;28mself\u001b[39m\u001b[38;5;241m.\u001b[39membedding(year, seq)\n\u001b[1;32m    152\u001b[0m \u001b[38;5;28;01mfor\u001b[39;00m encoder \u001b[38;5;129;01min\u001b[39;00m \u001b[38;5;28mself\u001b[39m\u001b[38;5;241m.\u001b[39mencoders:\n\u001b[0;32m--> 153\u001b[0m     x \u001b[38;5;241m=\u001b[39m \u001b[43mencoder\u001b[49m\u001b[43m(\u001b[49m\u001b[43mx\u001b[49m\u001b[43m)\u001b[49m\n\u001b[1;32m    154\u001b[0m x \u001b[38;5;241m=\u001b[39m \u001b[38;5;28mself\u001b[39m\u001b[38;5;241m.\u001b[39mdecoder(x)\n\u001b[1;32m    155\u001b[0m \u001b[38;5;28;01mreturn\u001b[39;00m x\n",
      "File \u001b[0;32m/opt/anaconda3/envs/PreFer/lib/python3.12/site-packages/torch/nn/modules/module.py:1511\u001b[0m, in \u001b[0;36mModule._wrapped_call_impl\u001b[0;34m(self, *args, **kwargs)\u001b[0m\n\u001b[1;32m   1509\u001b[0m     \u001b[38;5;28;01mreturn\u001b[39;00m \u001b[38;5;28mself\u001b[39m\u001b[38;5;241m.\u001b[39m_compiled_call_impl(\u001b[38;5;241m*\u001b[39margs, \u001b[38;5;241m*\u001b[39m\u001b[38;5;241m*\u001b[39mkwargs)  \u001b[38;5;66;03m# type: ignore[misc]\u001b[39;00m\n\u001b[1;32m   1510\u001b[0m \u001b[38;5;28;01melse\u001b[39;00m:\n\u001b[0;32m-> 1511\u001b[0m     \u001b[38;5;28;01mreturn\u001b[39;00m \u001b[38;5;28;43mself\u001b[39;49m\u001b[38;5;241;43m.\u001b[39;49m\u001b[43m_call_impl\u001b[49m\u001b[43m(\u001b[49m\u001b[38;5;241;43m*\u001b[39;49m\u001b[43margs\u001b[49m\u001b[43m,\u001b[49m\u001b[43m \u001b[49m\u001b[38;5;241;43m*\u001b[39;49m\u001b[38;5;241;43m*\u001b[39;49m\u001b[43mkwargs\u001b[49m\u001b[43m)\u001b[49m\n",
      "File \u001b[0;32m/opt/anaconda3/envs/PreFer/lib/python3.12/site-packages/torch/nn/modules/module.py:1520\u001b[0m, in \u001b[0;36mModule._call_impl\u001b[0;34m(self, *args, **kwargs)\u001b[0m\n\u001b[1;32m   1515\u001b[0m \u001b[38;5;66;03m# If we don't have any hooks, we want to skip the rest of the logic in\u001b[39;00m\n\u001b[1;32m   1516\u001b[0m \u001b[38;5;66;03m# this function, and just call forward.\u001b[39;00m\n\u001b[1;32m   1517\u001b[0m \u001b[38;5;28;01mif\u001b[39;00m \u001b[38;5;129;01mnot\u001b[39;00m (\u001b[38;5;28mself\u001b[39m\u001b[38;5;241m.\u001b[39m_backward_hooks \u001b[38;5;129;01mor\u001b[39;00m \u001b[38;5;28mself\u001b[39m\u001b[38;5;241m.\u001b[39m_backward_pre_hooks \u001b[38;5;129;01mor\u001b[39;00m \u001b[38;5;28mself\u001b[39m\u001b[38;5;241m.\u001b[39m_forward_hooks \u001b[38;5;129;01mor\u001b[39;00m \u001b[38;5;28mself\u001b[39m\u001b[38;5;241m.\u001b[39m_forward_pre_hooks\n\u001b[1;32m   1518\u001b[0m         \u001b[38;5;129;01mor\u001b[39;00m _global_backward_pre_hooks \u001b[38;5;129;01mor\u001b[39;00m _global_backward_hooks\n\u001b[1;32m   1519\u001b[0m         \u001b[38;5;129;01mor\u001b[39;00m _global_forward_hooks \u001b[38;5;129;01mor\u001b[39;00m _global_forward_pre_hooks):\n\u001b[0;32m-> 1520\u001b[0m     \u001b[38;5;28;01mreturn\u001b[39;00m \u001b[43mforward_call\u001b[49m\u001b[43m(\u001b[49m\u001b[38;5;241;43m*\u001b[39;49m\u001b[43margs\u001b[49m\u001b[43m,\u001b[49m\u001b[43m \u001b[49m\u001b[38;5;241;43m*\u001b[39;49m\u001b[38;5;241;43m*\u001b[39;49m\u001b[43mkwargs\u001b[49m\u001b[43m)\u001b[49m\n\u001b[1;32m   1522\u001b[0m \u001b[38;5;28;01mtry\u001b[39;00m:\n\u001b[1;32m   1523\u001b[0m     result \u001b[38;5;241m=\u001b[39m \u001b[38;5;28;01mNone\u001b[39;00m\n",
      "File \u001b[0;32m/opt/anaconda3/envs/PreFer/lib/python3.12/site-packages/torch/nn/modules/container.py:217\u001b[0m, in \u001b[0;36mSequential.forward\u001b[0;34m(self, input)\u001b[0m\n\u001b[1;32m    215\u001b[0m \u001b[38;5;28;01mdef\u001b[39;00m \u001b[38;5;21mforward\u001b[39m(\u001b[38;5;28mself\u001b[39m, \u001b[38;5;28minput\u001b[39m):\n\u001b[1;32m    216\u001b[0m     \u001b[38;5;28;01mfor\u001b[39;00m module \u001b[38;5;129;01min\u001b[39;00m \u001b[38;5;28mself\u001b[39m:\n\u001b[0;32m--> 217\u001b[0m         \u001b[38;5;28minput\u001b[39m \u001b[38;5;241m=\u001b[39m \u001b[43mmodule\u001b[49m\u001b[43m(\u001b[49m\u001b[38;5;28;43minput\u001b[39;49m\u001b[43m)\u001b[49m\n\u001b[1;32m    218\u001b[0m     \u001b[38;5;28;01mreturn\u001b[39;00m \u001b[38;5;28minput\u001b[39m\n",
      "File \u001b[0;32m/opt/anaconda3/envs/PreFer/lib/python3.12/site-packages/torch/nn/modules/module.py:1511\u001b[0m, in \u001b[0;36mModule._wrapped_call_impl\u001b[0;34m(self, *args, **kwargs)\u001b[0m\n\u001b[1;32m   1509\u001b[0m     \u001b[38;5;28;01mreturn\u001b[39;00m \u001b[38;5;28mself\u001b[39m\u001b[38;5;241m.\u001b[39m_compiled_call_impl(\u001b[38;5;241m*\u001b[39margs, \u001b[38;5;241m*\u001b[39m\u001b[38;5;241m*\u001b[39mkwargs)  \u001b[38;5;66;03m# type: ignore[misc]\u001b[39;00m\n\u001b[1;32m   1510\u001b[0m \u001b[38;5;28;01melse\u001b[39;00m:\n\u001b[0;32m-> 1511\u001b[0m     \u001b[38;5;28;01mreturn\u001b[39;00m \u001b[38;5;28;43mself\u001b[39;49m\u001b[38;5;241;43m.\u001b[39;49m\u001b[43m_call_impl\u001b[49m\u001b[43m(\u001b[49m\u001b[38;5;241;43m*\u001b[39;49m\u001b[43margs\u001b[49m\u001b[43m,\u001b[49m\u001b[43m \u001b[49m\u001b[38;5;241;43m*\u001b[39;49m\u001b[38;5;241;43m*\u001b[39;49m\u001b[43mkwargs\u001b[49m\u001b[43m)\u001b[49m\n",
      "File \u001b[0;32m/opt/anaconda3/envs/PreFer/lib/python3.12/site-packages/torch/nn/modules/module.py:1520\u001b[0m, in \u001b[0;36mModule._call_impl\u001b[0;34m(self, *args, **kwargs)\u001b[0m\n\u001b[1;32m   1515\u001b[0m \u001b[38;5;66;03m# If we don't have any hooks, we want to skip the rest of the logic in\u001b[39;00m\n\u001b[1;32m   1516\u001b[0m \u001b[38;5;66;03m# this function, and just call forward.\u001b[39;00m\n\u001b[1;32m   1517\u001b[0m \u001b[38;5;28;01mif\u001b[39;00m \u001b[38;5;129;01mnot\u001b[39;00m (\u001b[38;5;28mself\u001b[39m\u001b[38;5;241m.\u001b[39m_backward_hooks \u001b[38;5;129;01mor\u001b[39;00m \u001b[38;5;28mself\u001b[39m\u001b[38;5;241m.\u001b[39m_backward_pre_hooks \u001b[38;5;129;01mor\u001b[39;00m \u001b[38;5;28mself\u001b[39m\u001b[38;5;241m.\u001b[39m_forward_hooks \u001b[38;5;129;01mor\u001b[39;00m \u001b[38;5;28mself\u001b[39m\u001b[38;5;241m.\u001b[39m_forward_pre_hooks\n\u001b[1;32m   1518\u001b[0m         \u001b[38;5;129;01mor\u001b[39;00m _global_backward_pre_hooks \u001b[38;5;129;01mor\u001b[39;00m _global_backward_hooks\n\u001b[1;32m   1519\u001b[0m         \u001b[38;5;129;01mor\u001b[39;00m _global_forward_hooks \u001b[38;5;129;01mor\u001b[39;00m _global_forward_pre_hooks):\n\u001b[0;32m-> 1520\u001b[0m     \u001b[38;5;28;01mreturn\u001b[39;00m \u001b[43mforward_call\u001b[49m\u001b[43m(\u001b[49m\u001b[38;5;241;43m*\u001b[39;49m\u001b[43margs\u001b[49m\u001b[43m,\u001b[49m\u001b[43m \u001b[49m\u001b[38;5;241;43m*\u001b[39;49m\u001b[38;5;241;43m*\u001b[39;49m\u001b[43mkwargs\u001b[49m\u001b[43m)\u001b[49m\n\u001b[1;32m   1522\u001b[0m \u001b[38;5;28;01mtry\u001b[39;00m:\n\u001b[1;32m   1523\u001b[0m     result \u001b[38;5;241m=\u001b[39m \u001b[38;5;28;01mNone\u001b[39;00m\n",
      "File \u001b[0;32m/opt/anaconda3/envs/PreFer/lib/python3.12/site-packages/torch_frame/nn/conv/tab_transformer_conv.py:123\u001b[0m, in \u001b[0;36mTabTransformerConv.forward\u001b[0;34m(self, x)\u001b[0m\n\u001b[1;32m    121\u001b[0m \u001b[38;5;28;01mdef\u001b[39;00m \u001b[38;5;21mforward\u001b[39m(\u001b[38;5;28mself\u001b[39m, x: Tensor) \u001b[38;5;241m-\u001b[39m\u001b[38;5;241m>\u001b[39m Tensor:\n\u001b[1;32m    122\u001b[0m     x \u001b[38;5;241m=\u001b[39m \u001b[38;5;28mself\u001b[39m\u001b[38;5;241m.\u001b[39mnorm_1(x)\n\u001b[0;32m--> 123\u001b[0m     out \u001b[38;5;241m=\u001b[39m \u001b[38;5;28;43mself\u001b[39;49m\u001b[38;5;241;43m.\u001b[39;49m\u001b[43mattn\u001b[49m\u001b[43m(\u001b[49m\u001b[43mx\u001b[49m\u001b[43m)\u001b[49m\n\u001b[1;32m    124\u001b[0m     x \u001b[38;5;241m=\u001b[39m x \u001b[38;5;241m+\u001b[39m out\n\u001b[1;32m    125\u001b[0m     x \u001b[38;5;241m=\u001b[39m \u001b[38;5;28mself\u001b[39m\u001b[38;5;241m.\u001b[39mffn(x)\n",
      "File \u001b[0;32m/opt/anaconda3/envs/PreFer/lib/python3.12/site-packages/torch/nn/modules/module.py:1511\u001b[0m, in \u001b[0;36mModule._wrapped_call_impl\u001b[0;34m(self, *args, **kwargs)\u001b[0m\n\u001b[1;32m   1509\u001b[0m     \u001b[38;5;28;01mreturn\u001b[39;00m \u001b[38;5;28mself\u001b[39m\u001b[38;5;241m.\u001b[39m_compiled_call_impl(\u001b[38;5;241m*\u001b[39margs, \u001b[38;5;241m*\u001b[39m\u001b[38;5;241m*\u001b[39mkwargs)  \u001b[38;5;66;03m# type: ignore[misc]\u001b[39;00m\n\u001b[1;32m   1510\u001b[0m \u001b[38;5;28;01melse\u001b[39;00m:\n\u001b[0;32m-> 1511\u001b[0m     \u001b[38;5;28;01mreturn\u001b[39;00m \u001b[38;5;28;43mself\u001b[39;49m\u001b[38;5;241;43m.\u001b[39;49m\u001b[43m_call_impl\u001b[49m\u001b[43m(\u001b[49m\u001b[38;5;241;43m*\u001b[39;49m\u001b[43margs\u001b[49m\u001b[43m,\u001b[49m\u001b[43m \u001b[49m\u001b[38;5;241;43m*\u001b[39;49m\u001b[38;5;241;43m*\u001b[39;49m\u001b[43mkwargs\u001b[49m\u001b[43m)\u001b[49m\n",
      "File \u001b[0;32m/opt/anaconda3/envs/PreFer/lib/python3.12/site-packages/torch/nn/modules/module.py:1520\u001b[0m, in \u001b[0;36mModule._call_impl\u001b[0;34m(self, *args, **kwargs)\u001b[0m\n\u001b[1;32m   1515\u001b[0m \u001b[38;5;66;03m# If we don't have any hooks, we want to skip the rest of the logic in\u001b[39;00m\n\u001b[1;32m   1516\u001b[0m \u001b[38;5;66;03m# this function, and just call forward.\u001b[39;00m\n\u001b[1;32m   1517\u001b[0m \u001b[38;5;28;01mif\u001b[39;00m \u001b[38;5;129;01mnot\u001b[39;00m (\u001b[38;5;28mself\u001b[39m\u001b[38;5;241m.\u001b[39m_backward_hooks \u001b[38;5;129;01mor\u001b[39;00m \u001b[38;5;28mself\u001b[39m\u001b[38;5;241m.\u001b[39m_backward_pre_hooks \u001b[38;5;129;01mor\u001b[39;00m \u001b[38;5;28mself\u001b[39m\u001b[38;5;241m.\u001b[39m_forward_hooks \u001b[38;5;129;01mor\u001b[39;00m \u001b[38;5;28mself\u001b[39m\u001b[38;5;241m.\u001b[39m_forward_pre_hooks\n\u001b[1;32m   1518\u001b[0m         \u001b[38;5;129;01mor\u001b[39;00m _global_backward_pre_hooks \u001b[38;5;129;01mor\u001b[39;00m _global_backward_hooks\n\u001b[1;32m   1519\u001b[0m         \u001b[38;5;129;01mor\u001b[39;00m _global_forward_hooks \u001b[38;5;129;01mor\u001b[39;00m _global_forward_pre_hooks):\n\u001b[0;32m-> 1520\u001b[0m     \u001b[38;5;28;01mreturn\u001b[39;00m \u001b[43mforward_call\u001b[49m\u001b[43m(\u001b[49m\u001b[38;5;241;43m*\u001b[39;49m\u001b[43margs\u001b[49m\u001b[43m,\u001b[49m\u001b[43m \u001b[49m\u001b[38;5;241;43m*\u001b[39;49m\u001b[38;5;241;43m*\u001b[39;49m\u001b[43mkwargs\u001b[49m\u001b[43m)\u001b[49m\n\u001b[1;32m   1522\u001b[0m \u001b[38;5;28;01mtry\u001b[39;00m:\n\u001b[1;32m   1523\u001b[0m     result \u001b[38;5;241m=\u001b[39m \u001b[38;5;28;01mNone\u001b[39;00m\n",
      "File \u001b[0;32m/opt/anaconda3/envs/PreFer/lib/python3.12/site-packages/torch_frame/nn/conv/tab_transformer_conv.py:80\u001b[0m, in \u001b[0;36mSelfAttention.forward\u001b[0;34m(self, x)\u001b[0m\n\u001b[1;32m     78\u001b[0m B, num_cols, _ \u001b[38;5;241m=\u001b[39m x\u001b[38;5;241m.\u001b[39mshape\n\u001b[1;32m     79\u001b[0m Q, K, V \u001b[38;5;241m=\u001b[39m \u001b[38;5;28mself\u001b[39m\u001b[38;5;241m.\u001b[39mlin_q(x), \u001b[38;5;28mself\u001b[39m\u001b[38;5;241m.\u001b[39mlin_k(x), \u001b[38;5;28mself\u001b[39m\u001b[38;5;241m.\u001b[39mlin_v(x)\n\u001b[0;32m---> 80\u001b[0m Q \u001b[38;5;241m=\u001b[39m \u001b[38;5;28;43mself\u001b[39;49m\u001b[38;5;241;43m.\u001b[39;49m\u001b[43m_reshape\u001b[49m\u001b[43m(\u001b[49m\u001b[43mQ\u001b[49m\u001b[43m)\u001b[49m\n\u001b[1;32m     81\u001b[0m K \u001b[38;5;241m=\u001b[39m \u001b[38;5;28mself\u001b[39m\u001b[38;5;241m.\u001b[39m_reshape(K)  \u001b[38;5;66;03m# b * num_heads, num_cols, d_head\u001b[39;00m\n\u001b[1;32m     82\u001b[0m d_heads \u001b[38;5;241m=\u001b[39m V\u001b[38;5;241m.\u001b[39mshape[\u001b[38;5;241m-\u001b[39m\u001b[38;5;241m1\u001b[39m] \u001b[38;5;241m/\u001b[39m\u001b[38;5;241m/\u001b[39m \u001b[38;5;28mself\u001b[39m\u001b[38;5;241m.\u001b[39mnum_heads\n",
      "File \u001b[0;32m/opt/anaconda3/envs/PreFer/lib/python3.12/site-packages/torch_frame/nn/conv/tab_transformer_conv.py:72\u001b[0m, in \u001b[0;36mSelfAttention._reshape\u001b[0;34m(self, x)\u001b[0m\n\u001b[1;32m     70\u001b[0m B, num_cols, channels \u001b[38;5;241m=\u001b[39m x\u001b[38;5;241m.\u001b[39mshape\n\u001b[1;32m     71\u001b[0m d_head \u001b[38;5;241m=\u001b[39m channels \u001b[38;5;241m/\u001b[39m\u001b[38;5;241m/\u001b[39m \u001b[38;5;28mself\u001b[39m\u001b[38;5;241m.\u001b[39mnum_heads\n\u001b[0;32m---> 72\u001b[0m x \u001b[38;5;241m=\u001b[39m \u001b[43mx\u001b[49m\u001b[38;5;241;43m.\u001b[39;49m\u001b[43mreshape\u001b[49m\u001b[43m(\u001b[49m\u001b[43mB\u001b[49m\u001b[43m,\u001b[49m\u001b[43m \u001b[49m\u001b[43mnum_cols\u001b[49m\u001b[43m,\u001b[49m\u001b[43m \u001b[49m\u001b[38;5;28;43mself\u001b[39;49m\u001b[38;5;241;43m.\u001b[39;49m\u001b[43mnum_heads\u001b[49m\u001b[43m,\u001b[49m\u001b[43m \u001b[49m\u001b[43md_head\u001b[49m\u001b[43m)\u001b[49m\n\u001b[1;32m     73\u001b[0m x \u001b[38;5;241m=\u001b[39m x\u001b[38;5;241m.\u001b[39mtranspose(\u001b[38;5;241m1\u001b[39m, \u001b[38;5;241m2\u001b[39m)\n\u001b[1;32m     74\u001b[0m x \u001b[38;5;241m=\u001b[39m x\u001b[38;5;241m.\u001b[39mreshape(B \u001b[38;5;241m*\u001b[39m \u001b[38;5;28mself\u001b[39m\u001b[38;5;241m.\u001b[39mnum_heads, num_cols, d_head)\n",
      "\u001b[0;31mRuntimeError\u001b[0m: shape '[64, 42, 3, 21]' is invalid for input of size 172032"
     ]
    }
   ],
   "source": [
    "all_train_loss = []   # for plotting\n",
    "n_cols_list = []\n",
    "\n",
    "for n_quest in n_questions:\n",
    "    model_name = PT_base_model_path + '-' + str(n_quest)\n",
    "    print(model_name)\n",
    "\n",
    "    custom_pairs = importance.iloc[:n_quest].feature.map(lambda x: get_generic_name(x))\n",
    "    n_cols = len(set(custom_pairs))\n",
    "    n_cols_list = n_cols\n",
    "\n",
    "    print(f'Number of questions: {n_quest}, question pr. year {n_cols_list}')\n",
    "    \n",
    "    sequences = encoding_pipeline(data, codebook, custom_pairs=custom_pairs)\n",
    "    pretrain_dataset = PretrainingDataset(sequences)\n",
    "\n",
    "    SEQ_LEN = pretrain_dataset.get_seq_len()\n",
    "    VOCAB_SIZE = pretrain_dataset.get_vocab_size()\n",
    "    \n",
    "    encoder = TabularEncoder(vocab_size=VOCAB_SIZE, embedding_size=PT_HIDDEN_SIZE, output_size=PT_ENCODING_SIZE, \n",
    "                             num_heads=PT_NUM_HEADS, num_layers=PT_NUM_LAYERS, sequence_len=SEQ_LEN, \n",
    "                             layer_type = \"attn\", dropout=0.25, decoder_output=3).to(device)\n",
    "    \n",
    "    loss_cls = nn.CrossEntropyLoss(label_smoothing=0.01).to(device)\n",
    "    optimizer = optim.RAdam(encoder.parameters(), lr = PT_learning_rate, weight_decay=1e-3, decoupled_weight_decay=True)\n",
    "    scheduler = optim.lr_scheduler.CosineAnnealingLR(optimizer, T_max = PT_num_epochs, eta_min = 1e-5, last_epoch = -1)\n",
    "    \n",
    "    train_dataloader = DataLoader(pretrain_dataset, batch_size=PT_BATCH_SIZE, shuffle=True)\n",
    "\n",
    "    loss_metric = []\n",
    "    encoder.train()\n",
    "    for epoch in range(PT_num_epochs):\n",
    "        loss_epoch_metric = []\n",
    "        loop_object  = tqdm(enumerate(train_dataloader), desc=f\"Epochs {epoch}\")\n",
    "        for i, (year, seq) in loop_object :\n",
    "            optimizer.zero_grad()\n",
    "            year = year.to(device)\n",
    "            input_seq = seq.to(device)\n",
    "\n",
    "            seq, targs = generate_predictions(input_seq, vocab_size = VOCAB_SIZE, p = 0.3, missing_token_id=101)\n",
    "            x = encoder.forward(year = year, seq=seq)\n",
    "\n",
    "            loss = loss_cls(x.permute(0,2,1), targs.long())\n",
    "            \n",
    "            # store loss for plotting\n",
    "            loss_epoch_metric.append(loss.detach().cpu().numpy())\n",
    "            all_train_loss.append(loss_epoch_metric[-1])\n",
    "            n_cols_list.append(n_cols)\n",
    "\n",
    "            loss.backward()\n",
    "            optimizer.step()\n",
    "            loop_object.set_postfix_str(\"mean loss: %.4f\"%np.mean(loss_epoch_metric[-100:]))\n",
    "\n",
    "        ## After epoch end\n",
    "        scheduler.step()\n",
    "        loss_metric.append(np.mean(loss_epoch_metric))\n",
    "        print(f'epoch {epoch} \\t Loss: {loss_metric[-1]:.4g} and LR: {scheduler.get_last_lr()[0]:.5g}')\n",
    "        \n",
    "    torch.save(encoder.state_dict(), f'weights/{model_name}_{epoch}.pt')\n",
    "\n",
    "    print('')"
   ]
  },
  {
   "cell_type": "code",
   "execution_count": 25,
   "id": "da53dcf7",
   "metadata": {},
   "outputs": [
    {
     "data": {
      "text/plain": [
       "torch.Size([96, 3, 205])"
      ]
     },
     "execution_count": 25,
     "metadata": {},
     "output_type": "execute_result"
    }
   ],
   "source": [
    "#loss_cls(x.permute(0,2,1), targs.long())\n",
    "x.permute(0,2,1).shape"
   ]
  },
  {
   "cell_type": "code",
   "execution_count": null,
   "id": "a061d1b9",
   "metadata": {},
   "outputs": [
    {
     "name": "stdout",
     "output_type": "stream",
     "text": [
      "15966720\n",
      "16220160\n"
     ]
    }
   ],
   "source": [
    "print(128*1980*3*21)\n",
    "print(16220160)\n"
   ]
  },
  {
   "cell_type": "code",
   "execution_count": null,
   "id": "f6498399",
   "metadata": {},
   "outputs": [
    {
     "data": {
      "image/png": "[encoded data removed]",
      "text/plain": [
       "<Figure size 1000x600 with 1 Axes>"
      ]
     },
     "metadata": {},
     "output_type": "display_data"
    }
   ],
   "source": [
    "grouped_data = {}\n",
    "\n",
    "for i, col in enumerate(n_cols_list):\n",
    "    if col not in grouped_data:\n",
    "        grouped_data[col] = []\n",
    "    grouped_data[col].append(all_train_loss[i])\n",
    "\n",
    "\n",
    "plt.figure(figsize=(10, 6))\n",
    "\n",
    "for i, (col, loss_values) in enumerate(grouped_data.items()):\n",
    "    plt.plot(loss_values, label=f'Num columns: {col}', color = 'C' + str(i), alpha = 0.8)\n",
    "\n",
    "plt.ylabel('Loss cls')\n",
    "plt.legend()\n",
    "plt.show()"
   ]
  },
  {
   "cell_type": "markdown",
   "id": "72556ba5",
   "metadata": {},
   "source": [
    "### Finetuning\n",
    "\n",
    "\n",
    "The current setup does not do any cross-validation. Germans seems to have implemented it in train_experimental. Check it out and implement it for the cross-val"
   ]
  },
  {
   "cell_type": "code",
   "execution_count": null,
   "id": "63dcf620",
   "metadata": {},
   "outputs": [
    {
     "data": {
      "text/plain": [
       "5"
      ]
     },
     "execution_count": 211,
     "metadata": {},
     "output_type": "execute_result"
    }
   ],
   "source": [
    "from sklearn.model_selection import StratifiedKFold\n",
    "from model.dataset import FinetuningDataset\n",
    "\n",
    "FT_BATCH_SIZE = 16\n",
    "FT_ENCODING_SIZE = 64\n",
    "FT_HIDDEN_SIZE = 64\n",
    "FT_NUM_LAYERS = 2\n",
    "FT_LEARNING_RATE= 5e-3\n",
    "FT_NUM_EPOCHS = 3\n",
    "k_folds = 5\n",
    "\n",
    "targets = pd.read_csv('data/training_data/PreFer_train_outcome.csv')\n",
    "targets = targets[targets.new_child.notna()].reset_index(drop=True)\n",
    "skf = StratifiedKFold(n_splits=k_folds)\n",
    "\n",
    "skf.get_n_splits(y=targets['nomem_encr'])"
   ]
  },
  {
   "cell_type": "code",
   "execution_count": null,
   "id": "7b0ec4f5",
   "metadata": {},
   "outputs": [],
   "source": [
    "import re\n",
    "import os\n",
    "\n",
    "def load_autoencoder(model_name, directory='weights'):\n",
    "    # Regular expression to match the file format and extract the epoch number\n",
    "    pattern = re.compile(rf'{model_name}_(\\d+)\\.pt')\n",
    "    \n",
    "    max_epoch = -1\n",
    "    latest_model_path = None\n",
    "    \n",
    "    # Iterate over all files in the directory\n",
    "    for filename in os.listdir(directory):\n",
    "        # Check if the filename matches the pattern\n",
    "        match = pattern.match(filename)\n",
    "        if match:\n",
    "            # Extract the epoch number\n",
    "            epoch = int(match.group(1))\n",
    "            # Update the latest model path if this epoch is the highest so far\n",
    "            if epoch > max_epoch:\n",
    "                max_epoch = epoch\n",
    "                latest_model_path = os.path.join(directory, filename)\n",
    "    \n",
    "    # Load the model from the latest model path\n",
    "    if latest_model_path:\n",
    "        model = torch.load(latest_model_path)\n",
    "        print(f\"Loaded model from {latest_model_path}\")\n",
    "        return model\n",
    "    else:\n",
    "        raise FileNotFoundError(f\"No model files found for {model_name} in {directory}\")"
   ]
  },
  {
   "cell_type": "code",
   "execution_count": null,
   "id": "e56899a2",
   "metadata": {},
   "outputs": [],
   "source": [
    "ft_all_train_loss = []\n",
    "ft_n_cols_list = []\n",
    "\n",
    "\n",
    "for n_quest in n_questions:\n",
    "    autoencoder_name = PT_base_model_path + str(n_quest)\n",
    "    custom_pairs = importance.iloc[:n_quest].feature.map(lambda x: get_generic_name(x))\n",
    "    n_cols_list = len(set(custom_pairs))\n",
    "    print(f'Number of questions: {n_quest}, question pr. year {n_cols_list}')\n",
    "    \n",
    "    sequences = encoding_pipeline(data, codebook, custom_pairs=custom_pairs)\n",
    "    pretrain_dataset = PretrainingDataset(sequences)\n",
    "\n",
    "    SEQ_LEN = pretrain_dataset.get_seq_len()\n",
    "    VOCAB_SIZE = pretrain_dataset.get_vocab_size()\n",
    "    \n",
    "    # requires that the autoencoders have been trained for given value of n_quest\n",
    "    encoder = load_autoencoder(model_name=autoencoder_name)\n",
    "    encoder.eval()\n",
    "\n",
    "    decoder = GRUDecoder(input_size=FT_ENCODING_SIZE, hidden_size=FT_HIDDEN_SIZE, num_layers=FT_NUM_LAYERS, max_seq_len=14,\n",
    "                            dropout=0.3, bidirectional=False, with_attention = True).to(device)\n",
    "    decoder.train()\n",
    "\n",
    "    # Define loss function and optimizer for RNN\n",
    "    ft_loss = nn.BCELoss()\n",
    "    ft_optimizer = torch.optim.NAdam(list(decoder.parameters()), lr=FT_LEARNING_RATE,\n",
    "                                     weight_decay=1e-2, decoupled_weight_decay=True)\n",
    "    ft_scheduler = optim.lr_scheduler.CosineAnnealingLR(ft_optimizer, T_max = FT_NUM_EPOCHS,\n",
    "                                                        eta_min = 1e-6, last_epoch = -1)\n",
    "\n",
    "    rnn_data = {\n",
    "        person_id: (\n",
    "            torch.tensor([year-2007 for year, _ in wave_responses.items()]).to(device),\n",
    "            torch.tensor([wave_response for _, wave_response in wave_responses.items()]).to(device)\n",
    "            )\n",
    "            for person_id, wave_responses in sequences.items()\n",
    "    }\n",
    "\n",
    "    train_person_ids, test_person_ids = train_test_split(targets['nomem_encr'], test_size=0.2, random_state=42)\n",
    "    train_data = {person_id: rnn_data[person_id] for person_id in train_person_ids}\n",
    "    test_data = {person_id: rnn_data[person_id] for person_id in test_person_ids}\n",
    "\n",
    "    # prepare the data for finetuning\n",
    "    train_dataset = FinetuningDataset(train_data, targets = targets)\n",
    "    test_dataset = FinetuningDataset(test_data, targets = targets)\n",
    "\n",
    "    train_dataloader = DataLoader(train_dataset, batch_size=FT_BATCH_SIZE, shuffle=True)\n",
    "    test_dataloader  = DataLoader(test_dataset,  batch_size=FT_BATCH_SIZE)\n",
    "    \n",
    "    loss_per_epoch = []\n",
    "    for epoch in range(FT_NUM_EPOCHS):\n",
    "        # print(epoch)\n",
    "        loss_per_step = []\n",
    "        loop_object  = tqdm(enumerate(train_dataloader), desc=f\"Epochs {epoch}\")\n",
    "        for i, batch in loop_object :        \n",
    "            ft_optimizer.zero_grad() \n",
    "            inputs, labels = batch\n",
    "            labels = labels.to(torch.float).to(device)\n",
    "\n",
    "            input_year, input_seq = inputs\n",
    "            bs, ss = labels.size(0), 14\n",
    "            input_year = input_year.reshape(-1).to(device)\n",
    "            input_seq = input_seq.reshape(bs * ss, -1).to(device)\n",
    "\n",
    "            encodings = encoder.get_encoding(input_year, input_seq).view(bs,ss, -1)\n",
    "            mask = ~((input_seq == 101).sum(-1) == SEQ_LEN).view(bs,ss).detach()\n",
    "\n",
    "            # Forward pass\n",
    "            outputs = nn.functional.sigmoid(decoder(encodings, mask=mask))\n",
    "\n",
    "            loss = ft_loss(torch.flatten(outputs), labels)  \n",
    "            loss_per_step.append(loss.detach().cpu().numpy())\n",
    "            loop_object.set_postfix_str(\"mean loss: %.3f\"%np.mean(loss_per_step[-100:]))\n",
    "\n",
    "            #loss.backward(retain_graph=True)\n",
    "            loss.backward()\n",
    "            ft_optimizer.step()\n",
    "        # On epoch end\n",
    "        loss_per_epoch.append(np.mean(loss_per_step))\n",
    "        ft_scheduler.step()\n",
    "\n",
    "        print(f\"Epoch {epoch+1}/{FT_NUM_EPOCHS}, Loss: {loss_per_epoch[-1]:.4f}\")"
   ]
  },
  {
   "cell_type": "code",
   "execution_count": null,
   "id": "794aee9e",
   "metadata": {},
   "outputs": [],
   "source": []
  },
  {
   "cell_type": "code",
   "execution_count": null,
   "id": "1dddd652",
   "metadata": {},
   "outputs": [],
   "source": []
  },
  {
   "cell_type": "code",
   "execution_count": null,
   "id": "7decf91c",
   "metadata": {},
   "outputs": [],
   "source": []
  },
  {
   "cell_type": "code",
   "execution_count": null,
   "id": "234cac3b",
   "metadata": {},
   "outputs": [],
   "source": []
  },
  {
   "cell_type": "markdown",
   "id": "8a3799f9",
   "metadata": {},
   "source": [
    "# Old tests"
   ]
  },
  {
   "cell_type": "code",
   "execution_count": null,
   "id": "df7ef1e0",
   "metadata": {},
   "outputs": [],
   "source": [
    "def finetune(num_epochs_ft, train_dataloader, autoencoder, decoder, ft_loss, ft_optimizer, aggregator, num_cols):\n",
    "    for epoch in range(num_epochs_ft):\n",
    "        # print(epoch)\n",
    "        loop_object  = tqdm(enumerate(train_dataloader), desc=f\"Epochs {epoch}\")\n",
    "        for i, batch in loop_object :        \n",
    "            ft_optimizer.zero_grad() \n",
    "            inputs, labels = batch\n",
    "            labels = labels.to(torch.float).to(device)\n",
    "\n",
    "            input_year, input_seq = inputs\n",
    "            bs, ss = labels.size(0), 14\n",
    "            input_year = input_year.reshape(-1).to(device)\n",
    "            input_seq = input_seq.reshape(bs * ss, -1).to(device)\n",
    "\n",
    "            encodings = autoencoder.get_encoding(input_year, input_seq).view(bs,ss, -1)\n",
    "            encodings = aggregator(encodings) # make sure that the number of dimensions is aligned after the Simple Decoder\n",
    "            mask = ~((input_seq == 101).sum(-1) == num_cols).view(bs,ss).detach()\n",
    "\n",
    "            # Forward pass\n",
    "            xx = decoder(encodings, mask)\n",
    "            outputs = F.sigmoid(xx)\n",
    "\n",
    "            loss = ft_loss(torch.flatten(outputs), labels)  \n",
    "\n",
    "            #loss.backward(retain_graph=True)\n",
    "            loss.backward()\n",
    "            ft_optimizer.step()"
   ]
  },
  {
   "cell_type": "code",
   "execution_count": null,
   "id": "9011e5c0",
   "metadata": {},
   "outputs": [],
   "source": [
    "def evaluate(dataloader, encoder, decoder, num_cols, aggregator):\n",
    "    val_loss = []\n",
    "    preds = []\n",
    "    targets = []\n",
    "\n",
    "    ## Set both models into the eval mode\n",
    "    decoder.eval()\n",
    "    encoder.eval()\n",
    "    for batch in dataloader:\n",
    "        inputs, labels = batch\n",
    "        labels = labels.to(torch.float).to(device)\n",
    "\n",
    "        input_year, input_seq = inputs\n",
    "        bs, ss = labels.size(0), 14\n",
    "        input_year = input_year.reshape(-1).to(device)\n",
    "        input_seq = input_seq.reshape(bs * ss, -1).to(device)\n",
    "\n",
    "        encodings = encoder.get_encoding(input_year, input_seq).view(bs,ss, -1)\n",
    "        encodings = aggregator(encodings) # make sure that the number of dimensions is aligned after the Simple Decoder\n",
    "        mask = ~((input_seq == 101).sum(-1) == num_cols).view(bs,ss).detach()\n",
    "\n",
    "        # Forward pass\n",
    "        xx = decoder(encodings, mask)\n",
    "        outputs = torch.nn.functional.sigmoid(xx).flatten()\n",
    "        loss = ft_loss(outputs, labels)  \n",
    "        val_loss.append(loss.detach().cpu().numpy())\n",
    "        preds.extend(outputs.detach().cpu().numpy().tolist())\n",
    "        targets.extend(labels.cpu().numpy().tolist())\n",
    "\n",
    "\n",
    "    # Concatenate all the batches\n",
    "    predictions = (torch.tensor(preds) > 0.5).float()\n",
    "    probs = F.sigmoid(predictions)\n",
    "    actuals = torch.tensor(targets).flatten()\n",
    "\n",
    "    # Calculate precision, recall, and F1 score\n",
    "    precision, recall, f1, _ = precision_recall_fscore_support(actuals.cpu().numpy(), predictions.cpu().numpy(), average='binary')\n",
    "    map_roc = average_precision_score(actuals.numpy(), probs.numpy())\n",
    "    \n",
    "    return precision, recall, f1, map_roc"
   ]
  },
  {
   "cell_type": "code",
   "execution_count": null,
   "id": "08697fa9",
   "metadata": {},
   "outputs": [],
   "source": [
    "PT_HIDDEN_DIM=128\n",
    "PT_BATCH_SIZE=128\n",
    "PT_NUM_EPOCHS=5\n",
    "PT_LEARNING_RATE=10e-2\n",
    "\n",
    "FT_BATCH_SIZE = 16\n",
    "FT_ENCODING_SIZE = 64\n",
    "FT_HIDDEN_SIZE = 64\n",
    "\n",
    "FT_NUM_EPOCHS = 3\n",
    "FT_LEARNING_RATE= 5e-3\n",
    "n_questions = [50, 100, 200, 500]#, 1000, 2000, 4000, 8000, 16000, 27000]\n",
    "reps = 1\n",
    "\n",
    "targets = targets[targets.new_child.notna()].reset_index(drop=True)"
   ]
  },
  {
   "cell_type": "code",
   "execution_count": null,
   "id": "0a6fd488",
   "metadata": {},
   "outputs": [
    {
     "name": "stdout",
     "output_type": "stream",
     "text": [
      "50\n"
     ]
    },
    {
     "name": "stderr",
     "output_type": "stream",
     "text": [
      "/Users/lmmi/fertility-prediction-challenge/data_processing/pipeline.py:30: SettingWithCopyWarning: \n",
      "A value is trying to be set on a copy of a slice from a DataFrame.\n",
      "Try using .loc[row_indexer,col_indexer] = value instead\n",
      "\n",
      "See the caveats in the documentation: https://pandas.pydata.org/pandas-docs/stable/user_guide/indexing.html#returning-a-view-versus-a-copy\n",
      "  codebook[\"pairs\"] = codebook['var_name'].apply(get_generic_name)\n"
     ]
    },
    {
     "name": "stdout",
     "output_type": "stream",
     "text": [
      "check\n"
     ]
    },
    {
     "name": "stderr",
     "output_type": "stream",
     "text": [
      "Epochs 0: 702it [00:25, 27.53it/s]\n",
      "Epochs 1: 702it [00:23, 30.35it/s]\n",
      "Epochs 2: 702it [00:22, 31.45it/s]\n",
      "Epochs 3: 702it [00:22, 31.17it/s]\n",
      "Epochs 4: 702it [00:22, 30.70it/s]\n",
      "/opt/anaconda3/envs/PreFer/lib/python3.12/site-packages/torch/nn/modules/lazy.py:181: UserWarning: Lazy modules are a new feature under heavy development so changes to the API or functionality can happen at any moment.\n",
      "  warnings.warn('Lazy modules are a new feature under heavy development '\n",
      "Epochs 0: 50it [00:05,  9.00it/s]\n",
      "Epochs 1: 50it [00:05,  9.38it/s]\n",
      "Epochs 2: 50it [00:05,  9.48it/s]\n",
      "/opt/anaconda3/envs/PreFer/lib/python3.12/site-packages/sklearn/metrics/_classification.py:1509: UndefinedMetricWarning: Precision is ill-defined and being set to 0.0 due to no predicted samples. Use `zero_division` parameter to control this behavior.\n",
      "  _warn_prf(average, modifier, f\"{metric.capitalize()} is\", len(result))\n",
      "/opt/anaconda3/envs/PreFer/lib/python3.12/site-packages/sklearn/metrics/_classification.py:1509: UndefinedMetricWarning: Precision is ill-defined and being set to 0.0 due to no predicted samples. Use `zero_division` parameter to control this behavior.\n",
      "  _warn_prf(average, modifier, f\"{metric.capitalize()} is\", len(result))\n",
      "/Users/lmmi/fertility-prediction-challenge/data_processing/pipeline.py:30: SettingWithCopyWarning: \n",
      "A value is trying to be set on a copy of a slice from a DataFrame.\n",
      "Try using .loc[row_indexer,col_indexer] = value instead\n",
      "\n",
      "See the caveats in the documentation: https://pandas.pydata.org/pandas-docs/stable/user_guide/indexing.html#returning-a-view-versus-a-copy\n",
      "  codebook[\"pairs\"] = codebook['var_name'].apply(get_generic_name)\n"
     ]
    },
    {
     "name": "stdout",
     "output_type": "stream",
     "text": [
      "100\n",
      "check\n"
     ]
    },
    {
     "name": "stderr",
     "output_type": "stream",
     "text": [
      "Epochs 0: 702it [01:06, 10.58it/s]\n",
      "Epochs 1: 702it [00:58, 12.06it/s]\n",
      "Epochs 2: 702it [00:49, 14.11it/s]\n",
      "Epochs 3: 702it [00:47, 14.67it/s]\n",
      "Epochs 4: 702it [00:49, 14.04it/s]\n",
      "/opt/anaconda3/envs/PreFer/lib/python3.12/site-packages/torch/nn/modules/lazy.py:181: UserWarning: Lazy modules are a new feature under heavy development so changes to the API or functionality can happen at any moment.\n",
      "  warnings.warn('Lazy modules are a new feature under heavy development '\n",
      "Epochs 0: 50it [00:10,  4.79it/s]\n",
      "Epochs 1: 50it [00:09,  5.42it/s]\n",
      "Epochs 2: 50it [00:09,  5.34it/s]\n"
     ]
    },
    {
     "name": "stdout",
     "output_type": "stream",
     "text": [
      "200\n"
     ]
    },
    {
     "name": "stderr",
     "output_type": "stream",
     "text": [
      "/Users/lmmi/fertility-prediction-challenge/data_processing/pipeline.py:30: SettingWithCopyWarning: \n",
      "A value is trying to be set on a copy of a slice from a DataFrame.\n",
      "Try using .loc[row_indexer,col_indexer] = value instead\n",
      "\n",
      "See the caveats in the documentation: https://pandas.pydata.org/pandas-docs/stable/user_guide/indexing.html#returning-a-view-versus-a-copy\n",
      "  codebook[\"pairs\"] = codebook['var_name'].apply(get_generic_name)\n"
     ]
    },
    {
     "name": "stdout",
     "output_type": "stream",
     "text": [
      "check\n"
     ]
    },
    {
     "name": "stderr",
     "output_type": "stream",
     "text": [
      "Epochs 0: 702it [02:22,  4.91it/s]\n",
      "Epochs 1: 702it [02:04,  5.66it/s]\n",
      "Epochs 2: 702it [01:43,  6.78it/s]\n",
      "Epochs 3: 702it [01:31,  7.65it/s]\n",
      "Epochs 4: 702it [01:37,  7.22it/s]\n",
      "/opt/anaconda3/envs/PreFer/lib/python3.12/site-packages/torch/nn/modules/lazy.py:181: UserWarning: Lazy modules are a new feature under heavy development so changes to the API or functionality can happen at any moment.\n",
      "  warnings.warn('Lazy modules are a new feature under heavy development '\n",
      "Epochs 0: 50it [00:16,  3.11it/s]\n",
      "Epochs 1: 50it [00:15,  3.32it/s]\n",
      "Epochs 2: 50it [00:14,  3.39it/s]\n"
     ]
    },
    {
     "name": "stdout",
     "output_type": "stream",
     "text": [
      "500\n"
     ]
    },
    {
     "name": "stderr",
     "output_type": "stream",
     "text": [
      "/Users/lmmi/fertility-prediction-challenge/data_processing/pipeline.py:30: SettingWithCopyWarning: \n",
      "A value is trying to be set on a copy of a slice from a DataFrame.\n",
      "Try using .loc[row_indexer,col_indexer] = value instead\n",
      "\n",
      "See the caveats in the documentation: https://pandas.pydata.org/pandas-docs/stable/user_guide/indexing.html#returning-a-view-versus-a-copy\n",
      "  codebook[\"pairs\"] = codebook['var_name'].apply(get_generic_name)\n"
     ]
    },
    {
     "name": "stdout",
     "output_type": "stream",
     "text": [
      "check\n"
     ]
    },
    {
     "name": "stderr",
     "output_type": "stream",
     "text": [
      "Epochs 0: 702it [05:51,  2.00it/s]\n",
      "Epochs 1: 702it [04:12,  2.78it/s]\n",
      "Epochs 2: 702it [04:10,  2.80it/s]\n",
      "Epochs 3: 702it [31:34,  2.70s/it] \n",
      "Epochs 4: 702it [06:13,  1.88it/s]\n",
      "/opt/anaconda3/envs/PreFer/lib/python3.12/site-packages/torch/nn/modules/lazy.py:181: UserWarning: Lazy modules are a new feature under heavy development so changes to the API or functionality can happen at any moment.\n",
      "  warnings.warn('Lazy modules are a new feature under heavy development '\n",
      "Epochs 0: 50it [00:33,  1.47it/s]\n",
      "Epochs 1: 50it [00:32,  1.53it/s]\n",
      "Epochs 2: 50it [00:33,  1.50it/s]\n",
      "/opt/anaconda3/envs/PreFer/lib/python3.12/site-packages/sklearn/metrics/_classification.py:1509: UndefinedMetricWarning: Precision is ill-defined and being set to 0.0 due to no predicted samples. Use `zero_division` parameter to control this behavior.\n",
      "  _warn_prf(average, modifier, f\"{metric.capitalize()} is\", len(result))\n",
      "/opt/anaconda3/envs/PreFer/lib/python3.12/site-packages/sklearn/metrics/_classification.py:1509: UndefinedMetricWarning: Precision is ill-defined and being set to 0.0 due to no predicted samples. Use `zero_division` parameter to control this behavior.\n",
      "  _warn_prf(average, modifier, f\"{metric.capitalize()} is\", len(result))\n"
     ]
    }
   ],
   "source": [
    "prec_list = []\n",
    "rec_list = []\n",
    "f1_list = []\n",
    "train_prec_list = []\n",
    "train_rec_list = []\n",
    "train_f1_list = []\n",
    "\n",
    "n_question_list = []\n",
    "n_col_list = []\n",
    "\n",
    "train_person_ids, test_person_ids = train_test_split(targets['nomem_encr'], test_size=0.2, random_state=42)\n",
    "\n",
    "for n_question in n_questions:\n",
    "    print(n_question)\n",
    "    custom_pairs = importance.iloc[:n_question].feature.map(lambda x: get_generic_name(x))\n",
    "\n",
    "    sequences = encoding_pipeline(data, codebook, custom_pairs=custom_pairs)\n",
    "    pretrain_dataset = PretrainingDataset(sequences)\n",
    "    \n",
    "    SEQ_LEN = pretrain_dataset.get_seq_len()\n",
    "    vocab_size = pretrain_dataset.get_vocab_size()\n",
    "\n",
    "    pt_dataloader = DataLoader(pretrain_dataset, batch_size=PT_BATCH_SIZE, shuffle=True)\n",
    "\n",
    "    for rep in range(reps):\n",
    "\n",
    "        # initialize autoencoder and pretrain    \n",
    "        autoencoder = SimpleAutoEncoder(vocab_size=vocab_size, embedding_size=PT_HIDDEN_DIM, sequence_len=SEQ_LEN).to(device)\n",
    "        autoencoder.train()\n",
    "        autoencoder.to(device)\n",
    "\n",
    "        pt_loss_cls = nn.CrossEntropyLoss()\n",
    "        pt_optimizer = optim.RAdam(autoencoder.parameters(), lr = PT_LEARNING_RATE, weight_decay=1e-2, decoupled_weight_decay=True)\n",
    "        pt_scheduler = optim.lr_scheduler.CosineAnnealingLR(pt_optimizer, T_max = PT_NUM_EPOCHS, eta_min = 1e-5, last_epoch = -1)\n",
    "\n",
    "        autoencoder.train()\n",
    "        pretrain(pt_epochs=PT_NUM_EPOCHS,\n",
    "            train_dataloader=pt_dataloader,\n",
    "            autoencoder=autoencoder,\n",
    "            loss_pt=pt_loss_cls,\n",
    "            optimizer_pt=pt_optimizer,\n",
    "            scheduler_pt=pt_scheduler,\n",
    "            )\n",
    "        autoencoder.eval()\n",
    "\n",
    "        # initialize GRU and perform fine-tuning    \n",
    "\n",
    "        rnn_data = {\n",
    "            person_id: (\n",
    "                torch.tensor([year-2007 for year, _ in wave_responses.items()]).to(device),\n",
    "                torch.tensor([wave_response for _, wave_response in wave_responses.items()]).to(device)\n",
    "                )\n",
    "                for person_id, wave_responses in sequences.items()\n",
    "        }\n",
    "\n",
    "        train_data = {person_id: rnn_data[person_id] for person_id in train_person_ids}\n",
    "        test_data = {person_id: rnn_data[person_id] for person_id in test_person_ids}\n",
    "\n",
    "        train_dataset = FinetuningDataset(train_data, targets = targets)\n",
    "        test_dataset = FinetuningDataset(test_data, targets = targets)\n",
    "\n",
    "        train_dataloader = DataLoader(train_dataset, batch_size=FT_BATCH_SIZE, shuffle=True)\n",
    "        test_dataloader  = DataLoader(test_dataset,  batch_size=FT_BATCH_SIZE)\n",
    "\n",
    "        aggregator = nn.Sequential(\n",
    "            nn.LazyInstanceNorm1d(),\n",
    "            nn.LazyLinear(FT_ENCODING_SIZE),\n",
    "            nn.LazyBatchNorm1d()).to(device)\n",
    "\n",
    "        decoder = GRUDecoder(\n",
    "            input_size=FT_ENCODING_SIZE,\n",
    "            hidden_size=FT_HIDDEN_SIZE,\n",
    "            max_seq_len=14,\n",
    "            dropout=0.15,\n",
    "            bidirectional= False, \n",
    "            num_layers=2,\n",
    "            with_attention= True\n",
    "        ).to(device)\n",
    "\n",
    "        # Define loss function and optimizer for RNN\n",
    "        ft_loss = torch.nn.BCELoss()\n",
    "        ft_optimizer = torch.optim.RAdam(list(decoder.parameters()) + list(autoencoder.parameters()) + list(aggregator.parameters()) , \n",
    "                                                                           lr=FT_LEARNING_RATE, \n",
    "                                                                           weight_decay=1e-3, \n",
    "                                                                           decoupled_weight_decay=True)\n",
    "        ft_scheduler = optim.lr_scheduler.CosineAnnealingLR(ft_optimizer, T_max = FT_NUM_EPOCHS, eta_min = 1e-6, last_epoch = -1)\n",
    "\n",
    "        # Training loop\n",
    "        decoder.train()\n",
    "        aggregator.train()\n",
    "        \n",
    "        NUM_COLS = next(iter(train_dataloader))[0][1].shape[-1]\n",
    "        finetune(\n",
    "            num_epochs_ft=FT_NUM_EPOCHS,\n",
    "            train_dataloader=train_dataloader,\n",
    "            autoencoder=autoencoder,\n",
    "            ft_loss=ft_loss,\n",
    "            ft_optimizer=ft_optimizer,\n",
    "            decoder=decoder,\n",
    "            aggregator=aggregator,\n",
    "            num_cols=NUM_COLS\n",
    "        )\n",
    "        \n",
    "        precision, recall, f1, map_roc = evaluate(dataloader=test_dataloader,\n",
    "                                                encoder=autoencoder,\n",
    "                                                decoder=decoder,\n",
    "                                                num_cols=NUM_COLS,\n",
    "                                                aggregator=aggregator)\n",
    "        precision_train, recall_train, f1_train, map_roc_train = evaluate(dataloader=train_dataloader,\n",
    "                                                                          encoder=autoencoder,\n",
    "                                                                          decoder=decoder,\n",
    "                                                                          num_cols=NUM_COLS,\n",
    "                                                                          aggregator=aggregator\n",
    "                                                                          )\n",
    "        \n",
    "        prec_list.append(precision)\n",
    "        rec_list.append(recall)\n",
    "        f1_list.append(f1)\n",
    "\n",
    "        train_prec_list.append(precision_train)\n",
    "        train_rec_list.append(recall_train)\n",
    "        train_f1_list.append(f1_train)\n",
    "        \n",
    "        n_question_list.append(n_question)\n",
    "        n_col_list.append(NUM_COLS)"
   ]
  },
  {
   "cell_type": "code",
   "execution_count": null,
   "id": "7c81284a",
   "metadata": {},
   "outputs": [],
   "source": [
    "results = pd.DataFrame({\n",
    "    'Precision_test': prec_list,\n",
    "    'Recall_test': rec_list,\n",
    "    'f1_test': f1_list,\n",
    "    'Precision_train': train_prec_list,\n",
    "    'Recall_train': train_rec_list,\n",
    "    'f1_train': train_f1_list,\n",
    "    'n_questions': n_question_list\n",
    "    })\n",
    "#results.to_csv('saturation_results.csv')"
   ]
  },
  {
   "cell_type": "code",
   "execution_count": null,
   "id": "501989d3",
   "metadata": {},
   "outputs": [
    {
     "data": {
      "text/html": [
       "<div>\n",
       "<style scoped>\n",
       "    .dataframe tbody tr th:only-of-type {\n",
       "        vertical-align: middle;\n",
       "    }\n",
       "\n",
       "    .dataframe tbody tr th {\n",
       "        vertical-align: top;\n",
       "    }\n",
       "\n",
       "    .dataframe thead th {\n",
       "        text-align: right;\n",
       "    }\n",
       "</style>\n",
       "<table border=\"1\" class=\"dataframe\">\n",
       "  <thead>\n",
       "    <tr style=\"text-align: right;\">\n",
       "      <th></th>\n",
       "      <th>Precision_test</th>\n",
       "      <th>Recall_test</th>\n",
       "      <th>f1_test</th>\n",
       "      <th>Precision_train</th>\n",
       "      <th>Recall_train</th>\n",
       "      <th>f1_train</th>\n",
       "      <th>n_questions</th>\n",
       "    </tr>\n",
       "  </thead>\n",
       "  <tbody>\n",
       "    <tr>\n",
       "      <th>0</th>\n",
       "      <td>0.00</td>\n",
       "      <td>0.00</td>\n",
       "      <td>0.000000</td>\n",
       "      <td>0.000000</td>\n",
       "      <td>0.000000</td>\n",
       "      <td>0.000000</td>\n",
       "      <td>50</td>\n",
       "    </tr>\n",
       "    <tr>\n",
       "      <th>1</th>\n",
       "      <td>0.75</td>\n",
       "      <td>0.18</td>\n",
       "      <td>0.290323</td>\n",
       "      <td>0.852459</td>\n",
       "      <td>0.320988</td>\n",
       "      <td>0.466368</td>\n",
       "      <td>100</td>\n",
       "    </tr>\n",
       "    <tr>\n",
       "      <th>2</th>\n",
       "      <td>0.60</td>\n",
       "      <td>0.18</td>\n",
       "      <td>0.276923</td>\n",
       "      <td>0.771930</td>\n",
       "      <td>0.271605</td>\n",
       "      <td>0.401826</td>\n",
       "      <td>200</td>\n",
       "    </tr>\n",
       "    <tr>\n",
       "      <th>3</th>\n",
       "      <td>0.00</td>\n",
       "      <td>0.00</td>\n",
       "      <td>0.000000</td>\n",
       "      <td>0.000000</td>\n",
       "      <td>0.000000</td>\n",
       "      <td>0.000000</td>\n",
       "      <td>500</td>\n",
       "    </tr>\n",
       "  </tbody>\n",
       "</table>\n",
       "</div>"
      ],
      "text/plain": [
       "   Precision_test  Recall_test   f1_test  Precision_train  Recall_train  \\\n",
       "0            0.00         0.00  0.000000         0.000000      0.000000   \n",
       "1            0.75         0.18  0.290323         0.852459      0.320988   \n",
       "2            0.60         0.18  0.276923         0.771930      0.271605   \n",
       "3            0.00         0.00  0.000000         0.000000      0.000000   \n",
       "\n",
       "   f1_train  n_questions  \n",
       "0  0.000000           50  \n",
       "1  0.466368          100  \n",
       "2  0.401826          200  \n",
       "3  0.000000          500  "
      ]
     },
     "execution_count": 22,
     "metadata": {},
     "output_type": "execute_result"
    }
   ],
   "source": [
    "results"
   ]
  },
  {
   "cell_type": "code",
   "execution_count": null,
   "id": "7fe442c9",
   "metadata": {},
   "outputs": [
    {
     "data": {
      "image/png": "[encoded data removed]",
      "text/plain": [
       "<Figure size 640x480 with 1 Axes>"
      ]
     },
     "metadata": {},
     "output_type": "display_data"
    }
   ],
   "source": [
    "fig, ax = plt.subplots()\n",
    "#ax.scatter(results['n_questions'], results['f1_train'], color='C0', label='Train')\n",
    "ax.scatter(results['n_questions'], results['f1_test'], color='C1', label='Test')\n",
    "#plt.yscale('log')\n",
    "plt.legend()\n",
    "plt.show()"
   ]
  },
  {
   "cell_type": "code",
   "execution_count": null,
   "id": "f2811495",
   "metadata": {},
   "outputs": [
    {
     "data": {
      "image/png": "[encoded data removed]",
      "text/plain": [
       "<Figure size 640x480 with 1 Axes>"
      ]
     },
     "metadata": {},
     "output_type": "display_data"
    }
   ],
   "source": [
    "\n",
    "fig, ax = plt.subplots()\n",
    "ax.scatter(results['n_questions'], results['Recall_train'], color='C0', label='Train')\n",
    "ax.scatter(results['n_questions'], results['Recall_test'], color='C1', label='Test')\n",
    "plt.legend()\n",
    "plt.show()"
   ]
  },
  {
   "cell_type": "code",
   "execution_count": null,
   "id": "81689adc",
   "metadata": {},
   "outputs": [
    {
     "name": "stdout",
     "output_type": "stream",
     "text": [
      "torch.Size([16, 14, 385])\n",
      "torch.Size([224, 385])\n"
     ]
    }
   ],
   "source": [
    "\n",
    "batch = next(iter(train_dataloader))        \n",
    "\n",
    "inputs, labels = batch\n",
    "\n",
    "input_year, input_seq = inputs\n",
    "bs, ss = labels.size(0), 14\n",
    "print(input_seq.shape)\n",
    "input_seq = input_seq.reshape(bs * ss, -1)\n",
    "\n",
    "print(input_seq.shape)\n"
   ]
  },
  {
   "cell_type": "code",
   "execution_count": null,
   "id": "82683721",
   "metadata": {},
   "outputs": [
    {
     "data": {
      "text/plain": [
       "385"
      ]
     },
     "execution_count": 52,
     "metadata": {},
     "output_type": "execute_result"
    }
   ],
   "source": [
    "next(iter(train_dataloader))[0][1].shape[-1]\n"
   ]
  },
  {
   "cell_type": "code",
   "execution_count": null,
   "id": "1b43723e",
   "metadata": {},
   "outputs": [],
   "source": []
  }
 ],
 "metadata": {
  "kernelspec": {
   "display_name": "PreFer",
   "language": "python",
   "name": "python3"
  },
  "language_info": {
   "codemirror_mode": {
    "name": "ipython",
    "version": 3
   },
   "file_extension": ".py",
   "mimetype": "text/x-python",
   "name": "python",
   "nbconvert_exporter": "python",
   "pygments_lexer": "ipython3",
   "version": "3.12.2"
  }
 },
 "nbformat": 4,
 "nbformat_minor": 5
}
