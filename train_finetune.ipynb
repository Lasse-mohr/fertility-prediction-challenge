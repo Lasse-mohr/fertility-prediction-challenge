{
 "cells": [
  {
   "cell_type": "markdown",
   "id": "96c50e51",
   "metadata": {},
   "source": [
    "# ExcelFormer with the RNN\n",
    "The notebook contains the pipeline to train and validate the model (+ training the final version of the model on the full data)"
   ]
  },
  {
   "cell_type": "code",
   "execution_count": 24,
   "id": "c9914262-7a3e-4e3a-9e07-043d40efd79b",
   "metadata": {},
   "outputs": [],
   "source": [
    "# Data packages\n",
    "import pandas as pd \n",
    "import matplotlib.pyplot as plt\n",
    "from tqdm import tqdm\n",
    "import numpy as np\n",
    "import torch\n",
    "import torch.nn as nn\n",
    "import torch.nn.functional as F\n",
    "import torch.optim as optim\n",
    "\n",
    "from torch.utils.data import DataLoader\n",
    "\n",
    "from sklearn.model_selection import train_test_split\n",
    "from sklearn.metrics import precision_recall_fscore_support, average_precision_score, f1_score, recall_score, precision_score, matthews_corrcoef\n",
    "\n",
    "from model.rnn import GRUDecoder\n",
    "from model.encoders import CustomExcelFormer\n",
    "from data_processing.pipeline import encoding_pipeline, get_generic_name\n",
    "\n",
    "\n",
    "import matplotlib.pyplot as plt\n",
    "from model.utils import get_device\n",
    "from model.dataset import PretrainingDataset\n",
    "from model.dataset import FinetuningDataset\n"
   ]
  },
  {
   "cell_type": "code",
   "execution_count": 25,
   "id": "a2f2486f",
   "metadata": {},
   "outputs": [],
   "source": [
    "def bootstrap(preds, targs, metric, n_bootstraps: int):\n",
    "    \"\"\"\n",
    "    Returns mean and 95% Confidentence intervals for a metric\n",
    "    \"\"\"\n",
    "    results = []\n",
    "    for _ in range(n_bootstraps):\n",
    "        idx = np.random.choice(preds.shape[0], size=preds.shape[0], replace=True)\n",
    "        results.append(metric(targs[idx], preds[idx]))\n",
    "\n",
    "    return {\"mean\": np.mean(results),\n",
    "            \"CIs\": np.quantile(results,q=np.array([0.025, 0.975]))}"
   ]
  },
  {
   "cell_type": "code",
   "execution_count": 3,
   "id": "18aee1dd-7884-40e7-be05-db070f1a452c",
   "metadata": {},
   "outputs": [
    {
     "name": "stdout",
     "output_type": "stream",
     "text": [
      "Using MPS (Metal Performance Shaders) device\n"
     ]
    }
   ],
   "source": [
    "device = get_device()"
   ]
  },
  {
   "cell_type": "markdown",
   "id": "83b651aa-752a-4c71-990a-332ff4099791",
   "metadata": {},
   "source": [
    "# Read the data\n",
    "\n",
    "Right now the notebook is set to work with fake data. This can be changed once the pipeline works.\n",
    "\n",
    "The data is stored as a Dict[person_id, Sequences] where Sequences is a Dict[year, survery_wave_response]"
   ]
  },
  {
   "cell_type": "code",
   "execution_count": 4,
   "id": "8b872e53",
   "metadata": {},
   "outputs": [],
   "source": [
    "class DataClass:\n",
    "    def __init__(self,\n",
    "                 data_path: str = \"data/training_data/PreFer_train_data.csv\",\n",
    "                 targets_path: str = 'data/training_data/PreFer_train_outcome.csv',\n",
    "                 codebook_path: str = 'data/codebooks/PreFer_codebook.csv',\n",
    "                 importance_path: str = 'features_importance_all.csv') -> None:\n",
    "        self.data = pd.read_csv(data_path, low_memory=False)\n",
    "        self.targets = pd.read_csv(targets_path)\n",
    "        self.codebook = pd.read_csv(codebook_path)\n",
    "        self.col_importance = pd.read_csv(importance_path)\n",
    "    def make_sequences(self, n_cols: int, use_codebook: bool = True):\n",
    "        custom_pairs = self.col_importance.feature.map(lambda x: get_generic_name(x)).unique()[:n_cols]\n",
    "        self.sequences = encoding_pipeline(self.data, self.codebook, \n",
    "                                           custom_pairs=custom_pairs, \n",
    "                                           importance=self.col_importance, \n",
    "                                           use_codebook=use_codebook)\n",
    "    def make_pretraining(self):\n",
    "        self.pretrain_dataset = PretrainingDataset(self.sequences)\n",
    "        self.seq_len = self.pretrain_dataset.get_seq_len()\n",
    "        self.vocab_size = self.pretrain_dataset.get_vocab_size()\n",
    "    def make_full_finetuning(self, batch_size): \n",
    "        \"\"\"Create dataloader for the whole finetuning dataset\"\"\"\n",
    "        targets = self.targets[self.targets.new_child.notna()]\n",
    "        full_person_ids =  targets['nomem_encr'].values\n",
    "        rnn_data = {person_id: (\n",
    "                torch.tensor([year-2007 for year, _ in wave_responses.items()]).to(device),\n",
    "                torch.tensor([ wave_response for _, wave_response in wave_responses.items()]).to(device)\n",
    "                )\n",
    "                for person_id, wave_responses in self.sequences.items()\n",
    "                }\n",
    "\n",
    "        # split data based on the splits made for the target\n",
    "        full_data = {person_id: rnn_data[person_id] for person_id in full_person_ids}\n",
    "        self.full_dataset = FinetuningDataset(full_data, targets = targets)\n",
    "        self.full_dataloader = DataLoader(self.full_dataset, batch_size=batch_size, shuffle=True)\n",
    "\n",
    "\n",
    "    def make_finetuning(self, batch_size, test_size: float = 0.2, val_size: float = 0.2):\n",
    "        \"\"\"\n",
    "        Create dataloaders for the train/val/test splits.\n",
    "        \"\"\"\n",
    "        targets = self.targets[self.targets.new_child.notna()]\n",
    "        train_person_ids, test_person_ids = train_test_split(targets['nomem_encr'], test_size=test_size, random_state=42)\n",
    "        train_person_ids, val_person_ids = train_test_split(train_person_ids, test_size=val_size, random_state=42)\n",
    "        rnn_data = {person_id: (\n",
    "                torch.tensor([year-2007 for year, _ in wave_responses.items()]).to(device),\n",
    "                torch.tensor([ wave_response for _, wave_response in wave_responses.items()]).to(device)\n",
    "                )\n",
    "                for person_id, wave_responses in self.sequences.items()\n",
    "                }\n",
    "\n",
    "        # split data based on the splits made for the target\n",
    "        train_data = {person_id: rnn_data[person_id] for person_id in train_person_ids}\n",
    "        val_data = {person_id: rnn_data[person_id] for person_id in val_person_ids}\n",
    "        test_data = {person_id: rnn_data[person_id] for person_id in test_person_ids}\n",
    "\n",
    "        self.train_dataset = FinetuningDataset(train_data, targets = targets)\n",
    "        self.val_dataset = FinetuningDataset(val_data, targets = targets)\n",
    "        self.test_dataset = FinetuningDataset(test_data, targets = targets)\n",
    "        self.train_dataloader = DataLoader(self.train_dataset, batch_size=batch_size, shuffle=True)\n",
    "        self.val_dataloader = DataLoader(self.val_dataset, batch_size=batch_size, shuffle=False)\n",
    "        self.test_dataloader  = DataLoader(self.test_dataset,  batch_size=batch_size)\n"
   ]
  },
  {
   "cell_type": "code",
   "execution_count": 5,
   "id": "279b9361",
   "metadata": {},
   "outputs": [],
   "source": [
    "# LOAD THE DATA\n",
    "data = DataClass()"
   ]
  },
  {
   "cell_type": "code",
   "execution_count": 6,
   "id": "393fa042",
   "metadata": {},
   "outputs": [],
   "source": [
    "# GLOBAL VARIABLES\n",
    "BATCH_SIZE = 16\n",
    "HIDDEN_SIZE =  48\n",
    "ENCODING_SIZE = 48\n",
    "NUM_HEADS = 4\n",
    "NUM_LAYERS = 5\n",
    "NUM_EPOCHS = 12\n",
    "DETECT_ANOMALY = False\n",
    "LR = 1e-2\n",
    "\n",
    "assert HIDDEN_SIZE % NUM_HEADS == 0, \"Check that the hidden size is divisible\"\n"
   ]
  },
  {
   "cell_type": "code",
   "execution_count": 7,
   "id": "3f7e4345",
   "metadata": {},
   "outputs": [
    {
     "name": "stderr",
     "output_type": "stream",
     "text": [
      "/Users/carlomarx/Documents/GitHub/fertility-prediction-challenge/data_processing/pipeline.py:33: SettingWithCopyWarning: \n",
      "A value is trying to be set on a copy of a slice from a DataFrame.\n",
      "Try using .loc[row_indexer,col_indexer] = value instead\n",
      "\n",
      "See the caveats in the documentation: https://pandas.pydata.org/pandas-docs/stable/user_guide/indexing.html#returning-a-view-versus-a-copy\n",
      "  codebook[\"pairs\"] = codebook['var_name'].apply(get_generic_name)\n"
     ]
    },
    {
     "name": "stdout",
     "output_type": "stream",
     "text": [
      "Done!\n"
     ]
    }
   ],
   "source": [
    "data.make_sequences(n_cols=150)\n",
    "data.make_pretraining()\n",
    "data.make_finetuning(batch_size=BATCH_SIZE)\n",
    "data.make_full_finetuning(batch_size=BATCH_SIZE)\n",
    "print(\"Done!\")"
   ]
  },
  {
   "cell_type": "code",
   "execution_count": 8,
   "id": "d77d87a4",
   "metadata": {},
   "outputs": [
    {
     "name": "stdout",
     "output_type": "stream",
     "text": [
      "149\n"
     ]
    }
   ],
   "source": [
    "SEQ_LEN = data.seq_len\n",
    "VOCAB_SIZE = data.vocab_size\n",
    "print(SEQ_LEN)"
   ]
  },
  {
   "cell_type": "markdown",
   "id": "f3ddb66e-cba5-4bb9-854d-811d49599b93",
   "metadata": {},
   "source": [
    "# Model and Training Setup\n",
    "Here we setup the model and training procedures "
   ]
  },
  {
   "cell_type": "code",
   "execution_count": 9,
   "id": "54a2330c",
   "metadata": {},
   "outputs": [],
   "source": [
    "class PreFerPredictor(nn.Module):\n",
    "    def __init__(self, *args, **kwargs) -> None:\n",
    "        super().__init__(*args, **kwargs)\n",
    "        self.encoder = CustomExcelFormer(vocab_size=VOCAB_SIZE, \n",
    "                            hidden_size=HIDDEN_SIZE, \n",
    "                            out_size=ENCODING_SIZE,\n",
    "                            n_years=14,\n",
    "                            num_heads=NUM_HEADS,\n",
    "                            num_layers=NUM_LAYERS, \n",
    "                            sequence_len=SEQ_LEN, \n",
    "                            aium_dropout=0.3,\n",
    "                            diam_dropout=0.1,\n",
    "                            residual_dropout=0.1,\n",
    "                            embedding_dropout=0.25).to(device)\n",
    "        self.decoder = GRUDecoder(\n",
    "            input_size=ENCODING_SIZE,\n",
    "            hidden_size=HIDDEN_SIZE,\n",
    "            num_layers=2,\n",
    "            max_seq_len=14,\n",
    "            dropout=0.25,\n",
    "  \n",
    "            bidirectional=True,\n",
    "            with_attention = True\n",
    "        ).to(device)\n",
    "\n",
    "        self.enc_dropout = nn.Dropout(0.1)\n",
    "        self.enc_dropout1d = nn.Dropout1d(0.1)\n",
    "    def forward(self, input_year, input_seq, labels):\n",
    "        bs, ss = labels.size(0), 14\n",
    "        input_year = input_year.reshape(-1).to(device)\n",
    "        input_seq = input_seq.reshape(bs * ss, -1).to(device)\n",
    "\n",
    "        encodings, _ = self.encoder(input_year, input_seq)#, y=labels.unsqueeze(-1).expand(-1, 14).reshape(-1), mixup_encoded=True)\n",
    "        encodings = encodings.view(bs,ss, -1)\n",
    "        encodings = self.enc_dropout(encodings)\n",
    "        encodings = self.enc_dropout1d(encodings)\n",
    "        mask = ~((input_seq == 101).sum(-1) == SEQ_LEN).view(bs,ss).detach()\n",
    "        # Forward pass\n",
    "        out = self.decoder(encodings, mask=mask).flatten()\n",
    "        return out\n"
   ]
  },
  {
   "cell_type": "code",
   "execution_count": 21,
   "id": "caf49964",
   "metadata": {},
   "outputs": [
    {
     "name": "stdout",
     "output_type": "stream",
     "text": [
      "Ready!\n"
     ]
    }
   ],
   "source": [
    "model = PreFerPredictor().to(device)\n",
    "# Define the loss function\n",
    "loss_fn = nn.BCEWithLogitsLoss(pos_weight=torch.Tensor([1/0.2]).to(device))\n",
    "\n",
    "# Define the optimization strategy\n",
    "optimizer = torch.optim.RAdam(model.parameters() , lr=LR, weight_decay=1e-2, decoupled_weight_decay=True)\n",
    "scheduler = optim.lr_scheduler.CosineAnnealingLR(optimizer, T_max = NUM_EPOCHS * len(data.train_dataloader), eta_min = 8e-4, last_epoch = -1)\n",
    "## EMA Weight Averaging\n",
    "avg_fn = optim.swa_utils.get_ema_avg_fn(0.99)\n",
    "avg_model = optim.swa_utils.AveragedModel(model, avg_fn=avg_fn, use_buffers=False)\n",
    "avg_start = 3\n",
    "\n",
    "# Training loop\n",
    "model.train()\n",
    "avg_model.train()\n",
    "print(\"Ready!\")"
   ]
  },
  {
   "cell_type": "code",
   "execution_count": 22,
   "id": "649bc948",
   "metadata": {},
   "outputs": [],
   "source": [
    "def run_validation(epoch):\n",
    "    \"\"\"\n",
    "    Run the validation loop\n",
    "    \"\"\"\n",
    "    val_loss = []\n",
    "    preds = []\n",
    "    targets = []\n",
    "\n",
    "    model.eval()\n",
    "    avg_model.eval()\n",
    "    for batch in data.val_dataloader:\n",
    "        inputs, labels = batch\n",
    "        labels = labels.to(torch.float).to(device)\n",
    "        input_year, input_seq = inputs\n",
    "        if epoch <= avg_start:\n",
    "            output = model(input_year=input_year, input_seq=input_seq, labels=labels)\n",
    "        else:\n",
    "            output = avg_model(input_year=input_year, input_seq=input_seq, labels=labels)\n",
    "\n",
    "        probs = F.sigmoid(output).flatten()\n",
    "        loss = loss_fn(output, labels)  \n",
    "        val_loss.append(loss.detach().cpu().numpy())\n",
    "        preds.extend(probs.detach().cpu().numpy().tolist())\n",
    "        targets.extend(labels.cpu().numpy().tolist())\n",
    "\n",
    "    # Concatenate all the batches\n",
    "    yhat = torch.tensor(preds).flatten().detach().cpu().numpy()\n",
    "    ytrue = torch.tensor(targets).flatten().cpu().numpy()\n",
    "\n",
    "    # Calculate precision, recall, and F1 score\n",
    "    _, _, f1, _ = precision_recall_fscore_support(ytrue, yhat > 0.5, average='binary')\n",
    "    mcc = matthews_corrcoef(ytrue, yhat > 0.5)\n",
    "    map_roc = average_precision_score(ytrue, yhat)\n",
    "    print(f\"-- mAP Score: {map_roc:.4f} -- f1-score: {f1:.3f} -- mcc: {mcc:.3f}\")\n",
    "    model.train()\n",
    "    avg_model.train()"
   ]
  },
  {
   "cell_type": "code",
   "execution_count": 23,
   "id": "82cf1777-49e7-462d-ae51-549ea6c8305e",
   "metadata": {},
   "outputs": [
    {
     "name": "stderr",
     "output_type": "stream",
     "text": [
      "Epochs 0: 40it [00:11,  3.59it/s, mean loss: 3.005]\n"
     ]
    },
    {
     "name": "stdout",
     "output_type": "stream",
     "text": [
      "Epoch 1/12, Loss: 3.0054\n"
     ]
    },
    {
     "name": "stderr",
     "output_type": "stream",
     "text": [
      "/Users/carlomarx/Library/Python/3.9/lib/python/site-packages/sklearn/metrics/_classification.py:1509: UndefinedMetricWarning: Precision is ill-defined and being set to 0.0 due to no predicted samples. Use `zero_division` parameter to control this behavior.\n",
      "  _warn_prf(average, modifier, f\"{metric.capitalize()} is\", len(result))\n"
     ]
    },
    {
     "name": "stdout",
     "output_type": "stream",
     "text": [
      "-- mAP Score: 0.3946 -- f1-score: 0.000 -- mcc: 0.000\n"
     ]
    },
    {
     "name": "stderr",
     "output_type": "stream",
     "text": [
      "Epochs 1: 40it [00:11,  3.61it/s, mean loss: 2.521]\n"
     ]
    },
    {
     "name": "stdout",
     "output_type": "stream",
     "text": [
      "Epoch 2/12, Loss: 2.5211\n",
      "-- mAP Score: 0.5830 -- f1-score: 0.488 -- mcc: 0.298\n"
     ]
    },
    {
     "name": "stderr",
     "output_type": "stream",
     "text": [
      "Epochs 2: 40it [00:11,  3.63it/s, mean loss: 2.034]\n"
     ]
    },
    {
     "name": "stdout",
     "output_type": "stream",
     "text": [
      "Epoch 3/12, Loss: 2.0345\n",
      "-- mAP Score: 0.7151 -- f1-score: 0.609 -- mcc: 0.519\n"
     ]
    },
    {
     "name": "stderr",
     "output_type": "stream",
     "text": [
      "Epochs 3: 40it [00:10,  3.64it/s, mean loss: 1.260]\n"
     ]
    },
    {
     "name": "stdout",
     "output_type": "stream",
     "text": [
      "Epoch 4/12, Loss: 1.2595\n",
      "-- mAP Score: 0.7589 -- f1-score: 0.567 -- mcc: 0.536\n"
     ]
    },
    {
     "name": "stderr",
     "output_type": "stream",
     "text": [
      "Epochs 4: 40it [00:12,  3.15it/s, mean loss: 1.065]\n"
     ]
    },
    {
     "name": "stdout",
     "output_type": "stream",
     "text": [
      "Epoch 5/12, Loss: 1.0653\n",
      "-- mAP Score: 0.7691 -- f1-score: 0.590 -- mcc: 0.556\n"
     ]
    },
    {
     "name": "stderr",
     "output_type": "stream",
     "text": [
      "Epochs 5: 40it [00:12,  3.16it/s, mean loss: 0.950]\n"
     ]
    },
    {
     "name": "stdout",
     "output_type": "stream",
     "text": [
      "Epoch 6/12, Loss: 0.9497\n",
      "-- mAP Score: 0.7768 -- f1-score: 0.625 -- mcc: 0.574\n"
     ]
    },
    {
     "name": "stderr",
     "output_type": "stream",
     "text": [
      "Epochs 6: 40it [00:12,  3.20it/s, mean loss: 0.750]\n"
     ]
    },
    {
     "name": "stdout",
     "output_type": "stream",
     "text": [
      "Epoch 7/12, Loss: 0.7499\n",
      "-- mAP Score: 0.7814 -- f1-score: 0.676 -- mcc: 0.613\n"
     ]
    },
    {
     "name": "stderr",
     "output_type": "stream",
     "text": [
      "Epochs 7: 40it [00:12,  3.22it/s, mean loss: 0.590]\n"
     ]
    },
    {
     "name": "stdout",
     "output_type": "stream",
     "text": [
      "Epoch 8/12, Loss: 0.5899\n",
      "-- mAP Score: 0.7697 -- f1-score: 0.686 -- mcc: 0.614\n"
     ]
    },
    {
     "name": "stderr",
     "output_type": "stream",
     "text": [
      "Epochs 8: 40it [00:12,  3.22it/s, mean loss: 0.419]\n"
     ]
    },
    {
     "name": "stdout",
     "output_type": "stream",
     "text": [
      "Epoch 9/12, Loss: 0.4186\n",
      "-- mAP Score: 0.7549 -- f1-score: 0.722 -- mcc: 0.653\n"
     ]
    },
    {
     "name": "stderr",
     "output_type": "stream",
     "text": [
      "Epochs 9: 40it [00:12,  3.22it/s, mean loss: 0.259]\n"
     ]
    },
    {
     "name": "stdout",
     "output_type": "stream",
     "text": [
      "Epoch 10/12, Loss: 0.2587\n",
      "-- mAP Score: 0.7379 -- f1-score: 0.722 -- mcc: 0.653\n"
     ]
    },
    {
     "name": "stderr",
     "output_type": "stream",
     "text": [
      "Epochs 10: 40it [00:12,  3.21it/s, mean loss: 0.268]\n"
     ]
    },
    {
     "name": "stdout",
     "output_type": "stream",
     "text": [
      "Epoch 11/12, Loss: 0.2684\n",
      "-- mAP Score: 0.7299 -- f1-score: 0.732 -- mcc: 0.671\n"
     ]
    },
    {
     "name": "stderr",
     "output_type": "stream",
     "text": [
      "Epochs 11: 40it [00:12,  3.22it/s, mean loss: 0.242]\n"
     ]
    },
    {
     "name": "stdout",
     "output_type": "stream",
     "text": [
      "Epoch 12/12, Loss: 0.2421\n",
      "-- mAP Score: 0.7239 -- f1-score: 0.732 -- mcc: 0.671\n"
     ]
    }
   ],
   "source": [
    "loss_per_epoch = []\n",
    "for epoch in range(NUM_EPOCHS):\n",
    "    loss_per_step = []\n",
    "    loop_object  = tqdm(enumerate(data.train_dataloader), desc=f\"Epochs {epoch}\")\n",
    "    for i, batch in loop_object :        \n",
    "        optimizer.zero_grad() \n",
    "        inputs, labels = batch\n",
    "        labels = labels.to(torch.float).to(device)\n",
    "        input_year, input_seq = inputs\n",
    "        ### Model\n",
    "        output = model(input_year=input_year, input_seq=input_seq, labels=labels)\n",
    "        probs = F.sigmoid(output).flatten()\n",
    "        ### Loss\n",
    "        loss = loss_fn(output, labels) #+ loss_focal(output, labels)\n",
    "        loss_per_step.append(loss.detach().cpu().numpy())\n",
    "        loop_object.set_postfix_str(\"mean loss: %.3f\"%np.mean(loss_per_step[-100:]))\n",
    "        loss.backward()\n",
    "        optimizer.step()\n",
    "        scheduler.step()\n",
    "\n",
    "    # AVERAGING starts only after 3 epochs\n",
    "        if epoch > avg_start:\n",
    "            avg_model.update_parameters(model)\n",
    "    # On epoch end\n",
    "    loss_per_epoch.append(np.mean(loss_per_step))\n",
    "    print(f\"Epoch {epoch+1}/{NUM_EPOCHS}, Loss: {loss_per_epoch[-1]:.4f}\")\n",
    "    run_validation(epoch=epoch)\n",
    "    "
   ]
  },
  {
   "cell_type": "code",
   "execution_count": 66,
   "id": "d0d2fe43",
   "metadata": {},
   "outputs": [
    {
     "name": "stdout",
     "output_type": "stream",
     "text": [
      "Precision: 0.7660\n",
      "Recall: 0.7200\n",
      "F1 Score: 0.7423\n",
      "-- mAP Score: 0.8419 --\n"
     ]
    }
   ],
   "source": [
    "test_loss = []\n",
    "preds = []\n",
    "targets = []\n",
    "\n",
    "## Set both models into the eval mode.=\n",
    "avg_model.eval()\n",
    "for batch in data.test_dataloader:\n",
    "    inputs, labels = batch\n",
    "    labels = labels.to(torch.float).to(device)\n",
    "    input_year, input_seq = inputs\n",
    "    ### Model\n",
    "    output = avg_model(input_year=input_year, input_seq=input_seq, labels=labels)\n",
    "    probs = F.sigmoid(output).flatten()\n",
    "\n",
    "    loss = loss_fn(output, labels)  \n",
    "    test_loss.append(loss.detach().cpu().numpy())\n",
    "    preds.extend(probs.detach().cpu().numpy().tolist())\n",
    "    targets.extend(labels.cpu().numpy().tolist())\n",
    "\n",
    "# Concatenate all the batches\n",
    "probs = torch.tensor(preds).flatten()\n",
    "actuals = torch.tensor(targets).flatten()\n",
    "# Concatenate all the batches\n",
    "\n",
    "# Calculate precision, recall, and F1 score\n",
    "precision, recall, f1, _ = precision_recall_fscore_support(actuals.cpu().numpy(), probs.cpu().numpy() > 0.5, average='binary')\n",
    "map_roc = average_precision_score(actuals.numpy(), probs.numpy())\n",
    "print(f\"Precision: {precision:.4f}\")\n",
    "print(f\"Recall: {recall:.4f}\")\n",
    "print(f\"F1 Score: {f1:.4f}\")\n",
    "print(f\"-- mAP Score: {map_roc:.4f} --\")"
   ]
  },
  {
   "cell_type": "code",
   "execution_count": 68,
   "id": "f2a219b2",
   "metadata": {},
   "outputs": [
    {
     "name": "stdout",
     "output_type": "stream",
     "text": [
      "Estimated Performance of the Model:\n",
      "\tF1 Score: {'mean': 0.739795146914729, 'CIs': array([0.63529412, 0.83168317])}\n",
      "\tMCC Score: {'mean': 0.6585547581908553, 'CIs': array([0.5325456 , 0.77700526])}\n",
      "\tPrecision: {'mean': 0.7652470989493324, 'CIs': array([0.63829787, 0.88372093])}\n",
      "\tRecall: {'mean': 0.719310777388724, 'CIs': array([0.59090909, 0.83673469])}\n",
      "\tmAP Score: {'mean': 0.8422834497648027, 'CIs': array([0.75197675, 0.91293439])}\n"
     ]
    }
   ],
   "source": [
    "print(\"Estimated Performance of the Model:\")\n",
    "print(\"\\tF1 Score:\", bootstrap( probs.cpu().numpy() > 0.5, actuals.cpu().numpy(), metric= lambda x,y: f1_score(x,y), n_bootstraps=10000))\n",
    "print(\"\\tMCC Score:\", bootstrap( probs.cpu().numpy() > 0.5, actuals.cpu().numpy(), metric= lambda x,y: matthews_corrcoef(x,y), n_bootstraps=10000))\n",
    "print(\"\\tPrecision:\", bootstrap( probs.cpu().numpy() > 0.5, actuals.cpu().numpy(), metric= lambda x,y: precision_score(x,y), n_bootstraps=10000))\n",
    "print(\"\\tRecall:\", bootstrap( probs.cpu().numpy() > 0.5, actuals.cpu().numpy(), metric= lambda x,y: recall_score(x,y), n_bootstraps=10000))\n",
    "print(\"\\tmAP Score:\", bootstrap(preds = probs.cpu().numpy(), targs =  actuals.cpu().numpy(), metric= lambda x,y: average_precision_score(x,y), n_bootstraps=10000))"
   ]
  },
  {
   "cell_type": "markdown",
   "id": "81c5ab9e",
   "metadata": {},
   "source": [
    "# Train Model on the Full Data\n",
    "(model for inference)"
   ]
  },
  {
   "cell_type": "code",
   "execution_count": 17,
   "id": "6d6cf880",
   "metadata": {},
   "outputs": [
    {
     "name": "stderr",
     "output_type": "stream",
     "text": [
      "/Users/carlomarx/Library/Python/3.9/lib/python/site-packages/urllib3/__init__.py:35: NotOpenSSLWarning: urllib3 v2 only supports OpenSSL 1.1.1+, currently the 'ssl' module is compiled with 'LibreSSL 2.8.3'. See: https://github.com/urllib3/urllib3/issues/3020\n",
      "  warnings.warn(\n",
      "/Users/carlomarx/Library/Python/3.9/lib/python/site-packages/tqdm/auto.py:21: TqdmWarning: IProgress not found. Please update jupyter and ipywidgets. See https://ipywidgets.readthedocs.io/en/stable/user_install.html\n",
      "  from .autonotebook import tqdm as notebook_tqdm\n"
     ]
    },
    {
     "name": "stdout",
     "output_type": "stream",
     "text": [
      "Ready!\n"
     ]
    }
   ],
   "source": [
    "# Reinitialize the training \n",
    "model = PreFerPredictor().to(device)\n",
    "# Define the loss function\n",
    "loss_fn = nn.BCEWithLogitsLoss(pos_weight=torch.Tensor([1/0.2]).to(device))\n",
    "# Define the optimization strategy\n",
    "optimizer = torch.optim.RAdam(model.parameters() , lr=LR, weight_decay=1e-2, decoupled_weight_decay=True)\n",
    "scheduler = optim.lr_scheduler.CosineAnnealingLR(optimizer, T_max = NUM_EPOCHS * len(data.full_dataloader), eta_min = 5e-4, last_epoch = -1)\n",
    "## EMA Weight Averaging\n",
    "avg_fn = optim.swa_utils.get_ema_avg_fn(0.99)\n",
    "avg_model = optim.swa_utils.AveragedModel(model, avg_fn=avg_fn, use_buffers=False)\n",
    "avg_start = 3\n",
    "\n",
    "# Training loop\n",
    "model.train()\n",
    "avg_model.train()\n",
    "print(\"Ready!\")"
   ]
  },
  {
   "cell_type": "code",
   "execution_count": 18,
   "id": "a6db2254",
   "metadata": {},
   "outputs": [
    {
     "name": "stderr",
     "output_type": "stream",
     "text": [
      "Epochs 0: 62it [00:18,  3.43it/s, mean loss: 1.242]\n"
     ]
    },
    {
     "name": "stdout",
     "output_type": "stream",
     "text": [
      "Epoch 1/12, Loss: 1.2419\n"
     ]
    },
    {
     "name": "stderr",
     "output_type": "stream",
     "text": [
      "Epochs 1: 62it [00:17,  3.61it/s, mean loss: 0.846]\n"
     ]
    },
    {
     "name": "stdout",
     "output_type": "stream",
     "text": [
      "Epoch 2/12, Loss: 0.8462\n"
     ]
    },
    {
     "name": "stderr",
     "output_type": "stream",
     "text": [
      "Epochs 2: 62it [00:17,  3.59it/s, mean loss: 0.617]\n"
     ]
    },
    {
     "name": "stdout",
     "output_type": "stream",
     "text": [
      "Epoch 3/12, Loss: 0.6166\n"
     ]
    },
    {
     "name": "stderr",
     "output_type": "stream",
     "text": [
      "Epochs 3: 62it [00:17,  3.63it/s, mean loss: 0.517]\n"
     ]
    },
    {
     "name": "stdout",
     "output_type": "stream",
     "text": [
      "Epoch 4/12, Loss: 0.5165\n"
     ]
    },
    {
     "name": "stderr",
     "output_type": "stream",
     "text": [
      "Epochs 4: 62it [00:19,  3.17it/s, mean loss: 0.514]\n"
     ]
    },
    {
     "name": "stdout",
     "output_type": "stream",
     "text": [
      "Epoch 5/12, Loss: 0.5141\n"
     ]
    },
    {
     "name": "stderr",
     "output_type": "stream",
     "text": [
      "Epochs 5: 62it [00:19,  3.14it/s, mean loss: 0.382]\n"
     ]
    },
    {
     "name": "stdout",
     "output_type": "stream",
     "text": [
      "Epoch 6/12, Loss: 0.3821\n"
     ]
    },
    {
     "name": "stderr",
     "output_type": "stream",
     "text": [
      "Epochs 6: 62it [00:19,  3.17it/s, mean loss: 0.258]\n"
     ]
    },
    {
     "name": "stdout",
     "output_type": "stream",
     "text": [
      "Epoch 7/12, Loss: 0.2580\n"
     ]
    },
    {
     "name": "stderr",
     "output_type": "stream",
     "text": [
      "Epochs 7: 62it [00:19,  3.16it/s, mean loss: 0.206]\n"
     ]
    },
    {
     "name": "stdout",
     "output_type": "stream",
     "text": [
      "Epoch 8/12, Loss: 0.2062\n"
     ]
    },
    {
     "name": "stderr",
     "output_type": "stream",
     "text": [
      "Epochs 8: 62it [00:19,  3.14it/s, mean loss: 0.128]\n"
     ]
    },
    {
     "name": "stdout",
     "output_type": "stream",
     "text": [
      "Epoch 9/12, Loss: 0.1280\n"
     ]
    },
    {
     "name": "stderr",
     "output_type": "stream",
     "text": [
      "Epochs 9: 62it [00:19,  3.14it/s, mean loss: 0.102]\n"
     ]
    },
    {
     "name": "stdout",
     "output_type": "stream",
     "text": [
      "Epoch 10/12, Loss: 0.1019\n"
     ]
    },
    {
     "name": "stderr",
     "output_type": "stream",
     "text": [
      "Epochs 10: 62it [00:19,  3.12it/s, mean loss: 0.080]\n"
     ]
    },
    {
     "name": "stdout",
     "output_type": "stream",
     "text": [
      "Epoch 11/12, Loss: 0.0796\n"
     ]
    },
    {
     "name": "stderr",
     "output_type": "stream",
     "text": [
      "Epochs 11: 62it [00:19,  3.19it/s, mean loss: 0.076]"
     ]
    },
    {
     "name": "stdout",
     "output_type": "stream",
     "text": [
      "Epoch 12/12, Loss: 0.0756\n"
     ]
    },
    {
     "name": "stderr",
     "output_type": "stream",
     "text": [
      "\n"
     ]
    }
   ],
   "source": [
    "## TRAIN ON THE FULL DATA\n",
    "loss_per_epoch = []\n",
    "for epoch in range(NUM_EPOCHS):\n",
    "    loss_per_step = []\n",
    "    loop_object  = tqdm(enumerate(data.full_dataloader), desc=f\"Epochs {epoch}\")\n",
    "    for i, batch in loop_object :        \n",
    "        optimizer.zero_grad() \n",
    "        inputs, labels = batch\n",
    "        labels = labels.to(torch.float).to(device)\n",
    "        input_year, input_seq = inputs\n",
    "        ### Model\n",
    "        output = model(input_year=input_year, input_seq=input_seq, labels=labels)\n",
    "        probs = F.sigmoid(output).flatten()\n",
    "        ### Loss\n",
    "        loss = loss_fn(output, labels)  \n",
    "        loss_per_step.append(loss.detach().cpu().numpy())\n",
    "        loop_object.set_postfix_str(\"mean loss: %.3f\"%np.mean(loss_per_step[-100:]))\n",
    "        loss.backward()\n",
    "        optimizer.step()\n",
    "        scheduler.step()\n",
    "\n",
    "    # AVERAGING starts only after 3 epochs\n",
    "        if epoch > avg_start:\n",
    "            avg_model.update_parameters(model)\n",
    "    # On epoch end\n",
    "    loss_per_epoch.append(np.mean(loss_per_step))\n",
    "    print(f\"Epoch {epoch+1}/{NUM_EPOCHS}, Loss: {loss_per_epoch[-1]:.4f}\")\n",
    "    #run_validation(epoch=epoch)"
   ]
  },
  {
   "cell_type": "code",
   "execution_count": 21,
   "id": "2fad880e",
   "metadata": {},
   "outputs": [],
   "source": [
    "SAVE_PATH = \"weights/excel_rnn.pt\"\n",
    "torch.save(avg_model.state_dict(), SAVE_PATH)"
   ]
  },
  {
   "cell_type": "code",
   "execution_count": 22,
   "id": "ce2862fb",
   "metadata": {},
   "outputs": [],
   "source": [
    "from model.full_model import PreFerPredictor\n",
    "import torch"
   ]
  },
  {
   "cell_type": "code",
   "execution_count": 24,
   "id": "3fc0683d",
   "metadata": {},
   "outputs": [
    {
     "data": {
      "text/plain": [
       "<All keys matched successfully>"
      ]
     },
     "execution_count": 24,
     "metadata": {},
     "output_type": "execute_result"
    }
   ],
   "source": [
    "model = optim.swa_utils.AveragedModel(PreFerPredictor())\n",
    "model.load_state_dict(torch.load(\"weights/excel_rnn.pt\"))"
   ]
  },
  {
   "cell_type": "markdown",
   "id": "4e6aef71",
   "metadata": {},
   "source": [
    "# Check if the loading pipeline works"
   ]
  },
  {
   "cell_type": "code",
   "execution_count": 1,
   "id": "ee978aa0",
   "metadata": {},
   "outputs": [
    {
     "name": "stdout",
     "output_type": "stream",
     "text": [
      "Using MPS (Metal Performance Shaders) device\n"
     ]
    }
   ],
   "source": [
    "from model.full_model import DataClass, PreFerPredictor\n",
    "import torch\n",
    "import pandas as pd\n",
    "from model.utils import get_device\n"
   ]
  },
  {
   "cell_type": "code",
   "execution_count": 2,
   "id": "467f93b8",
   "metadata": {},
   "outputs": [],
   "source": [
    "data = DataClass(to_predict_df=pd.read_csv(\"data/training_data/PreFer_train_data.csv\", low_memory=False).sample(frac=0.2))\n"
   ]
  },
  {
   "cell_type": "code",
   "execution_count": 3,
   "id": "b512871b",
   "metadata": {},
   "outputs": [
    {
     "name": "stderr",
     "output_type": "stream",
     "text": [
      "/Users/carlomarx/Documents/GitHub/fertility-prediction-challenge/data_processing/pipeline.py:33: SettingWithCopyWarning: \n",
      "A value is trying to be set on a copy of a slice from a DataFrame.\n",
      "Try using .loc[row_indexer,col_indexer] = value instead\n",
      "\n",
      "See the caveats in the documentation: https://pandas.pydata.org/pandas-docs/stable/user_guide/indexing.html#returning-a-view-versus-a-copy\n",
      "  codebook[\"pairs\"] = codebook['var_name'].apply(get_generic_name)\n",
      "/Users/carlomarx/Documents/GitHub/fertility-prediction-challenge/data_processing/pipeline.py:62: FutureWarning: Downcasting object dtype arrays on .fillna, .ffill, .bfill is deprecated and will change in a future version. Call result.infer_objects(copy=False) instead. To opt-in to the future behavior, set `pd.set_option('future.no_silent_downcasting', True)`\n",
      "  data = data.fillna(101)\n"
     ]
    }
   ],
   "source": [
    "data.make_sequences(n_cols=150)\n",
    "data.prepare_prediction(batch_size=16) "
   ]
  },
  {
   "cell_type": "code",
   "execution_count": 4,
   "id": "9d0cac7d",
   "metadata": {},
   "outputs": [
    {
     "name": "stdout",
     "output_type": "stream",
     "text": [
      "Using MPS (Metal Performance Shaders) device\n"
     ]
    }
   ],
   "source": [
    "device = get_device()"
   ]
  },
  {
   "cell_type": "code",
   "execution_count": 5,
   "id": "3ccf8500",
   "metadata": {},
   "outputs": [],
   "source": [
    "model = torch.optim.swa_utils.AveragedModel(PreFerPredictor())\n",
    "model.load_state_dict(torch.load(\"weights/excel_rnn.pt\", map_location=device))\n",
    "predictions = model.get_submodule(\"module\").predict(data.prediction_dataloader, device)"
   ]
  },
  {
   "cell_type": "code",
   "execution_count": 6,
   "id": "489ca064",
   "metadata": {},
   "outputs": [],
   "source": [
    "import matplotlib.pyplot as plt"
   ]
  },
  {
   "cell_type": "code",
   "execution_count": 7,
   "id": "63328d3a",
   "metadata": {},
   "outputs": [
    {
     "data": {
      "text/plain": [
       "(array([466.,  59.,  50.,  36.,  32.,  41.,  58.,  62., 125., 355.]),\n",
       " array([7.37222654e-05, 9.99787375e-02, 1.99883759e-01, 2.99788773e-01,\n",
       "        3.99693787e-01, 4.99598801e-01, 5.99503815e-01, 6.99408829e-01,\n",
       "        7.99313843e-01, 8.99218857e-01, 9.99123871e-01]),\n",
       " <BarContainer object of 10 artists>)"
      ]
     },
     "execution_count": 7,
     "metadata": {},
     "output_type": "execute_result"
    },
    {
     "data": {
      "image/png": "[encoded data removed]",
      "text/plain": [
       "<Figure size 640x480 with 1 Axes>"
      ]
     },
     "metadata": {},
     "output_type": "display_data"
    }
   ],
   "source": [
    "plt.hist(predictions)"
   ]
  },
  {
   "cell_type": "code",
   "execution_count": 11,
   "id": "9cfcc498",
   "metadata": {},
   "outputs": [
    {
     "data": {
      "text/plain": [
       "PreFerPredictor(\n",
       "  (encoder): CustomExcelFormer(\n",
       "    (embedding): SurveyEmbeddings(\n",
       "      (answer_embedding): Embedding(860, 48, padding_idx=101)\n",
       "      (yearly_embedding): Embedding(14, 48)\n",
       "      (question_embedding): Embedding(149, 48)\n",
       "      (drop_year): Dropout1d(p=0.25, inplace=False)\n",
       "    )\n",
       "    (embedding_norm): InstanceNorm1d(149, eps=1e-05, momentum=0.1, affine=False, track_running_stats=False)\n",
       "    (excelformer_convs): ModuleList(\n",
       "      (0-4): 5 x ExcelFormerConv(\n",
       "        (norm_1): LayerNorm((48,), eps=1e-05, elementwise_affine=True)\n",
       "        (DiaM): DiaM(\n",
       "          (lin_q): Linear(in_features=48, out_features=48, bias=True)\n",
       "          (lin_k): Linear(in_features=48, out_features=48, bias=True)\n",
       "          (lin_v): Linear(in_features=48, out_features=48, bias=True)\n",
       "          (lin_out): Linear(in_features=48, out_features=48, bias=True)\n",
       "          (dropout): Dropout(p=0.1, inplace=False)\n",
       "        )\n",
       "        (norm_2): LayerNorm((48,), eps=1e-05, elementwise_affine=True)\n",
       "        (AiuM): AiuM(\n",
       "          (lin_1): Linear(in_features=48, out_features=48, bias=True)\n",
       "          (lin_2): Linear(in_features=48, out_features=48, bias=True)\n",
       "          (dropout): Dropout(p=0.3, inplace=False)\n",
       "        )\n",
       "      )\n",
       "    )\n",
       "    (excelformer_decoder): ExcelFormerDecoder(\n",
       "      (lin_f): Linear(in_features=149, out_features=48, bias=True)\n",
       "      (activation): Mish()\n",
       "      (lin_d): Linear(in_features=48, out_features=1, bias=True)\n",
       "    )\n",
       "  )\n",
       "  (decoder): GRUDecoder(\n",
       "    (norm_in): InstanceNorm1d(14, eps=1e-05, momentum=0.1, affine=True, track_running_stats=False)\n",
       "    (gru): GRU(48, 48, num_layers=2, batch_first=True, dropout=0.25, bidirectional=True)\n",
       "    (aggregation): AggAttention(\n",
       "      (act): Softmax(dim=1)\n",
       "    )\n",
       "    (norm_out): LayerNorm((96,), eps=1e-05, elementwise_affine=True)\n",
       "    (decoder): Linear(in_features=96, out_features=1, bias=False)\n",
       "  )\n",
       "  (enc_dropout): Dropout(p=0.1, inplace=False)\n",
       "  (enc_dropout1d): Dropout1d(p=0.1, inplace=False)\n",
       ")"
      ]
     },
     "execution_count": 11,
     "metadata": {},
     "output_type": "execute_result"
    }
   ],
   "source": [
    "model.get_submodule('module')"
   ]
  },
  {
   "cell_type": "code",
   "execution_count": null,
   "id": "f6afebca",
   "metadata": {},
   "outputs": [],
   "source": []
  }
 ],
 "metadata": {
  "kernelspec": {
   "display_name": "PreFer",
   "language": "python",
   "name": "python3"
  },
  "language_info": {
   "codemirror_mode": {
    "name": "ipython",
    "version": 3
   },
   "file_extension": ".py",
   "mimetype": "text/x-python",
   "name": "python",
   "nbconvert_exporter": "python",
   "pygments_lexer": "ipython3",
   "version": "3.9.6"
  }
 },
 "nbformat": 4,
 "nbformat_minor": 5
}
