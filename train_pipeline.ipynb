{
 "cells": [
  {
   "cell_type": "code",
   "execution_count": 27,
   "id": "c9914262-7a3e-4e3a-9e07-043d40efd79b",
   "metadata": {},
   "outputs": [],
   "source": [
    "import pandas as pd\n",
    "import numpy as np\n",
    "import torch\n",
    "import torch.nn as nn\n",
    "import torch.optim as optim\n",
    "from torch.utils.data import DataLoader\n",
    "\n",
    "from sklearn.model_selection import train_test_split\n",
    "\n",
    "from model.rnn import GRUDecoder\n",
    "from model.autoencoder import AutoEncoder\n",
    "from data_processing.pipeline import encoding_pipeline"
   ]
  },
  {
   "cell_type": "code",
   "execution_count": 15,
   "id": "18aee1dd-7884-40e7-be05-db070f1a452c",
   "metadata": {},
   "outputs": [
    {
     "name": "stdout",
     "output_type": "stream",
     "text": [
      "Using MPS (Metal Performance Shaders) device\n"
     ]
    }
   ],
   "source": [
    "def get_device():\n",
    "    # Check if CUDA is available\n",
    "    if torch.cuda.is_available():\n",
    "        # If CUDA is available, select the first CUDA device\n",
    "        device = torch.device(\"cuda:0\")\n",
    "        print(\"Using CUDA device:\", torch.cuda.get_device_name(0))\n",
    "    # Check for MPS availability on supported macOS devices (requires PyTorch 1.12 or newer)\n",
    "    elif torch.backends.mps.is_available():\n",
    "        # If MPS is available, use MPS device\n",
    "        device = torch.device(\"mps\")\n",
    "        print(\"Using MPS (Metal Performance Shaders) device\")\n",
    "    else:\n",
    "        # Fallback to CPU if neither CUDA nor MPS is available\n",
    "        device = torch.device(\"cpu\")\n",
    "        print(\"Using CPU\")\n",
    "    return device\n",
    "device = get_device()"
   ]
  },
  {
   "cell_type": "markdown",
   "id": "83b651aa-752a-4c71-990a-332ff4099791",
   "metadata": {},
   "source": [
    "# Read the data\n",
    "\n",
    "Right now the notebook is set to work with fake data. This can be changed once the pipeline works.\n",
    "\n",
    "The data is stored as a Dict[person_id, Sequences] where Sequences is a Dict[year, survery_wave_response]"
   ]
  },
  {
   "cell_type": "code",
   "execution_count": 16,
   "id": "42c3f871-21e8-418c-9aa7-31ad09283a24",
   "metadata": {},
   "outputs": [],
   "source": [
    "# read in data and prepare transformations\n",
    "data = pd.read_csv('data/other_data/PreFer_fake_data.csv')\n",
    "targets = pd.read_csv('data/other_data/PreFer_fake_outcome.csv')\n",
    "codebook = pd.read_csv('data/codebooks/PreFer_codebook.csv')"
   ]
  },
  {
   "cell_type": "code",
   "execution_count": 17,
   "id": "2d165d92",
   "metadata": {},
   "outputs": [],
   "source": [
    "sequences = encoding_pipeline(data, codebook)"
   ]
  },
  {
   "cell_type": "markdown",
   "id": "f3ddb66e-cba5-4bb9-854d-811d49599b93",
   "metadata": {},
   "source": [
    "# Train the autoencoder"
   ]
  },
  {
   "cell_type": "code",
   "execution_count": 18,
   "id": "3d9275bc",
   "metadata": {},
   "outputs": [],
   "source": [
    "from model.dataset import PretrainingDataset\n",
    "\n",
    "pretrain_dataset = PretrainingDataset(sequences)"
   ]
  },
  {
   "cell_type": "code",
   "execution_count": 23,
   "id": "a8544475-54af-4874-9e83-7f39193eb651",
   "metadata": {},
   "outputs": [
    {
     "name": "stderr",
     "output_type": "stream",
     "text": [
      "/Users/carlomarx/Library/Python/3.9/lib/python/site-packages/torch/nn/modules/lazy.py:181: UserWarning: Lazy modules are a new feature under heavy development so changes to the API or functionality can happen at any moment.\n",
      "  warnings.warn('Lazy modules are a new feature under heavy development '\n"
     ]
    }
   ],
   "source": [
    "### Initialization of the Autoencoder \n",
    "HIDDEN_DIM = 256\n",
    "ENCODING_SIZE = 64\n",
    "BATCH_SIZE = 32\n",
    "num_epochs_autoencoder = 100\n",
    "learning_rate_autoencoder = 5e-3\n",
    "\n",
    "SEQ_LEN = pretrain_dataset.get_seq_len()\n",
    "vocab_size = pretrain_dataset.get_vocab_size()\n",
    "\n",
    "train_dataloader = DataLoader(pretrain_dataset, batch_size=BATCH_SIZE, shuffle=True)\n",
    "autoencoder = AutoEncoder(vocab_size=vocab_size, embedding_size=HIDDEN_DIM, encoding_size=ENCODING_SIZE, sequence_len=SEQ_LEN).to(device)\n",
    "\n",
    "loss_f = nn.HuberLoss(delta=0.5)\n",
    "optimizer = optim.RAdam( autoencoder.parameters(), lr = learning_rate_autoencoder, weight_decay=1e-3, decoupled_weight_decay=True)"
   ]
  },
  {
   "cell_type": "code",
   "execution_count": 29,
   "id": "8be77146-e5b0-4a06-9d9e-d651c88d32a5",
   "metadata": {},
   "outputs": [
    {
     "name": "stdout",
     "output_type": "stream",
     "text": [
      "epoch 0 \t Loss: 0.5084\n",
      "epoch 1 \t Loss: 0.5025\n",
      "epoch 2 \t Loss: 0.5087\n",
      "epoch 3 \t Loss: 0.5129\n",
      "epoch 4 \t Loss: 0.5018\n",
      "epoch 5 \t Loss: 0.4916\n"
     ]
    }
   ],
   "source": [
    "autoencoder.train()\n",
    "# device = torch.device(\"cpu\") # mps is not working for Me (Mikkel)\n",
    "autoencoder.to(device)\n",
    "loss_metric = []\n",
    "for epoch in range(num_epochs_autoencoder):\n",
    "    loss_epoch_metric = []\n",
    "    for year, seq in train_dataloader:\n",
    "        optimizer.zero_grad()\n",
    "        year = year.to(device)\n",
    "        seq = seq.to(device)\n",
    "\n",
    "        xx = autoencoder(year, seq)\n",
    "        loss = loss_f(xx, autoencoder.embedding(year, seq))\n",
    "        loss_epoch_metric.append(loss.detach().cpu().numpy())\n",
    "        loss.backward()\n",
    "        optimizer.step()\n",
    "    loss_metric.append(np.mean(loss_epoch_metric))\n",
    "    print(f'epoch {epoch} \\t Loss: {loss_metric[-1]:.4g}')"
   ]
  },
  {
   "cell_type": "markdown",
   "id": "ada8018b-7ebc-4db4-aadf-191b214b1470",
   "metadata": {},
   "source": [
    "# Train the RNN\n",
    "\n",
    "First we need to create Dataset class that can hold both the target (stored in a pd.DataFrame) and the sequences.\n",
    "\n",
    "The sequences will be of dimension 14 x encoding_dimension, because we have 14 years of surveys.\n",
    "\n",
    "I have created some code for getting the data into the right format, but it might not be useful.\n",
    "\n",
    "## Regarding masks\n",
    "Right now the masking is done already in the encoding. I haven't found exactly where Mikkel implemented this.\n",
    "So for now, assume that nothing is padded, and then we'll figure it out with Mikkel."
   ]
  },
  {
   "cell_type": "code",
   "execution_count": null,
   "id": "af1786da-d2b5-4e1f-81f6-1db7bca5515b",
   "metadata": {},
   "outputs": [],
   "source": [
    "# its not everyone we have a target for, so we do restrict the data to \n",
    "# the ones with known outcomes\n",
    "\n",
    "train_person_ids, test_person_ids = train_test_split(targets['nomem_encr'], test_size=0.2, random_state=42)"
   ]
  },
  {
   "cell_type": "code",
   "execution_count": null,
   "id": "317ed83d-0d05-4404-92cb-16889c744519",
   "metadata": {},
   "outputs": [],
   "source": [
    "# structure the data as a Dict[person_id, survey_embedding_sequence] \n",
    "# where survey_embedding_sequence is a tensor of size 14 x embedding_dimension\n",
    "with torch.no_grad():\n",
    "    rnn_data = {person_id:\n",
    "                    autoencoder(\n",
    "                        torch.tensor(\n",
    "                            [year-2007 for year, _ in wave_responses.items()]\n",
    "                        ).to(device),\n",
    "                        torch.tensor(\n",
    "                            [ wave_response for _, wave_response in wave_responses.items()]\n",
    "                        ).to(device),\n",
    "                        encode_only=True,\n",
    "                    )\n",
    "                for person_id, wave_responses in sequences.items()\n",
    "            }"
   ]
  },
  {
   "cell_type": "code",
   "execution_count": null,
   "id": "3eaadc01-1e81-4727-b7f4-f14823463fc4",
   "metadata": {},
   "outputs": [],
   "source": [
    "# split data based on the splits made for the target\n",
    "train_data = {person_id: rnn_data[person_id] for person_id in train_person_ids}\n",
    "test_data = {person_id: rnn_data[person_id] for person_id in test_person_ids}\n"
   ]
  },
  {
   "cell_type": "code",
   "execution_count": null,
   "id": "6d85edc9-8457-439f-8fe9-fbd94eb9b466",
   "metadata": {},
   "outputs": [],
   "source": [
    "from model.dataset import FinetuningDataset\n",
    "train_dataset = FinetuningDataset(train_data, targets = targets)\n",
    "test_dataset = FinetuningDataset(test_data, targets = targets)\n",
    "\n",
    "rnn_batch_size = 64\n",
    "\n",
    "train_dataloader = DataLoader(train_dataset, batch_size=rnn_batch_size, shuffle=True)\n",
    "test_dataloader  = DataLoader(test_dataset,  batch_size=rnn_batch_size)"
   ]
  },
  {
   "cell_type": "code",
   "execution_count": null,
   "id": "82cf1777-49e7-462d-ae51-549ea6c8305e",
   "metadata": {},
   "outputs": [
    {
     "name": "stdout",
     "output_type": "stream",
     "text": [
      "The model is going to set all input MASK to None\n",
      "0\n",
      "Epoch 1/10, Loss: 1.1433\n",
      "1\n",
      "Epoch 2/10, Loss: 0.9728\n",
      "2\n",
      "Epoch 3/10, Loss: 0.8092\n",
      "3\n",
      "Epoch 4/10, Loss: 0.7336\n",
      "4\n",
      "Epoch 5/10, Loss: 0.6012\n",
      "5\n",
      "Epoch 6/10, Loss: 0.5827\n",
      "6\n",
      "Epoch 7/10, Loss: 0.5493\n",
      "7\n",
      "Epoch 8/10, Loss: 0.5346\n",
      "8\n",
      "Epoch 9/10, Loss: 0.5265\n",
      "9\n",
      "Epoch 10/10, Loss: 0.5300\n"
     ]
    }
   ],
   "source": [
    "HIDDEN_SIZE = 10\n",
    "\n",
    "num_epochs_rnn = 10\n",
    "learning_rate_rnn = 0.001\n",
    "\n",
    "rnn_model = GRUDecoder(\n",
    "    input_size=ENCODING_SIZE,\n",
    "    hidden_size=HIDDEN_SIZE,\n",
    "    max_seq_len=14\n",
    ").to(device)\n",
    "\n",
    "# Define loss function and optimizer for RNN\n",
    "rnn_loss = torch.nn.BCELoss()\n",
    "rnn_optimizer = torch.optim.Adam(rnn_model.parameters(), lr=learning_rate_rnn)\n",
    "\n",
    "# Training loop\n",
    "rnn_model.train()\n",
    "for epoch in range(num_epochs_rnn):\n",
    "    print(epoch)\n",
    "    running_loss = 0\n",
    "\n",
    "    for batch in train_dataloader:\n",
    "        inputs, labels = batch\n",
    "        inputs, labels = inputs.to(device), labels.to(torch.float).to(device)\n",
    "\n",
    "        rnn_optimizer.zero_grad() \n",
    "\n",
    "        # Forward pass\n",
    "        xx = rnn_model(inputs)\n",
    "        outputs = torch.nn.functional.sigmoid(xx)\n",
    "\n",
    "        loss = rnn_loss(torch.flatten(outputs), labels)  \n",
    "\n",
    "        running_loss += loss.item() * inputs.size(0)\n",
    "        #loss.backward(retain_graph=True)\n",
    "        loss.backward()\n",
    "        rnn_optimizer.step()\n",
    "\n",
    "\n",
    "    # Calculate average loss for the epoch\n",
    "    epoch_loss = running_loss / len(train_dataloader.dataset)\n",
    "\n",
    "    print(f\"Epoch {epoch+1}/{num_epochs_rnn}, Loss: {epoch_loss:.4f}\")\n",
    "    "
   ]
  },
  {
   "cell_type": "code",
   "execution_count": null,
   "id": "f7189352-db53-419f-a6e2-60c517ba587d",
   "metadata": {},
   "outputs": [],
   "source": [
    "import torch\n",
    "from sklearn.metrics import precision_recall_fscore_support\n",
    "\n",
    "def evaluate_model(model, dataloader):\n",
    "    model.eval()  # Set the model to evaluation mode\n",
    "    predictions, actuals = [], []\n",
    "    \n",
    "    with torch.no_grad():\n",
    "        for batch in dataloader:\n",
    "            inputs, labels = batch\n",
    "            inputs, labels = inputs.to(device), labels.to(torch.float).to(device)\n",
    "            \n",
    "            # Forward pass\n",
    "            outputs = model(inputs)\n",
    "            outputs = torch.nn.functional.sigmoid(outputs)\n",
    "            \n",
    "            # Convert outputs to binary predictions\n",
    "            predicted_labels = (outputs > 0.5).float()  # Threshold predictions\n",
    "            print(labels)\n",
    "            print(predicted_labels.flatten())\n",
    "            print('')\n",
    "            \n",
    "            # Store predictions and actual labels\n",
    "            predictions.append(predicted_labels.flatten())\n",
    "            actuals.append(labels.flatten())\n",
    "    \n",
    "    # Concatenate all the batches\n",
    "    predictions = torch.cat(predictions)\n",
    "    actuals = torch.cat(actuals)\n",
    "    \n",
    "    # Calculate precision, recall, and F1 score\n",
    "    precision, recall, f1, _ = precision_recall_fscore_support(actuals.cpu().numpy(), predictions.cpu().numpy(), average='binary')\n",
    "    \n",
    "    return precision, recall, f1\n"
   ]
  },
  {
   "cell_type": "code",
   "execution_count": null,
   "id": "2ac372ff-89b4-49e4-b634-be5d6d8c356e",
   "metadata": {},
   "outputs": [
    {
     "name": "stdout",
     "output_type": "stream",
     "text": [
      "tensor([0., 0., 0., 1., 0., 1.])\n",
      "tensor([0., 0., 0., 0., 0., 0.])\n",
      "\n",
      "Precision: 0.0000\n",
      "Recall: 0.0000\n",
      "F1 Score: 0.0000\n"
     ]
    },
    {
     "name": "stderr",
     "output_type": "stream",
     "text": [
      "/Library/Frameworks/Python.framework/Versions/3.10/lib/python3.10/site-packages/sklearn/metrics/_classification.py:1344: UndefinedMetricWarning: Precision and F-score are ill-defined and being set to 0.0 due to no predicted samples. Use `zero_division` parameter to control this behavior.\n",
      "  _warn_prf(average, modifier, msg_start, len(result))\n"
     ]
    }
   ],
   "source": [
    "precision, recall, f1 = evaluate_model(rnn_model, test_dataloader)\n",
    "print(f\"Precision: {precision:.4f}\")\n",
    "print(f\"Recall: {recall:.4f}\")\n",
    "print(f\"F1 Score: {f1:.4f}\")"
   ]
  },
  {
   "cell_type": "code",
   "execution_count": null,
   "id": "af18cbb7-5f65-4aa6-a30a-f28fb3afc4f8",
   "metadata": {},
   "outputs": [],
   "source": []
  }
 ],
 "metadata": {
  "kernelspec": {
   "display_name": "Python 3",
   "language": "python",
   "name": "python3"
  },
  "language_info": {
   "codemirror_mode": {
    "name": "ipython",
    "version": 3
   },
   "file_extension": ".py",
   "mimetype": "text/x-python",
   "name": "python",
   "nbconvert_exporter": "python",
   "pygments_lexer": "ipython3",
   "version": "3.9.6"
  }
 },
 "nbformat": 4,
 "nbformat_minor": 5
}
