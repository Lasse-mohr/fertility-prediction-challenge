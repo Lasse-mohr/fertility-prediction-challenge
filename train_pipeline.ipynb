{
 "cells": [
  {
   "cell_type": "code",
   "execution_count": 1,
   "id": "c9914262-7a3e-4e3a-9e07-043d40efd79b",
   "metadata": {},
   "outputs": [],
   "source": [
    "# Data packages\n",
    "import pandas as pd \n",
    "import matplotlib.pyplot as plt\n",
    "\n",
    "from tqdm import tqdm\n",
    "import numpy as np\n",
    "import torch\n",
    "import torch.nn as nn\n",
    "import torch.nn.functional as F\n",
    "import torch.optim as optim\n",
    "from torch.utils.data import DataLoader\n",
    "\n",
    "from sklearn.model_selection import train_test_split\n",
    "from sklearn.metrics import precision_recall_fscore_support, average_precision_score\n",
    "from model.rnn import GRUDecoder\n",
    "from model.autoencoder import SimpleAutoEncoder\n",
    "from data_processing.pipeline import encoding_pipeline, get_generic_name"
   ]
  },
  {
   "cell_type": "code",
   "execution_count": 2,
   "id": "18aee1dd-7884-40e7-be05-db070f1a452c",
   "metadata": {},
   "outputs": [
    {
     "name": "stdout",
     "output_type": "stream",
     "text": [
      "Using MPS (Metal Performance Shaders) device\n"
     ]
    }
   ],
   "source": [
    "def get_device():\n",
    "    # Check if CUDA is available\n",
    "    if torch.cuda.is_available():\n",
    "        # If CUDA is available, select the first CUDA device\n",
    "        device = torch.device(\"cuda:0\")\n",
    "        print(\"Using CUDA device:\", torch.cuda.get_device_name(0))\n",
    "    # Check for MPS availability on supported macOS devices (requires PyTorch 1.12 or newer)\n",
    "    elif torch.backends.mps.is_available():\n",
    "        # If MPS is available, use MPS device\n",
    "        device = torch.device(\"mps\")\n",
    "        print(\"Using MPS (Metal Performance Shaders) device\")\n",
    "    else:\n",
    "        # Fallback to CPU if neither CUDA nor MPS is available\n",
    "        device = torch.device(\"cpu\")\n",
    "        print(\"Using CPU\")\n",
    "    return device\n",
    "device = get_device()"
   ]
  },
  {
   "cell_type": "markdown",
   "id": "83b651aa-752a-4c71-990a-332ff4099791",
   "metadata": {},
   "source": [
    "# Read the data\n",
    "\n",
    "Right now the notebook is set to work with fake data. This can be changed once the pipeline works.\n",
    "\n",
    "The data is stored as a Dict[person_id, Sequences] where Sequences is a Dict[year, survery_wave_response]"
   ]
  },
  {
   "cell_type": "code",
   "execution_count": 3,
   "id": "42c3f871-21e8-418c-9aa7-31ad09283a24",
   "metadata": {},
   "outputs": [],
   "source": [
    "# read in data and prepare transformations\n",
    "data = pd.read_csv(\"data/training_data/PreFer_train_data.csv\", low_memory=False)\n",
    "targets = pd.read_csv('data/training_data/PreFer_train_outcome.csv')\n",
    "codebook = pd.read_csv('data/codebooks/PreFer_codebook.csv')"
   ]
  },
  {
   "cell_type": "markdown",
   "id": "c0077c81",
   "metadata": {},
   "source": [
    "### Select the top 10 most important questions (there's overlap, so there's only gonna be 8)"
   ]
  },
  {
   "cell_type": "code",
   "execution_count": 4,
   "id": "d39d171d",
   "metadata": {},
   "outputs": [],
   "source": [
    "importance = pd.read_csv('features_importance_1000.csv')\n",
    "custom_pairs = importance.feature.map(lambda x: get_generic_name(x)).unique()[:10]"
   ]
  },
  {
   "cell_type": "code",
   "execution_count": 5,
   "id": "2d165d92",
   "metadata": {},
   "outputs": [
    {
     "ename": "TypeError",
     "evalue": "encoding_pipeline() got an unexpected keyword argument 'importance'",
     "output_type": "error",
     "traceback": [
      "\u001b[0;31m---------------------------------------------------------------------------\u001b[0m",
      "\u001b[0;31mTypeError\u001b[0m                                 Traceback (most recent call last)",
      "Cell \u001b[0;32mIn [5], line 5\u001b[0m\n\u001b[1;32m      3\u001b[0m     sequences \u001b[38;5;241m=\u001b[39m torch\u001b[38;5;241m.\u001b[39mload(\u001b[38;5;124m'\u001b[39m\u001b[38;5;124mdata/processed_data/sequences.pt\u001b[39m\u001b[38;5;124m'\u001b[39m)\n\u001b[1;32m      4\u001b[0m \u001b[38;5;28;01melse\u001b[39;00m:\n\u001b[0;32m----> 5\u001b[0m     sequences \u001b[38;5;241m=\u001b[39m \u001b[43mencoding_pipeline\u001b[49m\u001b[43m(\u001b[49m\u001b[43mdata\u001b[49m\u001b[43m,\u001b[49m\u001b[43m \u001b[49m\u001b[43mcodebook\u001b[49m\u001b[43m,\u001b[49m\u001b[43m \u001b[49m\u001b[43mcustom_pairs\u001b[49m\u001b[38;5;241;43m=\u001b[39;49m\u001b[43mcustom_pairs\u001b[49m\u001b[43m,\u001b[49m\u001b[43m \u001b[49m\u001b[43mimportance\u001b[49m\u001b[38;5;241;43m=\u001b[39;49m\u001b[43mimportance\u001b[49m\u001b[43m)\u001b[49m\n\u001b[1;32m      6\u001b[0m     \u001b[38;5;66;03m#torch.save(sequences, 'data/processed_data/sequences.pt')\u001b[39;00m\n",
      "\u001b[0;31mTypeError\u001b[0m: encoding_pipeline() got an unexpected keyword argument 'importance'"
     ]
    }
   ],
   "source": [
    "# check if sequences have been preprocessed (saves time)\n",
    "if False:# os.path.exists('data/processed_data/sequences.pt'):\n",
    "    sequences = torch.load('data/processed_data/sequences.pt')\n",
    "else:\n",
    "    sequences = encoding_pipeline(data, codebook, custom_pairs=custom_pairs, importance=importance)\n",
    "    #torch.save(sequences, 'data/processed_data/sequences.pt')"
   ]
  },
  {
   "cell_type": "markdown",
   "id": "f3ddb66e-cba5-4bb9-854d-811d49599b93",
   "metadata": {},
   "source": [
    "# Train the SIMPLE Autoencoder"
   ]
  },
  {
   "cell_type": "code",
   "execution_count": 10,
   "id": "3d9275bc",
   "metadata": {},
   "outputs": [],
   "source": [
    "from model.dataset import PretrainingDataset\n",
    "pretrain_dataset = PretrainingDataset(sequences)"
   ]
  },
  {
   "cell_type": "code",
   "execution_count": 7,
   "id": "a8544475-54af-4874-9e83-7f39193eb651",
   "metadata": {},
   "outputs": [
    {
     "name": "stderr",
     "output_type": "stream",
     "text": [
      "/opt/anaconda3/envs/eyra-rank/lib/python3.11/site-packages/tqdm/auto.py:21: TqdmWarning: IProgress not found. Please update jupyter and ipywidgets. See https://ipywidgets.readthedocs.io/en/stable/user_install.html\n",
      "  from .autonotebook import tqdm as notebook_tqdm\n"
     ]
    }
   ],
   "source": [
    "### Initialization of the Autoencoder \n",
    "HIDDEN_DIM = 128\n",
    "#ENCODING_SIZE = 64\n",
    "BATCH_SIZE = 128\n",
    "num_epochs_autoencoder = 1\n",
    "learning_rate_autoencoder = 10e-2\n",
    "\n",
    "SEQ_LEN = pretrain_dataset.get_seq_len()\n",
    "vocab_size = pretrain_dataset.get_vocab_size()\n",
    "\n",
    "train_dataloader = DataLoader(pretrain_dataset, batch_size=BATCH_SIZE, shuffle=True)\n",
    "autoencoder = SimpleAutoEncoder(vocab_size=vocab_size, embedding_size=HIDDEN_DIM, sequence_len=SEQ_LEN).to(device)\n",
    "\n",
    "#loss_f1 = nn.HuberLoss(delta=1.0)\n",
    "loss_cls = nn.CrossEntropyLoss()\n",
    "#loss_cos = nn.CosineEmbeddingLoss()\n",
    "optimizer = optim.RAdam( autoencoder.parameters(), lr = learning_rate_autoencoder, weight_decay=1e-2, decoupled_weight_decay=True)\n",
    "scheduler = optim.lr_scheduler.CosineAnnealingLR(optimizer, T_max = num_epochs_autoencoder, eta_min = 1e-5, last_epoch = -1)"
   ]
  },
  {
   "cell_type": "markdown",
   "id": "9094f791",
   "metadata": {},
   "source": [
    "### (or) Train the autoencoder"
   ]
  },
  {
   "cell_type": "code",
   "execution_count": 8,
   "id": "1f3d49d1",
   "metadata": {},
   "outputs": [],
   "source": [
    "# Slows down the training but allows use to detect nan\n",
    "DETECT_ANOMALY = False"
   ]
  },
  {
   "cell_type": "code",
   "execution_count": 9,
   "id": "8be77146-e5b0-4a06-9d9e-d651c88d32a5",
   "metadata": {},
   "outputs": [
    {
     "name": "stderr",
     "output_type": "stream",
     "text": [
      "Epochs 0: 11it [00:10,  1.02it/s, mean loss: 3.53300]"
     ]
    },
    {
     "name": "stdout",
     "output_type": "stream",
     "text": [
      "epoch 0 \t Loss: 3.533 and LR: 1e-05\n"
     ]
    },
    {
     "name": "stderr",
     "output_type": "stream",
     "text": [
      "\n"
     ]
    }
   ],
   "source": [
    "\"\"\" INPUT MODEL NAME BELOW (FOR CHECKPOINTS)\"\"\"\n",
    "model_name = \"foo\"\n",
    "\n",
    "autoencoder.train()\n",
    "autoencoder.to(device)\n",
    "loss_metric = []\n",
    "all_loss = []   # for plotting\n",
    "######## ANNOMALY DETECTION\n",
    "torch.autograd.set_detect_anomaly(DETECT_ANOMALY)\n",
    "\n",
    "for epoch in range(num_epochs_autoencoder):\n",
    "    loss_epoch_metric = []\n",
    "    loop_object  = tqdm(enumerate(train_dataloader), desc=f\"Epochs {epoch}\")\n",
    "    for i, (year, seq) in loop_object :\n",
    "        optimizer.zero_grad()\n",
    "        year = year.to(device)\n",
    "        seq = seq.to(device)\n",
    "        \n",
    "        nan_index = seq == 101\n",
    "\n",
    "        x = autoencoder(year, seq)\n",
    "        loss = loss_cls(x.permute(0,2,1), seq.long()) #+ #+ loss_cos(x1.reshape(x1.size(1) * x1.size(0), -1 ), \n",
    "                                                       #         autoencoder.embedding(year, seq).view(x1.size(1) * x1.size(0), -1), \n",
    "                                                        #        torch.ones(seq.size(0) * seq.size(1)).to(device))\n",
    "         #+ 0.7 * loss_f1(x1, autoencoder.embedding(year, seq)) +  \n",
    "        loss_epoch_metric.append(loss.detach().cpu().numpy())\n",
    "        all_loss.append(loss_epoch_metric[-1])\n",
    "        loss.backward()\n",
    "        optimizer.step()\n",
    "        loop_object.set_postfix_str(\"mean loss: %.5f\"%np.mean(loss_epoch_metric[-100:]))\n",
    "    ## After epoch end\n",
    "    scheduler.step()\n",
    "    loss_metric.append(np.mean(loss_epoch_metric))\n",
    "    print(f'epoch {epoch} \\t Loss: {loss_metric[-1]:.4g} and LR: {scheduler.get_last_lr()[0]:.5g}')\n",
    "    torch.save(autoencoder.state_dict(), f'weights/{model_name}_{epoch}.pt')"
   ]
  },
  {
   "cell_type": "code",
   "execution_count": 11,
   "id": "06f78caf",
   "metadata": {},
   "outputs": [
    {
     "data": {
      "image/png": "[encoded data removed]",
      "text/plain": [
       "<Figure size 640x480 with 1 Axes>"
      ]
     },
     "metadata": {},
     "output_type": "display_data"
    }
   ],
   "source": [
    "plt.plot(all_loss)\n",
    "\n",
    "plt.yscale('log')\n",
    "plt.show()"
   ]
  },
  {
   "cell_type": "markdown",
   "id": "d3968c76",
   "metadata": {},
   "source": [
    "### Explroe the embedding space"
   ]
  },
  {
   "cell_type": "code",
   "execution_count": 12,
   "id": "0778109c",
   "metadata": {},
   "outputs": [
    {
     "name": "stdout",
     "output_type": "stream",
     "text": [
      "Answer Embedding has 0 NaNs\n",
      "Year Embedding has 0 NaNs\n"
     ]
    }
   ],
   "source": [
    "### FAST CHECK\n",
    "print(\"Answer Embedding has %s NaNs\" %torch.isnan(autoencoder.embedding.answer_embedding.weight).sum().cpu().numpy())\n",
    "print(\"Year Embedding has %s NaNs\" %torch.isnan(autoencoder.embedding.yearly_embedding.weight).sum().cpu().numpy())"
   ]
  },
  {
   "cell_type": "code",
   "execution_count": 13,
   "id": "b8118b33",
   "metadata": {},
   "outputs": [
    {
     "name": "stderr",
     "output_type": "stream",
     "text": [
      "OMP: Info #276: omp_set_nested routine deprecated, please use omp_set_max_active_levels instead.\n"
     ]
    }
   ],
   "source": [
    "#import umap\n",
    "import umap.umap_ as umap\n",
    "import matplotlib.pyplot as plt\n",
    "w = autoencoder.embedding.answer_embedding.weight.detach().cpu().numpy()\n",
    "projector = umap.UMAP(n_components=2)\n",
    "wp = projector.fit_transform(w)\n",
    "plt.scatter(wp[:,0], wp[:,1])\n",
    "plt.show()"
   ]
  },
  {
   "cell_type": "markdown",
   "id": "ada8018b-7ebc-4db4-aadf-191b214b1470",
   "metadata": {},
   "source": [
    "# Train the RNN\n",
    "\n",
    "First we need to create Dataset class that can hold both the target (stored in a pd.DataFrame) and the sequences.\n",
    "\n",
    "The sequences will be of dimension 14 x encoding_dimension, because we have 14 years of surveys.\n",
    "\n",
    "I have created some code for getting the data into the right format, but it might not be useful.\n",
    "\n",
    "## Regarding masks\n",
    "Right now the masking is done already in the encoding. I haven't found exactly where Mikkel implemented this.\n",
    "So for now, assume that nothing is padded, and then we'll figure it out with Mikkel."
   ]
  },
  {
   "cell_type": "code",
   "execution_count": 46,
   "id": "af1786da-d2b5-4e1f-81f6-1db7bca5515b",
   "metadata": {},
   "outputs": [],
   "source": [
    "# its not everyone we have a target for, so we do restrict the data to \n",
    "# the ones with known outcomes\n",
    "targets = targets[targets.new_child.notna()]\n",
    "train_person_ids, test_person_ids = train_test_split(targets['nomem_encr'], test_size=0.2, random_state=42)"
   ]
  },
  {
   "cell_type": "code",
   "execution_count": 28,
   "id": "754d624a",
   "metadata": {},
   "outputs": [],
   "source": [
    "rnn_data = {person_id: (\n",
    "        torch.tensor([year-2007 for year, _ in wave_responses.items()]).to(device),\n",
    "        torch.tensor([ wave_response for _, wave_response in wave_responses.items()]).to(device)\n",
    "        )\n",
    "        for person_id, wave_responses in sequences.items()\n",
    "}"
   ]
  },
  {
   "cell_type": "code",
   "execution_count": 29,
   "id": "3eaadc01-1e81-4727-b7f4-f14823463fc4",
   "metadata": {},
   "outputs": [],
   "source": [
    "# split data based on the splits made for the target\n",
    "train_data = {person_id: rnn_data[person_id] for person_id in train_person_ids}\n",
    "test_data = {person_id: rnn_data[person_id] for person_id in test_person_ids}"
   ]
  },
  {
   "cell_type": "code",
   "execution_count": 30,
   "id": "6d85edc9-8457-439f-8fe9-fbd94eb9b466",
   "metadata": {},
   "outputs": [],
   "source": [
    "from model.dataset import FinetuningDataset\n",
    "train_dataset = FinetuningDataset(train_data, targets = targets)\n",
    "test_dataset = FinetuningDataset(test_data, targets = targets)\n",
    "\n",
    "rnn_batch_size = 16\n",
    "\n",
    "train_dataloader = DataLoader(train_dataset, batch_size=rnn_batch_size, shuffle=True)\n",
    "test_dataloader  = DataLoader(test_dataset,  batch_size=rnn_batch_size)"
   ]
  },
  {
   "cell_type": "code",
   "execution_count": 31,
   "id": "caf49964",
   "metadata": {},
   "outputs": [
    {
     "name": "stdout",
     "output_type": "stream",
     "text": [
      "Ready!\n"
     ]
    },
    {
     "name": "stderr",
     "output_type": "stream",
     "text": [
      "/opt/anaconda3/envs/eyra-rank/lib/python3.11/site-packages/torch/nn/modules/lazy.py:181: UserWarning: Lazy modules are a new feature under heavy development so changes to the API or functionality can happen at any moment.\n",
      "  warnings.warn('Lazy modules are a new feature under heavy development '\n"
     ]
    }
   ],
   "source": [
    "# ft - fine-tuning\n",
    "ENCODING_SIZE = 64\n",
    "HIDDEN_SIZE = 64\n",
    "\n",
    "num_epochs_ft = 1\n",
    "learning_rate_ft = 5e-3\n",
    "\n",
    "aggregator = nn.Sequential(\n",
    "    nn.LazyInstanceNorm1d(),\n",
    "    nn.LazyLinear(ENCODING_SIZE),\n",
    "    nn.LazyBatchNorm1d()).to(device)\n",
    "\n",
    "######## WHAT we used initialy\n",
    "#decoder = GRUDecoder(\n",
    "#    input_size=ENCODING_SIZE,\n",
    "#    hidden_size=HIDDEN_SIZE,\n",
    "#    max_seq_len=14\n",
    "#).to(device)\n",
    "\n",
    "#### Simple RNN\n",
    "decoder = GRUDecoder(\n",
    "    input_size=ENCODING_SIZE,\n",
    "    hidden_size=HIDDEN_SIZE,\n",
    "    max_seq_len=14,\n",
    "    dropout=0.15,\n",
    "    bidirectional= False, \n",
    "    num_layers=2,\n",
    "    with_attention= True\n",
    ").to(device)\n",
    "\n",
    "\n",
    "##### SIMPLE DECODER with AVERGING (no reccurences or attention)\n",
    "#decoder = SimpleDecoder(input_size=ENCODING_SIZE, output_size=1).to(device)\n",
    "\n",
    "# Define loss function and optimizer for RNN\n",
    "ft_loss = torch.nn.BCELoss()\n",
    "ft_optimizer = torch.optim.RAdam(list(decoder.parameters()) + list(autoencoder.parameters()) + list(aggregator.parameters()) , \n",
    "                                                                   lr=learning_rate_ft, \n",
    "                                                                   weight_decay=1e-3, \n",
    "                                                                   decoupled_weight_decay=True)\n",
    "ft_scheduler = optim.lr_scheduler.CosineAnnealingLR(ft_optimizer, T_max = num_epochs_ft, eta_min = 1e-6, last_epoch = -1)\n",
    "\n",
    "# Training loop\n",
    "decoder.train()\n",
    "autoencoder.train()\n",
    "aggregator.train()\n",
    "print(\"Ready!\")"
   ]
  },
  {
   "cell_type": "code",
   "execution_count": 32,
   "id": "2ffe77dd",
   "metadata": {},
   "outputs": [],
   "source": [
    "NUM_COLS = 44"
   ]
  },
  {
   "cell_type": "code",
   "execution_count": 53,
   "id": "82cf1777-49e7-462d-ae51-549ea6c8305e",
   "metadata": {},
   "outputs": [
    {
     "name": "stderr",
     "output_type": "stream",
     "text": [
      "Epochs 0: 0it [00:00, ?it/s]\n"
     ]
    },
    {
     "ename": "RuntimeError",
     "evalue": "shape '[224, -1]' is invalid for input of size 1664",
     "output_type": "error",
     "traceback": [
      "\u001b[0;31m---------------------------------------------------------------------------\u001b[0m",
      "\u001b[0;31mRuntimeError\u001b[0m                              Traceback (most recent call last)",
      "Cell \u001b[0;32mIn[53], line 14\u001b[0m\n\u001b[1;32m     12\u001b[0m bs, ss \u001b[38;5;241m=\u001b[39m labels\u001b[38;5;241m.\u001b[39msize(\u001b[38;5;241m0\u001b[39m), \u001b[38;5;241m14\u001b[39m\n\u001b[1;32m     13\u001b[0m input_year \u001b[38;5;241m=\u001b[39m input_year\u001b[38;5;241m.\u001b[39mreshape(\u001b[38;5;241m-\u001b[39m\u001b[38;5;241m1\u001b[39m)\u001b[38;5;241m.\u001b[39mto(device)\n\u001b[0;32m---> 14\u001b[0m input_seq \u001b[38;5;241m=\u001b[39m \u001b[43minput_seq\u001b[49m\u001b[38;5;241;43m.\u001b[39;49m\u001b[43mreshape\u001b[49m\u001b[43m(\u001b[49m\u001b[43mbs\u001b[49m\u001b[43m \u001b[49m\u001b[38;5;241;43m*\u001b[39;49m\u001b[43m \u001b[49m\u001b[43mss\u001b[49m\u001b[43m,\u001b[49m\u001b[43m \u001b[49m\u001b[38;5;241;43m-\u001b[39;49m\u001b[38;5;241;43m1\u001b[39;49m\u001b[43m)\u001b[49m\u001b[38;5;241m.\u001b[39mto(device)\n\u001b[1;32m     16\u001b[0m encodings \u001b[38;5;241m=\u001b[39m autoencoder\u001b[38;5;241m.\u001b[39mget_encoding(input_year, input_seq)\u001b[38;5;241m.\u001b[39mview(bs,ss, \u001b[38;5;241m-\u001b[39m\u001b[38;5;241m1\u001b[39m)\n\u001b[1;32m     17\u001b[0m encodings \u001b[38;5;241m=\u001b[39m aggregator(encodings) \u001b[38;5;66;03m# make sure that the number of dimensions is aligned after the Simple Decoder\u001b[39;00m\n",
      "\u001b[0;31mRuntimeError\u001b[0m: shape '[224, -1]' is invalid for input of size 1664"
     ]
    }
   ],
   "source": [
    "loss_per_epoch = []\n",
    "for epoch in range(num_epochs_ft):\n",
    "    # print(epoch)\n",
    "    loss_per_step = []\n",
    "    loop_object  = tqdm(enumerate(train_dataloader), desc=f\"Epochs {epoch}\")\n",
    "    for i, batch in loop_object :        \n",
    "        ft_optimizer.zero_grad() \n",
    "        inputs, labels = batch\n",
    "        labels = labels.to(torch.float).to(device)\n",
    "\n",
    "        input_year, input_seq = inputs\n",
    "        bs, ss = labels.size(0), 14\n",
    "        input_year = input_year.reshape(-1).to(device)\n",
    "        input_seq = input_seq.reshape(bs * ss, -1).to(device)\n",
    "\n",
    "        encodings = autoencoder.get_encoding(input_year, input_seq).view(bs,ss, -1)\n",
    "        encodings = aggregator(encodings) # make sure that the number of dimensions is aligned after the Simple Decoder\n",
    "        mask = ~((input_seq == 101).sum(-1) == NUM_COLS).view(bs,ss).detach()\n",
    "\n",
    "        # Forward pass\n",
    "        xx = decoder(encodings, mask)\n",
    "        outputs = F.sigmoid(xx)\n",
    "\n",
    "        loss = ft_loss(torch.flatten(outputs), labels)  \n",
    "        loss_per_step.append(loss.detach().cpu().numpy())\n",
    "        loop_object.set_postfix_str(\"mean loss: %.3f\"%np.mean(loss_per_step[-100:]))\n",
    "\n",
    "        #loss.backward(retain_graph=True)\n",
    "        loss.backward()\n",
    "        ft_optimizer.step()\n",
    "    # On epoch end\n",
    "    loss_per_epoch.append(np.mean(loss_per_step))\n",
    "    ft_scheduler.step()\n",
    "\n",
    "    print(f\"Epoch {epoch+1}/{num_epochs_ft}, Loss: {loss_per_epoch[-1]:.4f}\")\n",
    "    "
   ]
  },
  {
   "cell_type": "code",
   "execution_count": 34,
   "id": "649bc948",
   "metadata": {},
   "outputs": [],
   "source": [
    "\n",
    "val_loss = []\n",
    "preds = []\n",
    "targets = []\n",
    "\n",
    "## Set both models into the eval mode.=\n",
    "decoder.eval()\n",
    "autoencoder.eval()\n",
    "aggregator.eval()\n",
    "for batch in test_dataloader:\n",
    "    inputs, labels = batch\n",
    "    labels = labels.to(torch.float).to(device)\n",
    "\n",
    "    input_year, input_seq = inputs\n",
    "    bs, ss = labels.size(0), 14\n",
    "    input_year = input_year.reshape(-1).to(device)\n",
    "    input_seq = input_seq.reshape(bs * ss, -1).to(device)\n",
    "\n",
    "    encodings = autoencoder.get_encoding(input_year, input_seq).view(bs,ss, -1)\n",
    "    encodings = aggregator(encodings)\n",
    "    mask = ~((input_seq == 101).sum(-1) == NUM_COLS).view(bs,ss).detach()\n",
    "\n",
    "\n",
    "    # Forward pass\n",
    "    xx = decoder(encodings, mask)\n",
    "    outputs = torch.nn.functional.sigmoid(xx).flatten()\n",
    "    loss = ft_loss(outputs, labels)  \n",
    "    val_loss.append(loss.detach().cpu().numpy())\n",
    "    preds.extend(outputs.detach().cpu().numpy().tolist())\n",
    "    targets.extend(labels.cpu().numpy().tolist())"
   ]
  },
  {
   "cell_type": "code",
   "execution_count": 35,
   "id": "d0d2fe43",
   "metadata": {},
   "outputs": [
    {
     "name": "stdout",
     "output_type": "stream",
     "text": [
      "Precision: 0.0000\n",
      "Recall: 0.0000\n",
      "F1 Score: 0.0000\n",
      "-- mAP Score: 0.2525 --\n"
     ]
    },
    {
     "name": "stderr",
     "output_type": "stream",
     "text": [
      "/opt/anaconda3/envs/eyra-rank/lib/python3.11/site-packages/sklearn/metrics/_classification.py:1509: UndefinedMetricWarning: Precision is ill-defined and being set to 0.0 due to no predicted samples. Use `zero_division` parameter to control this behavior.\n",
      "  _warn_prf(average, modifier, f\"{metric.capitalize()} is\", len(result))\n"
     ]
    }
   ],
   "source": [
    "# Concatenate all the batches\n",
    "predictions = (torch.tensor(preds) > 0.5).float()\n",
    "probs = F.sigmoid(predictions)\n",
    "actuals = torch.tensor(targets).flatten()\n",
    "\n",
    "# Calculate precision, recall, and F1 score\n",
    "precision, recall, f1, _ = precision_recall_fscore_support(actuals.cpu().numpy(), predictions.cpu().numpy(), average='binary')\n",
    "map_roc = average_precision_score(actuals.numpy(), probs.numpy())\n",
    "print(f\"Precision: {precision:.4f}\")\n",
    "print(f\"Recall: {recall:.4f}\")\n",
    "print(f\"F1 Score: {f1:.4f}\")\n",
    "print(f\"-- mAP Score: {map_roc:.4f} --\")"
   ]
  },
  {
   "cell_type": "code",
   "execution_count": null,
   "id": "a83cad7f",
   "metadata": {},
   "outputs": [],
   "source": []
  },
  {
   "cell_type": "markdown",
   "id": "816a65b0",
   "metadata": {},
   "source": [
    "# What is the effect of increasing the vocabulary"
   ]
  },
  {
   "cell_type": "code",
   "execution_count": 4,
   "id": "acf98115",
   "metadata": {},
   "outputs": [],
   "source": [
    "from model.dataset import PretrainingDataset\n",
    "from model.dataset import FinetuningDataset"
   ]
  },
  {
   "cell_type": "code",
   "execution_count": 5,
   "id": "df7ef1e0",
   "metadata": {},
   "outputs": [],
   "source": [
    "def pretrain(pt_epochs, train_dataloader, autoencoder, optimizer_pt, loss_pt, scheduler_pt):\n",
    "    for epoch in range(pt_epochs):\n",
    "\n",
    "        loop_object  = tqdm(enumerate(train_dataloader), desc=f\"Epochs {epoch}\")\n",
    "        for i, (year, seq) in loop_object :\n",
    "            optimizer_pt.zero_grad()\n",
    "            year = year.to(device)\n",
    "            seq = seq.to(device)\n",
    "            \n",
    "            x = autoencoder(year, seq)\n",
    "            loss = loss_pt(x.permute(0,2,1), seq.long())\n",
    "                                                            \n",
    "            loss.backward()\n",
    "            optimizer_pt.step()\n",
    "        ## After epoch end\n",
    "        scheduler_pt.step()\n",
    "        \n",
    "\n",
    "def finetune(num_epochs_ft, train_dataloader, autoencoder, decoder, ft_loss, ft_optimizer, aggregator, num_cols):\n",
    "    for epoch in range(num_epochs_ft):\n",
    "        # print(epoch)\n",
    "        loop_object  = tqdm(enumerate(train_dataloader), desc=f\"Epochs {epoch}\")\n",
    "        for i, batch in loop_object :        \n",
    "            ft_optimizer.zero_grad() \n",
    "            inputs, labels = batch\n",
    "            labels = labels.to(torch.float).to(device)\n",
    "\n",
    "            input_year, input_seq = inputs\n",
    "            bs, ss = labels.size(0), 14\n",
    "            input_year = input_year.reshape(-1).to(device)\n",
    "            input_seq = input_seq.reshape(bs * ss, -1).to(device)\n",
    "\n",
    "            encodings = autoencoder.get_encoding(input_year, input_seq).view(bs,ss, -1)\n",
    "            encodings = aggregator(encodings) # make sure that the number of dimensions is aligned after the Simple Decoder\n",
    "            mask = ~((input_seq == 101).sum(-1) == num_cols).view(bs,ss).detach()\n",
    "\n",
    "            # Forward pass\n",
    "            xx = decoder(encodings, mask)\n",
    "            outputs = F.sigmoid(xx)\n",
    "\n",
    "            loss = ft_loss(torch.flatten(outputs), labels)  \n",
    "\n",
    "            #loss.backward(retain_graph=True)\n",
    "            loss.backward()\n",
    "            ft_optimizer.step()"
   ]
  },
  {
   "cell_type": "code",
   "execution_count": 6,
   "id": "9011e5c0",
   "metadata": {},
   "outputs": [],
   "source": [
    "def evaluate(dataloader, encoder, decoder, num_cols, aggregator):\n",
    "    val_loss = []\n",
    "    preds = []\n",
    "    targets = []\n",
    "\n",
    "    ## Set both models into the eval mode\n",
    "    decoder.eval()\n",
    "    encoder.eval()\n",
    "    for batch in dataloader:\n",
    "        inputs, labels = batch\n",
    "        labels = labels.to(torch.float).to(device)\n",
    "\n",
    "        input_year, input_seq = inputs\n",
    "        bs, ss = labels.size(0), 14\n",
    "        input_year = input_year.reshape(-1).to(device)\n",
    "        input_seq = input_seq.reshape(bs * ss, -1).to(device)\n",
    "\n",
    "        encodings = encoder.get_encoding(input_year, input_seq).view(bs,ss, -1)\n",
    "        encodings = aggregator(encodings) # make sure that the number of dimensions is aligned after the Simple Decoder\n",
    "        mask = ~((input_seq == 101).sum(-1) == num_cols).view(bs,ss).detach()\n",
    "\n",
    "        # Forward pass\n",
    "        xx = decoder(encodings, mask)\n",
    "        outputs = torch.nn.functional.sigmoid(xx).flatten()\n",
    "        loss = ft_loss(outputs, labels)  \n",
    "        val_loss.append(loss.detach().cpu().numpy())\n",
    "        preds.extend(outputs.detach().cpu().numpy().tolist())\n",
    "        targets.extend(labels.cpu().numpy().tolist())\n",
    "\n",
    "\n",
    "    # Concatenate all the batches\n",
    "    predictions = (torch.tensor(preds) > 0.5).float()\n",
    "    probs = F.sigmoid(predictions)\n",
    "    actuals = torch.tensor(targets).flatten()\n",
    "\n",
    "    # Calculate precision, recall, and F1 score\n",
    "    precision, recall, f1, _ = precision_recall_fscore_support(actuals.cpu().numpy(), predictions.cpu().numpy(), average='binary')\n",
    "    map_roc = average_precision_score(actuals.numpy(), probs.numpy())\n",
    "    \n",
    "    return precision, recall, f1, map_roc"
   ]
  },
  {
   "cell_type": "code",
   "execution_count": 63,
   "id": "08697fa9",
   "metadata": {},
   "outputs": [],
   "source": [
    "PT_HIDDEN_DIM=128\n",
    "PT_BATCH_SIZE=128\n",
    "PT_NUM_EPOCHS=5\n",
    "PT_LEARNING_RATE=10e-2\n",
    "\n",
    "FT_BATCH_SIZE = 16\n",
    "FT_ENCODING_SIZE = 64\n",
    "FT_HIDDEN_SIZE = 64\n",
    "\n",
    "FT_NUM_EPOCHS= 10\n",
    "FT_LEARNING_RATE= 5e-3\n",
    "n_questions = [50, 250, 500, 750, 1000]\n",
    "reps = 3\n",
    "\n",
    "importance = pd.read_csv('features_importance_1000.csv')\n",
    "targets = targets[targets.new_child.notna()].reset_index(drop=True)"
   ]
  },
  {
   "cell_type": "code",
   "execution_count": 64,
   "id": "0a6fd488",
   "metadata": {},
   "outputs": [
    {
     "name": "stdout",
     "output_type": "stream",
     "text": [
      "50\n"
     ]
    },
    {
     "name": "stderr",
     "output_type": "stream",
     "text": [
      "/Users/lmmi/fertility-prediction-challenge/data_processing/pipeline.py:21: SettingWithCopyWarning: \n",
      "A value is trying to be set on a copy of a slice from a DataFrame.\n",
      "Try using .loc[row_indexer,col_indexer] = value instead\n",
      "\n",
      "See the caveats in the documentation: https://pandas.pydata.org/pandas-docs/stable/user_guide/indexing.html#returning-a-view-versus-a-copy\n",
      "  codebook[\"pairs\"] = codebook['var_name'].apply(get_generic_name)\n",
      "Epochs 0: 702it [00:28, 24.28it/s]\n",
      "Epochs 1: 702it [00:28, 24.56it/s]\n",
      "Epochs 2: 702it [00:28, 24.81it/s]\n",
      "Epochs 3: 702it [00:28, 24.33it/s]\n",
      "Epochs 4: 702it [00:28, 24.99it/s]\n",
      "/opt/anaconda3/envs/eyra-rank/lib/python3.11/site-packages/torch/nn/modules/lazy.py:181: UserWarning: Lazy modules are a new feature under heavy development so changes to the API or functionality can happen at any moment.\n",
      "  warnings.warn('Lazy modules are a new feature under heavy development '\n",
      "Epochs 0: 50it [00:07,  6.33it/s]\n",
      "Epochs 1: 50it [00:07,  6.33it/s]\n",
      "Epochs 2: 50it [00:07,  6.31it/s]\n",
      "Epochs 3: 50it [00:07,  6.30it/s]\n",
      "Epochs 4: 50it [00:07,  6.32it/s]\n",
      "Epochs 5: 50it [00:07,  6.30it/s]\n",
      "Epochs 6: 50it [00:07,  6.32it/s]\n",
      "Epochs 7: 50it [00:07,  6.30it/s]\n",
      "Epochs 8: 50it [00:07,  6.35it/s]\n",
      "Epochs 9: 50it [00:07,  6.29it/s]\n"
     ]
    },
    {
     "name": "stdout",
     "output_type": "stream",
     "text": [
      "250\n"
     ]
    },
    {
     "name": "stderr",
     "output_type": "stream",
     "text": [
      "/Users/lmmi/fertility-prediction-challenge/data_processing/pipeline.py:21: SettingWithCopyWarning: \n",
      "A value is trying to be set on a copy of a slice from a DataFrame.\n",
      "Try using .loc[row_indexer,col_indexer] = value instead\n",
      "\n",
      "See the caveats in the documentation: https://pandas.pydata.org/pandas-docs/stable/user_guide/indexing.html#returning-a-view-versus-a-copy\n",
      "  codebook[\"pairs\"] = codebook['var_name'].apply(get_generic_name)\n",
      "Epochs 0: 702it [02:37,  4.46it/s]\n",
      "Epochs 1: 702it [02:08,  5.46it/s]\n",
      "Epochs 2: 702it [01:55,  6.05it/s]\n",
      "Epochs 3: 702it [02:36,  4.49it/s]\n",
      "Epochs 4: 702it [02:39,  4.40it/s]\n",
      "/opt/anaconda3/envs/eyra-rank/lib/python3.11/site-packages/torch/nn/modules/lazy.py:181: UserWarning: Lazy modules are a new feature under heavy development so changes to the API or functionality can happen at any moment.\n",
      "  warnings.warn('Lazy modules are a new feature under heavy development '\n",
      "Epochs 0: 50it [00:19,  2.61it/s]\n",
      "Epochs 1: 50it [00:19,  2.62it/s]\n",
      "Epochs 2: 50it [00:19,  2.63it/s]\n",
      "Epochs 3: 50it [00:19,  2.61it/s]\n",
      "Epochs 4: 50it [00:18,  2.64it/s]\n",
      "Epochs 5: 50it [00:19,  2.62it/s]\n",
      "Epochs 6: 50it [00:19,  2.59it/s]\n",
      "Epochs 7: 50it [00:18,  2.74it/s]\n",
      "Epochs 8: 50it [00:19,  2.62it/s]\n",
      "Epochs 9: 50it [00:19,  2.59it/s]\n"
     ]
    },
    {
     "name": "stdout",
     "output_type": "stream",
     "text": [
      "500\n"
     ]
    },
    {
     "name": "stderr",
     "output_type": "stream",
     "text": [
      "/Users/lmmi/fertility-prediction-challenge/data_processing/pipeline.py:21: SettingWithCopyWarning: \n",
      "A value is trying to be set on a copy of a slice from a DataFrame.\n",
      "Try using .loc[row_indexer,col_indexer] = value instead\n",
      "\n",
      "See the caveats in the documentation: https://pandas.pydata.org/pandas-docs/stable/user_guide/indexing.html#returning-a-view-versus-a-copy\n",
      "  codebook[\"pairs\"] = codebook['var_name'].apply(get_generic_name)\n",
      "Epochs 0: 702it [05:09,  2.27it/s]\n",
      "Epochs 1: 702it [04:24,  2.66it/s]\n",
      "Epochs 2: 702it [03:43,  3.14it/s]\n",
      "Epochs 3: 702it [13:53,  1.19s/it]\n",
      "Epochs 4: 702it [06:03,  1.93it/s]\n",
      "/opt/anaconda3/envs/eyra-rank/lib/python3.11/site-packages/torch/nn/modules/lazy.py:181: UserWarning: Lazy modules are a new feature under heavy development so changes to the API or functionality can happen at any moment.\n",
      "  warnings.warn('Lazy modules are a new feature under heavy development '\n",
      "Epochs 0: 50it [00:34,  1.45it/s]\n",
      "Epochs 1: 50it [00:35,  1.42it/s]\n",
      "Epochs 2: 50it [00:34,  1.45it/s]\n",
      "Epochs 3: 50it [00:34,  1.45it/s]\n",
      "Epochs 4: 50it [00:35,  1.43it/s]\n",
      "Epochs 5: 50it [00:34,  1.43it/s]\n",
      "Epochs 6: 50it [00:34,  1.44it/s]\n",
      "Epochs 7: 50it [00:34,  1.44it/s]\n",
      "Epochs 8: 50it [00:35,  1.41it/s]\n",
      "Epochs 9: 50it [00:34,  1.46it/s]\n"
     ]
    },
    {
     "name": "stdout",
     "output_type": "stream",
     "text": [
      "750\n"
     ]
    },
    {
     "name": "stderr",
     "output_type": "stream",
     "text": [
      "/Users/lmmi/fertility-prediction-challenge/data_processing/pipeline.py:21: SettingWithCopyWarning: \n",
      "A value is trying to be set on a copy of a slice from a DataFrame.\n",
      "Try using .loc[row_indexer,col_indexer] = value instead\n",
      "\n",
      "See the caveats in the documentation: https://pandas.pydata.org/pandas-docs/stable/user_guide/indexing.html#returning-a-view-versus-a-copy\n",
      "  codebook[\"pairs\"] = codebook['var_name'].apply(get_generic_name)\n",
      "Epochs 0: 702it [08:18,  1.41it/s]\n",
      "Epochs 1: 702it [10:09,  1.15it/s]\n",
      "Epochs 2: 702it [10:21,  1.13it/s]\n",
      "Epochs 3: 702it [10:20,  1.13it/s]\n",
      "Epochs 4: 702it [10:08,  1.15it/s]\n",
      "/opt/anaconda3/envs/eyra-rank/lib/python3.11/site-packages/torch/nn/modules/lazy.py:181: UserWarning: Lazy modules are a new feature under heavy development so changes to the API or functionality can happen at any moment.\n",
      "  warnings.warn('Lazy modules are a new feature under heavy development '\n",
      "Epochs 0: 50it [00:45,  1.11it/s]\n",
      "Epochs 1: 50it [00:44,  1.12it/s]\n",
      "Epochs 2: 50it [00:43,  1.16it/s]\n",
      "Epochs 3: 50it [00:41,  1.20it/s]\n",
      "Epochs 4: 50it [00:43,  1.15it/s]\n",
      "Epochs 5: 50it [00:45,  1.11it/s]\n",
      "Epochs 6: 50it [00:44,  1.13it/s]\n",
      "Epochs 7: 50it [00:45,  1.11it/s]\n",
      "Epochs 8: 50it [00:43,  1.15it/s]\n",
      "Epochs 9: 50it [00:43,  1.14it/s]\n"
     ]
    },
    {
     "name": "stdout",
     "output_type": "stream",
     "text": [
      "1000\n"
     ]
    },
    {
     "name": "stderr",
     "output_type": "stream",
     "text": [
      "/Users/lmmi/fertility-prediction-challenge/data_processing/pipeline.py:21: SettingWithCopyWarning: \n",
      "A value is trying to be set on a copy of a slice from a DataFrame.\n",
      "Try using .loc[row_indexer,col_indexer] = value instead\n",
      "\n",
      "See the caveats in the documentation: https://pandas.pydata.org/pandas-docs/stable/user_guide/indexing.html#returning-a-view-versus-a-copy\n",
      "  codebook[\"pairs\"] = codebook['var_name'].apply(get_generic_name)\n",
      "Epochs 0: 23it [00:24,  1.06s/it]\n"
     ]
    },
    {
     "ename": "KeyboardInterrupt",
     "evalue": "",
     "output_type": "error",
     "traceback": [
      "\u001b[0;31m---------------------------------------------------------------------------\u001b[0m",
      "\u001b[0;31mKeyboardInterrupt\u001b[0m                         Traceback (most recent call last)",
      "Cell \u001b[0;32mIn[64], line 36\u001b[0m\n\u001b[1;32m     33\u001b[0m pt_scheduler \u001b[38;5;241m=\u001b[39m optim\u001b[38;5;241m.\u001b[39mlr_scheduler\u001b[38;5;241m.\u001b[39mCosineAnnealingLR(pt_optimizer, T_max \u001b[38;5;241m=\u001b[39m PT_NUM_EPOCHS, eta_min \u001b[38;5;241m=\u001b[39m \u001b[38;5;241m1e-5\u001b[39m, last_epoch \u001b[38;5;241m=\u001b[39m \u001b[38;5;241m-\u001b[39m\u001b[38;5;241m1\u001b[39m)\n\u001b[1;32m     35\u001b[0m autoencoder\u001b[38;5;241m.\u001b[39mtrain()\n\u001b[0;32m---> 36\u001b[0m \u001b[43mpretrain\u001b[49m\u001b[43m(\u001b[49m\u001b[43mpt_epochs\u001b[49m\u001b[38;5;241;43m=\u001b[39;49m\u001b[43mPT_NUM_EPOCHS\u001b[49m\u001b[43m,\u001b[49m\n\u001b[1;32m     37\u001b[0m \u001b[43m    \u001b[49m\u001b[43mtrain_dataloader\u001b[49m\u001b[38;5;241;43m=\u001b[39;49m\u001b[43mpt_dataloader\u001b[49m\u001b[43m,\u001b[49m\n\u001b[1;32m     38\u001b[0m \u001b[43m    \u001b[49m\u001b[43mautoencoder\u001b[49m\u001b[38;5;241;43m=\u001b[39;49m\u001b[43mautoencoder\u001b[49m\u001b[43m,\u001b[49m\n\u001b[1;32m     39\u001b[0m \u001b[43m    \u001b[49m\u001b[43mloss_pt\u001b[49m\u001b[38;5;241;43m=\u001b[39;49m\u001b[43mpt_loss_cls\u001b[49m\u001b[43m,\u001b[49m\n\u001b[1;32m     40\u001b[0m \u001b[43m    \u001b[49m\u001b[43moptimizer_pt\u001b[49m\u001b[38;5;241;43m=\u001b[39;49m\u001b[43mpt_optimizer\u001b[49m\u001b[43m,\u001b[49m\n\u001b[1;32m     41\u001b[0m \u001b[43m    \u001b[49m\u001b[43mscheduler_pt\u001b[49m\u001b[38;5;241;43m=\u001b[39;49m\u001b[43mpt_scheduler\u001b[49m\u001b[43m,\u001b[49m\n\u001b[1;32m     42\u001b[0m \u001b[43m    \u001b[49m\u001b[43m)\u001b[49m\n\u001b[1;32m     43\u001b[0m autoencoder\u001b[38;5;241m.\u001b[39meval()\n\u001b[1;32m     45\u001b[0m \u001b[38;5;66;03m# initialize GRU and perform fine-tuning    \u001b[39;00m\n",
      "Cell \u001b[0;32mIn[5], line 7\u001b[0m, in \u001b[0;36mpretrain\u001b[0;34m(pt_epochs, train_dataloader, autoencoder, optimizer_pt, loss_pt, scheduler_pt)\u001b[0m\n\u001b[1;32m      5\u001b[0m \u001b[38;5;28;01mfor\u001b[39;00m i, (year, seq) \u001b[38;5;129;01min\u001b[39;00m loop_object :\n\u001b[1;32m      6\u001b[0m     optimizer_pt\u001b[38;5;241m.\u001b[39mzero_grad()\n\u001b[0;32m----> 7\u001b[0m     year \u001b[38;5;241m=\u001b[39m \u001b[43myear\u001b[49m\u001b[38;5;241;43m.\u001b[39;49m\u001b[43mto\u001b[49m\u001b[43m(\u001b[49m\u001b[43mdevice\u001b[49m\u001b[43m)\u001b[49m\n\u001b[1;32m      8\u001b[0m     seq \u001b[38;5;241m=\u001b[39m seq\u001b[38;5;241m.\u001b[39mto(device)\n\u001b[1;32m     10\u001b[0m     x \u001b[38;5;241m=\u001b[39m autoencoder(year, seq)\n",
      "\u001b[0;31mKeyboardInterrupt\u001b[0m: "
     ]
    }
   ],
   "source": [
    "prec_list = []\n",
    "rec_list = []\n",
    "f1_list = []\n",
    "train_prec_list = []\n",
    "train_rec_list = []\n",
    "train_f1_list = []\n",
    "\n",
    "n_question_list = []\n",
    "n_col_list = []\n",
    "\n",
    "train_person_ids, test_person_ids = train_test_split(targets['nomem_encr'], test_size=0.2, random_state=42)\n",
    "\n",
    "for n_question in n_questions:\n",
    "    print(n_question)\n",
    "    custom_pairs = importance.iloc[:n_question].feature.map(lambda x: get_generic_name(x))\n",
    "\n",
    "    sequences = encoding_pipeline(data, codebook, custom_pairs=custom_pairs)\n",
    "    pretrain_dataset = PretrainingDataset(sequences)\n",
    "    \n",
    "\n",
    "    for rep in range(reps):\n",
    "\n",
    "        # initialize autoencoder and pretrain    \n",
    "        SEQ_LEN = pretrain_dataset.get_seq_len()\n",
    "        vocab_size = pretrain_dataset.get_vocab_size()\n",
    "\n",
    "        pt_dataloader = DataLoader(pretrain_dataset, batch_size=PT_BATCH_SIZE, shuffle=True)\n",
    "        autoencoder = SimpleAutoEncoder(vocab_size=vocab_size, embedding_size=PT_HIDDEN_DIM, sequence_len=SEQ_LEN).to(device)\n",
    "        autoencoder.train()\n",
    "        autoencoder.to(device)\n",
    "\n",
    "        pt_loss_cls = nn.CrossEntropyLoss()\n",
    "        pt_optimizer = optim.RAdam(autoencoder.parameters(), lr = PT_LEARNING_RATE, weight_decay=1e-2, decoupled_weight_decay=True)\n",
    "        pt_scheduler = optim.lr_scheduler.CosineAnnealingLR(pt_optimizer, T_max = PT_NUM_EPOCHS, eta_min = 1e-5, last_epoch = -1)\n",
    "\n",
    "        autoencoder.train()\n",
    "        pretrain(pt_epochs=PT_NUM_EPOCHS,\n",
    "            train_dataloader=pt_dataloader,\n",
    "            autoencoder=autoencoder,\n",
    "            loss_pt=pt_loss_cls,\n",
    "            optimizer_pt=pt_optimizer,\n",
    "            scheduler_pt=pt_scheduler,\n",
    "            )\n",
    "        autoencoder.eval()\n",
    "\n",
    "        # initialize GRU and perform fine-tuning    \n",
    "\n",
    "        rnn_data = {\n",
    "            person_id: (\n",
    "                torch.tensor([year-2007 for year, _ in wave_responses.items()]).to(device),\n",
    "                torch.tensor([wave_response for _, wave_response in wave_responses.items()]).to(device)\n",
    "                )\n",
    "                for person_id, wave_responses in sequences.items()\n",
    "        }\n",
    "\n",
    "        train_data = {person_id: rnn_data[person_id] for person_id in train_person_ids}\n",
    "        test_data = {person_id: rnn_data[person_id] for person_id in test_person_ids}\n",
    "\n",
    "        train_dataset = FinetuningDataset(train_data, targets = targets)\n",
    "        test_dataset = FinetuningDataset(test_data, targets = targets)\n",
    "\n",
    "        train_dataloader = DataLoader(train_dataset, batch_size=FT_BATCH_SIZE, shuffle=True)\n",
    "        test_dataloader  = DataLoader(test_dataset,  batch_size=FT_BATCH_SIZE)\n",
    "\n",
    "        aggregator = nn.Sequential(\n",
    "            nn.LazyInstanceNorm1d(),\n",
    "            nn.LazyLinear(FT_ENCODING_SIZE),\n",
    "            nn.LazyBatchNorm1d()).to(device)\n",
    "\n",
    "        decoder = GRUDecoder(\n",
    "            input_size=FT_ENCODING_SIZE,\n",
    "            hidden_size=FT_HIDDEN_SIZE,\n",
    "            max_seq_len=14,\n",
    "            dropout=0.15,\n",
    "            bidirectional= False, \n",
    "            num_layers=2,\n",
    "            with_attention= True\n",
    "        ).to(device)\n",
    "\n",
    "        # Define loss function and optimizer for RNN\n",
    "        ft_loss = torch.nn.BCELoss()\n",
    "        ft_optimizer = torch.optim.RAdam(list(decoder.parameters()) + list(autoencoder.parameters()) + list(aggregator.parameters()) , \n",
    "                                                                           lr=FT_LEARNING_RATE, \n",
    "                                                                           weight_decay=1e-3, \n",
    "                                                                           decoupled_weight_decay=True)\n",
    "        ft_scheduler = optim.lr_scheduler.CosineAnnealingLR(ft_optimizer, T_max = FT_NUM_EPOCHS, eta_min = 1e-6, last_epoch = -1)\n",
    "\n",
    "        # Training loop\n",
    "        decoder.train()\n",
    "        aggregator.train()\n",
    "        \n",
    "        NUM_COLS = next(iter(train_dataloader))[0][1].shape[-1]\n",
    "        finetune(\n",
    "            num_epochs_ft=FT_NUM_EPOCHS,\n",
    "            train_dataloader=train_dataloader,\n",
    "            autoencoder=autoencoder,\n",
    "            ft_loss=ft_loss,\n",
    "            ft_optimizer=ft_optimizer,\n",
    "            decoder=decoder,\n",
    "            aggregator=aggregator,\n",
    "            num_cols=NUM_COLS\n",
    "        )\n",
    "        \n",
    "        precision, recall, f1, map_roc = evaluate(dataloader=test_dataloader,\n",
    "                                                encoder=autoencoder,\n",
    "                                                decoder=decoder,\n",
    "                                                num_cols=NUM_COLS,\n",
    "                                                aggregator=aggregator)\n",
    "        precision_train, recall_train, f1_train, map_roc_train = evaluate(dataloader=train_dataloader,\n",
    "                                                                          encoder=autoencoder,\n",
    "                                                                          decoder=decoder,\n",
    "                                                                          num_cols=NUM_COLS,\n",
    "                                                                          aggregator=aggregator\n",
    "                                                                          )\n",
    "        \n",
    "        prec_list.append(precision)\n",
    "        rec_list.append(recall)\n",
    "        f1_list.append(f1)\n",
    "\n",
    "        train_prec_list.append(precision_train)\n",
    "        train_rec_list.append(recall_train)\n",
    "        train_f1_list.append(f1_train)\n",
    "        \n",
    "        n_question_list.append(n_question)\n",
    "        n_col_list.append(NUM_COLS)"
   ]
  },
  {
   "cell_type": "code",
   "execution_count": 70,
   "id": "7c81284a",
   "metadata": {},
   "outputs": [
    {
     "data": {
      "text/html": [
       "<div>\n",
       "<style scoped>\n",
       "    .dataframe tbody tr th:only-of-type {\n",
       "        vertical-align: middle;\n",
       "    }\n",
       "\n",
       "    .dataframe tbody tr th {\n",
       "        vertical-align: top;\n",
       "    }\n",
       "\n",
       "    .dataframe thead th {\n",
       "        text-align: right;\n",
       "    }\n",
       "</style>\n",
       "<table border=\"1\" class=\"dataframe\">\n",
       "  <thead>\n",
       "    <tr style=\"text-align: right;\">\n",
       "      <th></th>\n",
       "      <th>Precision_test</th>\n",
       "      <th>Recall_test</th>\n",
       "      <th>f1_test</th>\n",
       "      <th>Precision_train</th>\n",
       "      <th>Recall_train</th>\n",
       "      <th>f1_train</th>\n",
       "      <th>n_questions</th>\n",
       "    </tr>\n",
       "  </thead>\n",
       "  <tbody>\n",
       "    <tr>\n",
       "      <th>0</th>\n",
       "      <td>0.711111</td>\n",
       "      <td>0.64</td>\n",
       "      <td>0.673684</td>\n",
       "      <td>0.917722</td>\n",
       "      <td>0.895062</td>\n",
       "      <td>0.906250</td>\n",
       "      <td>50</td>\n",
       "    </tr>\n",
       "    <tr>\n",
       "      <th>1</th>\n",
       "      <td>0.681818</td>\n",
       "      <td>0.60</td>\n",
       "      <td>0.638298</td>\n",
       "      <td>0.821429</td>\n",
       "      <td>0.851852</td>\n",
       "      <td>0.836364</td>\n",
       "      <td>250</td>\n",
       "    </tr>\n",
       "    <tr>\n",
       "      <th>2</th>\n",
       "      <td>0.700000</td>\n",
       "      <td>0.56</td>\n",
       "      <td>0.622222</td>\n",
       "      <td>0.956790</td>\n",
       "      <td>0.956790</td>\n",
       "      <td>0.956790</td>\n",
       "      <td>500</td>\n",
       "    </tr>\n",
       "    <tr>\n",
       "      <th>3</th>\n",
       "      <td>0.777778</td>\n",
       "      <td>0.56</td>\n",
       "      <td>0.651163</td>\n",
       "      <td>0.935714</td>\n",
       "      <td>0.808642</td>\n",
       "      <td>0.867550</td>\n",
       "      <td>750</td>\n",
       "    </tr>\n",
       "  </tbody>\n",
       "</table>\n",
       "</div>"
      ],
      "text/plain": [
       "   Precision_test  Recall_test   f1_test  Precision_train  Recall_train  \\\n",
       "0        0.711111         0.64  0.673684         0.917722      0.895062   \n",
       "1        0.681818         0.60  0.638298         0.821429      0.851852   \n",
       "2        0.700000         0.56  0.622222         0.956790      0.956790   \n",
       "3        0.777778         0.56  0.651163         0.935714      0.808642   \n",
       "\n",
       "   f1_train  n_questions  \n",
       "0  0.906250           50  \n",
       "1  0.836364          250  \n",
       "2  0.956790          500  \n",
       "3  0.867550          750  "
      ]
     },
     "execution_count": 70,
     "metadata": {},
     "output_type": "execute_result"
    }
   ],
   "source": [
    "results = pd.DataFrame({\n",
    "    'Precision_test': prec_list,\n",
    "    'Recall_test': rec_list,\n",
    "    'f1_test': f1_list,\n",
    "    'Precision_train': train_prec_list,\n",
    "    'Recall_train': train_rec_list,\n",
    "    'f1_train': train_f1_list,\n",
    "    'n_questions': n_question_list\n",
    "    })\n",
    "results"
   ]
  },
  {
   "cell_type": "code",
   "execution_count": 71,
   "id": "7fe442c9",
   "metadata": {},
   "outputs": [
    {
     "data": {
      "image/png": "[encoded data removed]",
      "text/plain": [
       "<Figure size 640x480 with 1 Axes>"
      ]
     },
     "metadata": {},
     "output_type": "display_data"
    }
   ],
   "source": [
    "fig, ax = plt.subplots()\n",
    "ax.scatter(results['n_questions'], results['f1_train'], color='C0', label='Train')\n",
    "ax.scatter(results['n_questions'], results['f1_test'], color='C1', label='Test')\n",
    "plt.legend()\n",
    "plt.show()"
   ]
  },
  {
   "cell_type": "code",
   "execution_count": 75,
   "id": "f2811495",
   "metadata": {},
   "outputs": [
    {
     "data": {
      "image/png": "[encoded data removed]",
      "text/plain": [
       "<Figure size 640x480 with 1 Axes>"
      ]
     },
     "metadata": {},
     "output_type": "display_data"
    }
   ],
   "source": [
    "\n",
    "fig, ax = plt.subplots()\n",
    "ax.scatter(results['n_questions'], results['Recall_train'], color='C0', label='Train')\n",
    "ax.scatter(results['n_questions'], results['Recall_test'], color='C1', label='Test')\n",
    "plt.legend()\n",
    "plt.show()"
   ]
  },
  {
   "cell_type": "code",
   "execution_count": 49,
   "id": "81689adc",
   "metadata": {},
   "outputs": [
    {
     "name": "stdout",
     "output_type": "stream",
     "text": [
      "torch.Size([16, 14, 385])\n",
      "torch.Size([224, 385])\n"
     ]
    }
   ],
   "source": [
    "\n",
    "batch = next(iter(train_dataloader))        \n",
    "\n",
    "inputs, labels = batch\n",
    "\n",
    "input_year, input_seq = inputs\n",
    "bs, ss = labels.size(0), 14\n",
    "print(input_seq.shape)\n",
    "input_seq = input_seq.reshape(bs * ss, -1)\n",
    "\n",
    "print(input_seq.shape)\n"
   ]
  },
  {
   "cell_type": "code",
   "execution_count": 52,
   "id": "82683721",
   "metadata": {},
   "outputs": [
    {
     "data": {
      "text/plain": [
       "385"
      ]
     },
     "execution_count": 52,
     "metadata": {},
     "output_type": "execute_result"
    }
   ],
   "source": [
    "next(iter(train_dataloader))[0][1].shape[-1]\n"
   ]
  },
  {
   "cell_type": "code",
   "execution_count": null,
   "id": "1b43723e",
   "metadata": {},
   "outputs": [],
   "source": []
  }
 ],
 "metadata": {
  "kernelspec": {
   "display_name": "PreFer",
   "language": "python",
   "name": "python3"
  },
  "language_info": {
   "codemirror_mode": {
    "name": "ipython",
    "version": 3
   },
   "file_extension": ".py",
   "mimetype": "text/x-python",
   "name": "python",
   "nbconvert_exporter": "python",
   "pygments_lexer": "ipython3",
   "version": "3.10.7"
  }
 },
 "nbformat": 4,
 "nbformat_minor": 5
}
