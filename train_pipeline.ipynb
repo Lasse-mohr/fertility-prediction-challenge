{
 "cells": [
  {
   "cell_type": "code",
   "execution_count": 1,
   "id": "c9914262-7a3e-4e3a-9e07-043d40efd79b",
   "metadata": {},
   "outputs": [],
   "source": [
    "import pandas as pd\n",
    "import numpy as np\n",
    "import torch\n",
    "import torch.nn as nn\n",
    "import torch.optim as optim\n",
    "from torch.utils.data import DataLoader\n",
    "\n",
    "from sklearn.model_selection import train_test_split\n",
    "\n",
    "from model.rnn import GRUDecoder\n",
    "from model.autoencoder import AutoEncoder\n",
    "from data_processing.pipeline import encoding_pipeline"
   ]
  },
  {
   "cell_type": "code",
   "execution_count": 2,
   "id": "18aee1dd-7884-40e7-be05-db070f1a452c",
   "metadata": {},
   "outputs": [
    {
     "name": "stdout",
     "output_type": "stream",
     "text": [
      "Using MPS (Metal Performance Shaders) device\n"
     ]
    }
   ],
   "source": [
    "def get_device():\n",
    "    # Check if CUDA is available\n",
    "    if torch.cuda.is_available():\n",
    "        # If CUDA is available, select the first CUDA device\n",
    "        device = torch.device(\"cuda:0\")\n",
    "        print(\"Using CUDA device:\", torch.cuda.get_device_name(0))\n",
    "    # Check for MPS availability on supported macOS devices (requires PyTorch 1.12 or newer)\n",
    "    elif torch.backends.mps.is_available():\n",
    "        # If MPS is available, use MPS device\n",
    "        device = torch.device(\"mps\")\n",
    "        print(\"Using MPS (Metal Performance Shaders) device\")\n",
    "    else:\n",
    "        # Fallback to CPU if neither CUDA nor MPS is available\n",
    "        device = torch.device(\"cpu\")\n",
    "        print(\"Using CPU\")\n",
    "    return device\n",
    "device = get_device()"
   ]
  },
  {
   "cell_type": "markdown",
   "id": "83b651aa-752a-4c71-990a-332ff4099791",
   "metadata": {},
   "source": [
    "# Read the data\n",
    "\n",
    "Right now the notebook is set to work with fake data. This can be changed once the pipeline works.\n",
    "\n",
    "The data is stored as a Dict[person_id, Sequences] where Sequences is a Dict[year, survery_wave_response]"
   ]
  },
  {
   "cell_type": "code",
   "execution_count": 3,
   "id": "42c3f871-21e8-418c-9aa7-31ad09283a24",
   "metadata": {},
   "outputs": [],
   "source": [
    "# read in data and prepare transformations\n",
    "data = pd.read_csv('data/other_data/PreFer_fake_data.csv')\n",
    "targets = pd.read_csv('data/other_data/PreFer_fake_outcome.csv')\n",
    "codebook = pd.read_csv('data/codebooks/PreFer_codebook.csv')"
   ]
  },
  {
   "cell_type": "code",
   "execution_count": 4,
   "id": "2d165d92",
   "metadata": {},
   "outputs": [],
   "source": [
    "sequences = encoding_pipeline(data, codebook)"
   ]
  },
  {
   "cell_type": "markdown",
   "id": "f3ddb66e-cba5-4bb9-854d-811d49599b93",
   "metadata": {},
   "source": [
    "# Train the autoencoder"
   ]
  },
  {
   "cell_type": "code",
   "execution_count": 5,
   "id": "3d9275bc",
   "metadata": {},
   "outputs": [],
   "source": [
    "from model.dataset import PretrainingDataset\n",
    "\n",
    "pretrain_dataset = PretrainingDataset(sequences)"
   ]
  },
  {
   "cell_type": "code",
   "execution_count": 6,
   "id": "a8544475-54af-4874-9e83-7f39193eb651",
   "metadata": {},
   "outputs": [
    {
     "name": "stderr",
     "output_type": "stream",
     "text": [
      "/Users/carlomarx/Library/Python/3.9/lib/python/site-packages/torch/nn/modules/lazy.py:181: UserWarning: Lazy modules are a new feature under heavy development so changes to the API or functionality can happen at any moment.\n",
      "  warnings.warn('Lazy modules are a new feature under heavy development '\n",
      "/Users/carlomarx/Library/Python/3.9/lib/python/site-packages/urllib3/__init__.py:35: NotOpenSSLWarning: urllib3 v2 only supports OpenSSL 1.1.1+, currently the 'ssl' module is compiled with 'LibreSSL 2.8.3'. See: https://github.com/urllib3/urllib3/issues/3020\n",
      "  warnings.warn(\n",
      "/Users/carlomarx/Library/Python/3.9/lib/python/site-packages/tqdm/auto.py:21: TqdmWarning: IProgress not found. Please update jupyter and ipywidgets. See https://ipywidgets.readthedocs.io/en/stable/user_install.html\n",
      "  from .autonotebook import tqdm as notebook_tqdm\n"
     ]
    }
   ],
   "source": [
    "### Initialization of the Autoencoder \n",
    "HIDDEN_DIM = 256\n",
    "ENCODING_SIZE = 128\n",
    "BATCH_SIZE = 16\n",
    "num_epochs_autoencoder = 100\n",
    "learning_rate_autoencoder = 1e-3\n",
    "\n",
    "SEQ_LEN = pretrain_dataset.get_seq_len()\n",
    "vocab_size = pretrain_dataset.get_vocab_size()\n",
    "\n",
    "train_dataloader = DataLoader(pretrain_dataset, batch_size=BATCH_SIZE, shuffle=True)\n",
    "autoencoder = AutoEncoder(vocab_size=vocab_size, embedding_size=HIDDEN_DIM, encoding_size=ENCODING_SIZE, sequence_len=SEQ_LEN).to(device)\n",
    "\n",
    "loss_f1 = nn.HuberLoss(delta=1.0)\n",
    "loss_cls = nn.CrossEntropyLoss(label_smoothing=0.1)\n",
    "loss_cos = nn.CosineEmbeddingLoss()\n",
    "optimizer = optim.RAdam( autoencoder.parameters(), lr = learning_rate_autoencoder, weight_decay=1e-3, decoupled_weight_decay=True)\n",
    "scheduler = optim.lr_scheduler.CosineAnnealingLR(optimizer, T_max = num_epochs_autoencoder, eta_min = 1e-6, last_epoch = -1)"
   ]
  },
  {
   "cell_type": "code",
   "execution_count": 7,
   "id": "8be77146-e5b0-4a06-9d9e-d651c88d32a5",
   "metadata": {},
   "outputs": [
    {
     "name": "stdout",
     "output_type": "stream",
     "text": [
      "epoch 0 \t Loss: 11.83 and LR: 0.00099975\n",
      "epoch 1 \t Loss: 5.751 and LR: 0.00099901\n",
      "epoch 2 \t Loss: 4.458 and LR: 0.00099778\n",
      "epoch 3 \t Loss: 3.982 and LR: 0.00099606\n",
      "epoch 4 \t Loss: 3.726 and LR: 0.00099385\n",
      "epoch 5 \t Loss: 3.563 and LR: 0.00099115\n",
      "epoch 6 \t Loss: 3.461 and LR: 0.00098797\n",
      "epoch 7 \t Loss: 3.382 and LR: 0.00098431\n",
      "epoch 8 \t Loss: 3.322 and LR: 0.00098017\n",
      "epoch 9 \t Loss: 3.27 and LR: 0.00097555\n",
      "epoch 10 \t Loss: 3.227 and LR: 0.00097047\n",
      "epoch 11 \t Loss: 3.191 and LR: 0.00096492\n",
      "epoch 12 \t Loss: 3.148 and LR: 0.00095892\n",
      "epoch 13 \t Loss: 3.102 and LR: 0.00095246\n",
      "epoch 14 \t Loss: 3.064 and LR: 0.00094556\n",
      "epoch 15 \t Loss: 3.026 and LR: 0.00093822\n",
      "epoch 16 \t Loss: 2.991 and LR: 0.00093044\n",
      "epoch 17 \t Loss: 2.961 and LR: 0.00092224\n",
      "epoch 18 \t Loss: 2.935 and LR: 0.00091363\n",
      "epoch 19 \t Loss: 2.915 and LR: 0.0009046\n",
      "epoch 20 \t Loss: 2.888 and LR: 0.00089518\n",
      "epoch 21 \t Loss: 2.865 and LR: 0.00088537\n",
      "epoch 22 \t Loss: 2.855 and LR: 0.00087518\n",
      "epoch 23 \t Loss: 2.809 and LR: 0.00086462\n",
      "epoch 24 \t Loss: 2.779 and LR: 0.0008537\n",
      "epoch 25 \t Loss: 2.764 and LR: 0.00084243\n",
      "epoch 26 \t Loss: 2.729 and LR: 0.00083083\n",
      "epoch 27 \t Loss: 2.713 and LR: 0.00081889\n",
      "epoch 28 \t Loss: 2.696 and LR: 0.00080665\n",
      "epoch 29 \t Loss: 2.678 and LR: 0.0007941\n",
      "epoch 30 \t Loss: 2.669 and LR: 0.00078126\n",
      "epoch 31 \t Loss: 2.652 and LR: 0.00076815\n",
      "epoch 32 \t Loss: 2.64 and LR: 0.00075477\n",
      "epoch 33 \t Loss: 2.611 and LR: 0.00074114\n",
      "epoch 34 \t Loss: 2.603 and LR: 0.00072727\n",
      "epoch 35 \t Loss: 2.608 and LR: 0.00071318\n",
      "epoch 36 \t Loss: 2.577 and LR: 0.00069888\n",
      "epoch 37 \t Loss: 2.552 and LR: 0.00068438\n"
     ]
    },
    {
     "ename": "KeyboardInterrupt",
     "evalue": "",
     "output_type": "error",
     "traceback": [
      "\u001b[0;31m---------------------------------------------------------------------------\u001b[0m",
      "\u001b[0;31mKeyboardInterrupt\u001b[0m                         Traceback (most recent call last)",
      "Cell \u001b[0;32mIn[7], line 9\u001b[0m\n\u001b[1;32m      7\u001b[0m \u001b[38;5;28;01mfor\u001b[39;00m year, seq \u001b[38;5;129;01min\u001b[39;00m train_dataloader:\n\u001b[1;32m      8\u001b[0m     optimizer\u001b[38;5;241m.\u001b[39mzero_grad()\n\u001b[0;32m----> 9\u001b[0m     year \u001b[38;5;241m=\u001b[39m \u001b[43myear\u001b[49m\u001b[38;5;241;43m.\u001b[39;49m\u001b[43mto\u001b[49m\u001b[43m(\u001b[49m\u001b[43mdevice\u001b[49m\u001b[43m)\u001b[49m\n\u001b[1;32m     10\u001b[0m     seq \u001b[38;5;241m=\u001b[39m seq\u001b[38;5;241m.\u001b[39mto(device)\n\u001b[1;32m     12\u001b[0m     x1, x2 \u001b[38;5;241m=\u001b[39m autoencoder(year, seq)\n",
      "\u001b[0;31mKeyboardInterrupt\u001b[0m: "
     ]
    }
   ],
   "source": [
    "autoencoder.train()\n",
    "# device = torch.device(\"cpu\") # mps is not working for Me (Mikkel)\n",
    "autoencoder.to(device)\n",
    "loss_metric = []\n",
    "for epoch in range(num_epochs_autoencoder):\n",
    "    loss_epoch_metric = []\n",
    "    for year, seq in train_dataloader:\n",
    "        optimizer.zero_grad()\n",
    "        year = year.to(device)\n",
    "        seq = seq.to(device)\n",
    "\n",
    "        x1, x2 = autoencoder(year, seq)\n",
    "        loss = loss_cls(x2.permute(0,2,1), seq.long()) + loss_cos(x1.reshape(x1.size(1) * x1.size(0), -1 ), \n",
    "                                                                autoencoder.embedding(year, seq).view(x1.size(1) * x1.size(0), -1), \n",
    "                                                                torch.ones(seq.size(0) * seq.size(1)).to(device))\n",
    "         #+ 0.7 * loss_f1(x1, autoencoder.embedding(year, seq)) +  \n",
    "        loss_epoch_metric.append(loss.detach().cpu().numpy())\n",
    "        loss.backward()\n",
    "        optimizer.step()\n",
    "    ## After epoch end\n",
    "    scheduler.step()\n",
    "    loss_metric.append(np.mean(loss_epoch_metric))\n",
    "    print(f'epoch {epoch} \\t Loss: {loss_metric[-1]:.4g} and LR: {scheduler.get_last_lr()[0]:.5g}')"
   ]
  },
  {
   "cell_type": "code",
   "execution_count": 7,
   "id": "9ec81623",
   "metadata": {},
   "outputs": [],
   "source": [
    "torch.save(autoencoder.state_dict(), 'weights/autoencoder_10_05.pt')"
   ]
  },
  {
   "cell_type": "code",
   "execution_count": 8,
   "id": "b8118b33",
   "metadata": {},
   "outputs": [],
   "source": [
    "import umap\n",
    "import matplotlib.pyplot as plt"
   ]
  },
  {
   "cell_type": "code",
   "execution_count": 10,
   "id": "43bf0a6c",
   "metadata": {},
   "outputs": [
    {
     "name": "stderr",
     "output_type": "stream",
     "text": [
      "OMP: Info #276: omp_set_nested routine deprecated, please use omp_set_max_active_levels instead.\n"
     ]
    }
   ],
   "source": [
    "w = autoencoder.embedding.answer_embedding.weight.detach().cpu().numpy()\n",
    "projector = umap.UMAP(n_components=2)\n",
    "wp = projector.fit_transform(w)"
   ]
  },
  {
   "cell_type": "code",
   "execution_count": 11,
   "id": "26e1885b",
   "metadata": {},
   "outputs": [
    {
     "data": {
      "text/plain": [
       "(2068, 2)"
      ]
     },
     "execution_count": 11,
     "metadata": {},
     "output_type": "execute_result"
    }
   ],
   "source": [
    "wp.shape"
   ]
  },
  {
   "cell_type": "code",
   "execution_count": 12,
   "id": "a05e6eb1",
   "metadata": {},
   "outputs": [
    {
     "data": {
      "text/plain": [
       "<matplotlib.collections.PathCollection at 0x3895561f0>"
      ]
     },
     "execution_count": 12,
     "metadata": {},
     "output_type": "execute_result"
    },
    {
     "data": {
      "image/png": "[encoded data removed]",
      "text/plain": [
       "<Figure size 640x480 with 1 Axes>"
      ]
     },
     "metadata": {},
     "output_type": "display_data"
    }
   ],
   "source": [
    "plt.scatter(wp[:,0], wp[:,1])"
   ]
  },
  {
   "cell_type": "markdown",
   "id": "ada8018b-7ebc-4db4-aadf-191b214b1470",
   "metadata": {},
   "source": [
    "# Train the RNN\n",
    "\n",
    "First we need to create Dataset class that can hold both the target (stored in a pd.DataFrame) and the sequences.\n",
    "\n",
    "The sequences will be of dimension 14 x encoding_dimension, because we have 14 years of surveys.\n",
    "\n",
    "I have created some code for getting the data into the right format, but it might not be useful.\n",
    "\n",
    "## Regarding masks\n",
    "Right now the masking is done already in the encoding. I haven't found exactly where Mikkel implemented this.\n",
    "So for now, assume that nothing is padded, and then we'll figure it out with Mikkel."
   ]
  },
  {
   "cell_type": "code",
   "execution_count": 7,
   "id": "af1786da-d2b5-4e1f-81f6-1db7bca5515b",
   "metadata": {},
   "outputs": [],
   "source": [
    "# its not everyone we have a target for, so we do restrict the data to \n",
    "# the ones with known outcomes\n",
    "\n",
    "train_person_ids, test_person_ids = train_test_split(targets['nomem_encr'], test_size=0.2, random_state=42)"
   ]
  },
  {
   "cell_type": "code",
   "execution_count": 8,
   "id": "317ed83d-0d05-4404-92cb-16889c744519",
   "metadata": {},
   "outputs": [],
   "source": [
    "# structure the data as a Dict[person_id, survey_embedding_sequence] \n",
    "# where survey_embedding_sequence is a tensor of size 14 x embedding_dimension\n",
    "#rnn_data = {person_id:\n",
    "#                    autoencoder(\n",
    "#                        torch.tensor(\n",
    "#                            [year-2007 for year, _ in wave_responses.items()]\n",
    "#                        ).to(device),\n",
    "##                        torch.tensor(\n",
    " #                           [ wave_response for _, wave_response in wave_responses.items()]\n",
    "##                        ).to(device),\n",
    "# #                       encode_only=True,\n",
    "#                    )\n",
    "#                for person_id, wave_responses in sequences.items()\n",
    "#            }"
   ]
  },
  {
   "cell_type": "code",
   "execution_count": null,
   "id": "b2d87555",
   "metadata": {},
   "outputs": [],
   "source": []
  },
  {
   "cell_type": "code",
   "execution_count": 13,
   "id": "754d624a",
   "metadata": {},
   "outputs": [],
   "source": [
    "rnn_data = {person_id: (\n",
    "        torch.tensor([year-2007 for year, _ in wave_responses.items()]).to(device),\n",
    "        torch.tensor([ wave_response for _, wave_response in wave_responses.items()]).to(device)\n",
    "        )\n",
    "        for person_id, wave_responses in sequences.items()\n",
    "}"
   ]
  },
  {
   "cell_type": "code",
   "execution_count": 14,
   "id": "3eaadc01-1e81-4727-b7f4-f14823463fc4",
   "metadata": {},
   "outputs": [],
   "source": [
    "# split data based on the splits made for the target\n",
    "train_data = {person_id: rnn_data[person_id] for person_id in train_person_ids}\n",
    "test_data = {person_id: rnn_data[person_id] for person_id in test_person_ids}\n"
   ]
  },
  {
   "cell_type": "code",
   "execution_count": 16,
   "id": "6d85edc9-8457-439f-8fe9-fbd94eb9b466",
   "metadata": {},
   "outputs": [],
   "source": [
    "from model.dataset import FinetuningDataset\n",
    "train_dataset = FinetuningDataset(train_data, targets = targets)\n",
    "test_dataset = FinetuningDataset(test_data, targets = targets)\n",
    "\n",
    "rnn_batch_size = 16\n",
    "\n",
    "train_dataloader = DataLoader(train_dataset, batch_size=rnn_batch_size, shuffle=True)\n",
    "test_dataloader  = DataLoader(test_dataset,  batch_size=rnn_batch_size)"
   ]
  },
  {
   "cell_type": "code",
   "execution_count": 83,
   "id": "caf49964",
   "metadata": {},
   "outputs": [
    {
     "name": "stdout",
     "output_type": "stream",
     "text": [
      "The model is going to set all input MASK to None\n",
      "Ready!\n"
     ]
    }
   ],
   "source": [
    "# ft - fine-tuning\n",
    "\n",
    "HIDDEN_SIZE = 24\n",
    "\n",
    "num_epochs_ft = 40\n",
    "learning_rate_ft = 5e-4\n",
    "\n",
    "rnn_model = GRUDecoder(\n",
    "    input_size=ENCODING_SIZE,\n",
    "    hidden_size=HIDDEN_SIZE,\n",
    "    max_seq_len=14\n",
    ").to(device)\n",
    "\n",
    "# Define loss function and optimizer for RNN\n",
    "ft_loss = torch.nn.BCELoss()\n",
    "ft_optimizer = torch.optim.RAdam(list(rnn_model.parameters()) +list(autoencoder.parameters()) , lr=learning_rate_ft, weight_decay=1e-3, decoupled_weight_decay=True)\n",
    "ft_scheduler = optim.lr_scheduler.CosineAnnealingLR(ft_optimizer, T_max = num_epochs_ft, eta_min = 1e-6, last_epoch = -1)\n",
    "\n",
    "# Training loop\n",
    "rnn_model.train()\n",
    "autoencoder.train()\n",
    "print(\"Ready!\")"
   ]
  },
  {
   "cell_type": "code",
   "execution_count": 84,
   "id": "82cf1777-49e7-462d-ae51-549ea6c8305e",
   "metadata": {},
   "outputs": [
    {
     "name": "stdout",
     "output_type": "stream",
     "text": [
      "0\n",
      "Epoch 1/40, Loss: 0.7528\n",
      "1\n",
      "Epoch 2/40, Loss: 1.7066\n",
      "2\n",
      "Epoch 3/40, Loss: 1.3687\n",
      "3\n",
      "Epoch 4/40, Loss: 1.3773\n",
      "4\n",
      "Epoch 5/40, Loss: 1.4083\n",
      "5\n"
     ]
    },
    {
     "ename": "KeyboardInterrupt",
     "evalue": "",
     "output_type": "error",
     "traceback": [
      "\u001b[0;31m---------------------------------------------------------------------------\u001b[0m",
      "\u001b[0;31mKeyboardInterrupt\u001b[0m                         Traceback (most recent call last)",
      "Cell \u001b[0;32mIn[84], line 8\u001b[0m\n\u001b[1;32m      6\u001b[0m ft_optimizer\u001b[38;5;241m.\u001b[39mzero_grad() \n\u001b[1;32m      7\u001b[0m inputs, labels \u001b[38;5;241m=\u001b[39m batch\n\u001b[0;32m----> 8\u001b[0m labels \u001b[38;5;241m=\u001b[39m \u001b[43mlabels\u001b[49m\u001b[38;5;241;43m.\u001b[39;49m\u001b[43mto\u001b[49m\u001b[43m(\u001b[49m\u001b[43mtorch\u001b[49m\u001b[38;5;241;43m.\u001b[39;49m\u001b[43mfloat\u001b[49m\u001b[43m)\u001b[49m\u001b[38;5;241;43m.\u001b[39;49m\u001b[43mto\u001b[49m\u001b[43m(\u001b[49m\u001b[43mdevice\u001b[49m\u001b[43m)\u001b[49m\n\u001b[1;32m     10\u001b[0m input_year, input_seq \u001b[38;5;241m=\u001b[39m inputs\n\u001b[1;32m     11\u001b[0m bs, ss \u001b[38;5;241m=\u001b[39m labels\u001b[38;5;241m.\u001b[39msize(\u001b[38;5;241m0\u001b[39m), \u001b[38;5;241m14\u001b[39m\n",
      "\u001b[0;31mKeyboardInterrupt\u001b[0m: "
     ]
    }
   ],
   "source": [
    "loss_per_epoch = []\n",
    "for epoch in range(num_epochs_ft):\n",
    "    print(epoch)\n",
    "    loss_per_step = []\n",
    "    for batch in train_dataloader:\n",
    "        ft_optimizer.zero_grad() \n",
    "        inputs, labels = batch\n",
    "        labels = labels.to(torch.float).to(device)\n",
    "\n",
    "        input_year, input_seq = inputs\n",
    "        bs, ss = labels.size(0), 14\n",
    "        input_year = input_year.reshape(-1).to(device)\n",
    "        input_seq = input_seq.reshape(bs * ss, -1).to(device)\n",
    "\n",
    "        survey_embeddings = autoencoder(input_year, input_seq, encode_only = True).view(bs,ss, -1)\n",
    "\n",
    "\n",
    "\n",
    "        # Forward pass\n",
    "        xx = rnn_model(survey_embeddings)\n",
    "        outputs = torch.nn.functional.sigmoid(xx)\n",
    "\n",
    "        loss = ft_loss(torch.flatten(outputs), labels)  \n",
    "        loss_per_step.append(loss.detach().cpu().numpy())\n",
    "\n",
    "        #loss.backward(retain_graph=True)\n",
    "        loss.backward()\n",
    "        ft_optimizer.step()\n",
    "    # On epoch end\n",
    "    loss_per_epoch.append(np.mean(loss_per_step))\n",
    "    ft_scheduler.step()\n",
    "\n",
    "    print(f\"Epoch {epoch+1}/{num_epochs_ft}, Loss: {loss_per_epoch[-1]:.4f}\")\n",
    "    "
   ]
  },
  {
   "cell_type": "code",
   "execution_count": null,
   "id": "649bc948",
   "metadata": {},
   "outputs": [],
   "source": []
  },
  {
   "cell_type": "code",
   "execution_count": 29,
   "id": "f7189352-db53-419f-a6e2-60c517ba587d",
   "metadata": {},
   "outputs": [],
   "source": [
    "import torch\n",
    "from sklearn.metrics import precision_recall_fscore_support\n",
    "\n",
    "def evaluate_model(model, dataloader):\n",
    "    model.eval()  # Set the model to evaluation mode\n",
    "    predictions, actuals = [], []\n",
    "    \n",
    "    with torch.no_grad():\n",
    "        for batch in dataloader:\n",
    "            inputs, labels = batch\n",
    "            inputs, labels = inputs.to(device), labels.to(torch.float).to(device)\n",
    "            \n",
    "            # Forward pass\n",
    "            outputs = model(inputs)\n",
    "            outputs = torch.nn.functional.sigmoid(outputs)\n",
    "            \n",
    "            # Convert outputs to binary predictions\n",
    "            predicted_labels = (outputs > 0.5).float()  # Threshold predictions\n",
    "            print(labels)\n",
    "            print(predicted_labels.flatten())\n",
    "            print('')\n",
    "            \n",
    "            # Store predictions and actual labels\n",
    "            predictions.append(predicted_labels.flatten())\n",
    "            actuals.append(labels.flatten())\n",
    "    \n",
    "    # Concatenate all the batches\n",
    "    predictions = torch.cat(predictions)\n",
    "    actuals = torch.cat(actuals)\n",
    "    \n",
    "    # Calculate precision, recall, and F1 score\n",
    "    precision, recall, f1, _ = precision_recall_fscore_support(actuals.cpu().numpy(), predictions.cpu().numpy(), average='binary')\n",
    "    \n",
    "    return precision, recall, f1\n"
   ]
  },
  {
   "cell_type": "code",
   "execution_count": 30,
   "id": "2ac372ff-89b4-49e4-b634-be5d6d8c356e",
   "metadata": {},
   "outputs": [
    {
     "name": "stdout",
     "output_type": "stream",
     "text": [
      "tensor([0., 0., 0., 1., 0., 1.], device='mps:0')\n",
      "tensor([0., 0., 0., 0., 0., 0.], device='mps:0')\n",
      "\n",
      "Precision: 0.0000\n",
      "Recall: 0.0000\n",
      "F1 Score: 0.0000\n"
     ]
    },
    {
     "name": "stderr",
     "output_type": "stream",
     "text": [
      "/Users/carlomarx/Library/Python/3.9/lib/python/site-packages/sklearn/metrics/_classification.py:1509: UndefinedMetricWarning: Precision is ill-defined and being set to 0.0 due to no predicted samples. Use `zero_division` parameter to control this behavior.\n",
      "  _warn_prf(average, modifier, f\"{metric.capitalize()} is\", len(result))\n"
     ]
    }
   ],
   "source": [
    "precision, recall, f1 = evaluate_model(rnn_model, test_dataloader)\n",
    "print(f\"Precision: {precision:.4f}\")\n",
    "print(f\"Recall: {recall:.4f}\")\n",
    "print(f\"F1 Score: {f1:.4f}\")"
   ]
  },
  {
   "cell_type": "code",
   "execution_count": null,
   "id": "af18cbb7-5f65-4aa6-a30a-f28fb3afc4f8",
   "metadata": {},
   "outputs": [],
   "source": []
  }
 ],
 "metadata": {
  "kernelspec": {
   "display_name": "Python 3",
   "language": "python",
   "name": "python3"
  },
  "language_info": {
   "codemirror_mode": {
    "name": "ipython",
    "version": 3
   },
   "file_extension": ".py",
   "mimetype": "text/x-python",
   "name": "python",
   "nbconvert_exporter": "python",
   "pygments_lexer": "ipython3",
   "version": "3.9.6"
  }
 },
 "nbformat": 4,
 "nbformat_minor": 5
}
