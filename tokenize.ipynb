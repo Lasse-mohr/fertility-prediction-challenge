{
 "cells": [
  {
   "cell_type": "code",
   "execution_count": 2,
   "metadata": {},
   "outputs": [],
   "source": [
    "import pandas as pd\n",
    "from data_processing.encoding.categorical import CategoricalTransformer\n",
    "from data_processing.encoding.numeric_and_date import ToQuantileTransformer\n",
    "from data_processing.encoding.text2vec import TextTransform"
   ]
  },
  {
   "cell_type": "markdown",
   "metadata": {},
   "source": [
    "Load relevant data"
   ]
  },
  {
   "cell_type": "code",
   "execution_count": 3,
   "metadata": {},
   "outputs": [],
   "source": [
    "data = pd.read_csv('data/other_data/PreFer_fake_data.csv')\n",
    "codebook = pd.read_csv('data/codebooks/PreFer_codebook.csv')\n",
    "summary = pd.read_csv('data/codebooks/PreFer_codebook_summary.csv')"
   ]
  },
  {
   "cell_type": "markdown",
   "metadata": {},
   "source": [
    "Get the two relevant columns (Only core questions for now)"
   ]
  },
  {
   "cell_type": "code",
   "execution_count": 4,
   "metadata": {},
   "outputs": [],
   "source": [
    "categorical_columns = codebook[(codebook.var_name.str.startswith('c')) & (codebook.type_var == 'categorical')].var_name.tolist()\n",
    "quantile_columns = codebook[(codebook.var_name.str.startswith('c')) & ((codebook.type_var == 'numeric') | (codebook.type_var == 'date or time'))].var_name.tolist()"
   ]
  },
  {
   "cell_type": "code",
   "execution_count": 5,
   "metadata": {},
   "outputs": [
    {
     "name": "stderr",
     "output_type": "stream",
     "text": [
      "/Users/lmmi/fertility-prediction-challenge/data_processing/encoding/categorical.py:13: SettingWithCopyWarning: \n",
      "A value is trying to be set on a copy of a slice from a DataFrame.\n",
      "Try using .loc[row_indexer,col_indexer] = value instead\n",
      "\n",
      "See the caveats in the documentation: https://pandas.pydata.org/pandas-docs/stable/user_guide/indexing.html#returning-a-view-versus-a-copy\n",
      "  core_cat_df['values_cat'] = core_cat_df['values_cat'].str.split(\"; \").apply(lambda x: [e.strip() for e in x])\n",
      "/Users/lmmi/fertility-prediction-challenge/data_processing/encoding/categorical.py:14: SettingWithCopyWarning: \n",
      "A value is trying to be set on a copy of a slice from a DataFrame.\n",
      "Try using .loc[row_indexer,col_indexer] = value instead\n",
      "\n",
      "See the caveats in the documentation: https://pandas.pydata.org/pandas-docs/stable/user_guide/indexing.html#returning-a-view-versus-a-copy\n",
      "  core_cat_df['labels_cat'] = core_cat_df['labels_cat'].str.split(\"; \").apply(lambda x: [e.strip() for e in x])\n"
     ]
    }
   ],
   "source": [
    "cat_transform = CategoricalTransformer()\n",
    "cat_transform.fit(codebook)"
   ]
  },
  {
   "cell_type": "markdown",
   "metadata": {},
   "source": [
    "This can be changed to work on a dataframe"
   ]
  },
  {
   "cell_type": "code",
   "execution_count": 6,
   "metadata": {},
   "outputs": [],
   "source": [
    "for col in categorical_columns:\n",
    "    data[col] = cat_transform.transform(data[col])"
   ]
  },
  {
   "cell_type": "code",
   "execution_count": 7,
   "metadata": {},
   "outputs": [],
   "source": [
    "quantile_transform = ToQuantileTransformer(quantile_columns)\n",
    "quantile_transform.fit(data)\n",
    "data = quantile_transform.transform(data)"
   ]
  },
  {
   "cell_type": "markdown",
   "metadata": {},
   "source": [
    "Replace nans and set all columns to int"
   ]
  },
  {
   "cell_type": "code",
   "execution_count": 8,
   "metadata": {},
   "outputs": [],
   "source": [
    "data.fillna(101, inplace=True)\n",
    "data[quantile_columns] = data[quantile_columns].astype(int)"
   ]
  },
  {
   "cell_type": "code",
   "execution_count": 9,
   "metadata": {},
   "outputs": [
    {
     "name": "stderr",
     "output_type": "stream",
     "text": [
      "/var/folders/y6/j9fbqcvx6lb5l99614n30y4c0000gn/T/ipykernel_5158/1456275911.py:2: PerformanceWarning: DataFrame is highly fragmented.  This is usually the result of calling `frame.insert` many times, which has poor performance.  Consider joining all columns at once using pd.concat(axis=1) instead. To get a de-fragmented frame, use `newframe = frame.copy()`\n",
      "  data2['nomem_encr'] = data['nomem_encr']\n",
      "/var/folders/y6/j9fbqcvx6lb5l99614n30y4c0000gn/T/ipykernel_5158/1456275911.py:2: SettingWithCopyWarning: \n",
      "A value is trying to be set on a copy of a slice from a DataFrame.\n",
      "Try using .loc[row_indexer,col_indexer] = value instead\n",
      "\n",
      "See the caveats in the documentation: https://pandas.pydata.org/pandas-docs/stable/user_guide/indexing.html#returning-a-view-versus-a-copy\n",
      "  data2['nomem_encr'] = data['nomem_encr']\n"
     ]
    }
   ],
   "source": [
    "data2 = data[data.columns[data.columns.str.startswith('c')]]\n",
    "data2['nomem_encr'] = data['nomem_encr']"
   ]
  },
  {
   "cell_type": "code",
   "execution_count": 10,
   "metadata": {},
   "outputs": [],
   "source": [
    "from data_processing.sequences.sequencing import to_sequences\n",
    "\n",
    "sequences = to_sequences(data2, summary)"
   ]
  },
  {
   "cell_type": "code",
   "execution_count": 15,
   "metadata": {},
   "outputs": [
    {
     "data": {
      "text/plain": [
       "array(['long answer', 'answer', 'answ', 'answ', 'answer', 'answer',\n",
       "       'answer', 'answ', 'long answer', 'answ', 'answer', 'answer',\n",
       "       'answ', 'answer', 'answ', 'answer', 'answ', 'answ', 'answer',\n",
       "       'answer', 'answ', 'answ', 'answer', 'answ', 'answ', 'answer',\n",
       "       'even longer answer', 'answer', 'answer', 'answer', 'answ',\n",
       "       'answer', 'answ', 'answer', 'answer', 'answer', 'long answer',\n",
       "       'answ', 'answer', 'long answer', 'answ', 'answ', 'answ', 'answer',\n",
       "       'even longer answer', 'answ', 'answer', 'answer', 'answer',\n",
       "       'even longer answer', 'answer', 'answer', 'answ', 'answer', 'answ',\n",
       "       'answer', 'answer', 'long answer', 'answer', 'answ',\n",
       "       'even longer answer', 'answer', 'answ', 'answer', 'answer',\n",
       "       'answer', 'long answer', 'answer', 'answ', 'answ', 'answ',\n",
       "       'answer', 'even longer answer', 'answer', 'answer'], dtype='<U32')"
      ]
     },
     "execution_count": 15,
     "metadata": {},
     "output_type": "execute_result"
    }
   ],
   "source": [
    "import numpy as np\n",
    "index = np.array([isinstance(x, str) for x in sequences[700001]['08']])\n",
    "np.array(sequences[700001]['08'])[index]"
   ]
  },
  {
   "cell_type": "code",
   "execution_count": null,
   "metadata": {},
   "outputs": [],
   "source": []
  }
 ],
 "metadata": {
  "kernelspec": {
   "display_name": "Python (PreFer data expl)",
   "language": "python",
   "name": "prefer"
  },
  "language_info": {
   "codemirror_mode": {
    "name": "ipython",
    "version": 3
   },
   "file_extension": ".py",
   "mimetype": "text/x-python",
   "name": "python",
   "nbconvert_exporter": "python",
   "pygments_lexer": "ipython3",
   "version": "3.12.2"
  }
 },
 "nbformat": 4,
 "nbformat_minor": 4
}
